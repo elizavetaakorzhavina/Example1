{
 "cells": [
  {
   "cell_type": "code",
   "execution_count": 1,
   "id": "1a6858dc",
   "metadata": {},
   "outputs": [
    {
     "name": "stdout",
     "output_type": "stream",
     "text": [
      "/bin/sh: 1: python.exe: Permission denied\n",
      "\u001b[31mERROR: Could not find a version that satisfies the requirement numpy==1.26.4 (from versions: 1.3.0, 1.4.1, 1.5.0, 1.5.1, 1.6.0, 1.6.1, 1.6.2, 1.7.0, 1.7.1, 1.7.2, 1.8.0, 1.8.1, 1.8.2, 1.9.0, 1.9.1, 1.9.2, 1.9.3, 1.10.0.post2, 1.10.1, 1.10.2, 1.10.4, 1.11.0, 1.11.1, 1.11.2, 1.11.3, 1.12.0, 1.12.1, 1.13.0, 1.13.1, 1.13.3, 1.14.0, 1.14.1, 1.14.2, 1.14.3, 1.14.4, 1.14.5, 1.14.6, 1.15.0, 1.15.1, 1.15.2, 1.15.3, 1.15.4, 1.16.0, 1.16.1, 1.16.2, 1.16.3, 1.16.4, 1.16.5, 1.16.6, 1.17.0, 1.17.1, 1.17.2, 1.17.3, 1.17.4, 1.17.5, 1.18.0, 1.18.1, 1.18.2, 1.18.3, 1.18.4, 1.18.5, 1.19.0, 1.19.1, 1.19.2, 1.19.3, 1.19.4, 1.19.5, 1.20.0, 1.20.1, 1.20.2, 1.20.3, 1.21.0, 1.21.1, 1.21.2, 1.21.3, 1.21.4, 1.21.5, 1.21.6, 1.22.0, 1.22.1, 1.22.2, 1.22.3, 1.22.4, 1.23.0, 1.23.1, 1.23.2, 1.23.3, 1.23.4, 1.23.5, 1.24.0, 1.24.1, 1.24.2, 1.24.3, 1.24.4)\u001b[0m\n",
      "\u001b[31mERROR: No matching distribution found for numpy==1.26.4\u001b[0m\n",
      "Requirement already satisfied: pandas in ./.local/lib/python3.8/site-packages (2.0.3)\n",
      "Requirement already satisfied: tzdata>=2022.1 in ./.local/lib/python3.8/site-packages (from pandas) (2024.2)\n",
      "Requirement already satisfied: pytz>=2020.1 in ./.local/lib/python3.8/site-packages (from pandas) (2024.2)\n",
      "Requirement already satisfied: python-dateutil>=2.8.2 in /usr/local/lib/python3.8/dist-packages (from pandas) (2.8.2)\n",
      "Requirement already satisfied: numpy>=1.20.3; python_version < \"3.10\" in ./.local/lib/python3.8/site-packages (from pandas) (1.24.4)\n",
      "Requirement already satisfied: six>=1.5 in /usr/local/lib/python3.8/dist-packages (from python-dateutil>=2.8.2->pandas) (1.16.0)\n",
      "Requirement already satisfied: scikit-learn in ./.local/lib/python3.8/site-packages (1.3.2)\n",
      "Requirement already satisfied: scipy>=1.5.0 in ./.local/lib/python3.8/site-packages (from scikit-learn) (1.10.1)\n",
      "Requirement already satisfied: threadpoolctl>=2.0.0 in ./.local/lib/python3.8/site-packages (from scikit-learn) (3.5.0)\n",
      "Requirement already satisfied: numpy<2.0,>=1.17.3 in ./.local/lib/python3.8/site-packages (from scikit-learn) (1.24.4)\n",
      "Requirement already satisfied: joblib>=1.1.1 in ./.local/lib/python3.8/site-packages (from scikit-learn) (1.4.2)\n",
      "Requirement already satisfied: d3blocks==1.4.9 in ./.local/lib/python3.8/site-packages (1.4.9)\n",
      "Requirement already satisfied: d3graph>=2.4.16 in ./.local/lib/python3.8/site-packages (from d3blocks==1.4.9) (2.5.1)\n",
      "Requirement already satisfied: numpy in ./.local/lib/python3.8/site-packages (from d3blocks==1.4.9) (1.24.4)\n",
      "Requirement already satisfied: requests in /usr/local/lib/python3.8/dist-packages (from d3blocks==1.4.9) (2.27.1)\n",
      "Requirement already satisfied: colourmap>=1.1.10 in ./.local/lib/python3.8/site-packages (from d3blocks==1.4.9) (1.1.21)\n",
      "Requirement already satisfied: elasticgraph>=0.1.2 in ./.local/lib/python3.8/site-packages (from d3blocks==1.4.9) (0.2.0)\n",
      "Requirement already satisfied: datazets>=0.1.7 in ./.local/lib/python3.8/site-packages (from d3blocks==1.4.9) (1.1.2)\n",
      "Requirement already satisfied: ismember>=1.0.1 in ./.local/lib/python3.8/site-packages (from d3blocks==1.4.9) (1.0.6)\n",
      "Requirement already satisfied: pandas in ./.local/lib/python3.8/site-packages (from d3blocks==1.4.9) (2.0.3)\n",
      "Requirement already satisfied: jinja2 in /usr/local/lib/python3.8/dist-packages (from d3blocks==1.4.9) (3.1.2)\n",
      "Requirement already satisfied: tqdm in ./.local/lib/python3.8/site-packages (from d3blocks==1.4.9) (4.66.5)\n",
      "Requirement already satisfied: scikit-learn in ./.local/lib/python3.8/site-packages (from d3blocks==1.4.9) (1.3.2)\n",
      "Requirement already satisfied: python-louvain in ./.local/lib/python3.8/site-packages (from d3graph>=2.4.16->d3blocks==1.4.9) (0.16)\n",
      "Requirement already satisfied: packaging in /usr/local/lib/python3.8/dist-packages (from d3graph>=2.4.16->d3blocks==1.4.9) (21.3)\n",
      "Requirement already satisfied: markupsafe==2.0.1 in ./.local/lib/python3.8/site-packages (from d3graph>=2.4.16->d3blocks==1.4.9) (2.0.1)\n",
      "Requirement already satisfied: networkx>2 in ./.local/lib/python3.8/site-packages (from d3graph>=2.4.16->d3blocks==1.4.9) (3.1)\n",
      "Requirement already satisfied: urllib3<1.27,>=1.21.1 in /usr/lib/python3/dist-packages (from requests->d3blocks==1.4.9) (1.25.8)\n",
      "Requirement already satisfied: charset-normalizer~=2.0.0; python_version >= \"3\" in /usr/local/lib/python3.8/dist-packages (from requests->d3blocks==1.4.9) (2.0.12)\n",
      "Requirement already satisfied: certifi>=2017.4.17 in /usr/lib/python3/dist-packages (from requests->d3blocks==1.4.9) (2019.11.28)\n",
      "Requirement already satisfied: idna<4,>=2.5; python_version >= \"3\" in /usr/lib/python3/dist-packages (from requests->d3blocks==1.4.9) (2.8)\n",
      "Requirement already satisfied: scipy in ./.local/lib/python3.8/site-packages (from colourmap>=1.1.10->d3blocks==1.4.9) (1.10.1)\n",
      "Requirement already satisfied: matplotlib in ./.local/lib/python3.8/site-packages (from colourmap>=1.1.10->d3blocks==1.4.9) (3.7.5)\n",
      "Requirement already satisfied: tzdata>=2022.1 in ./.local/lib/python3.8/site-packages (from pandas->d3blocks==1.4.9) (2024.2)\n",
      "Requirement already satisfied: pytz>=2020.1 in ./.local/lib/python3.8/site-packages (from pandas->d3blocks==1.4.9) (2024.2)\n",
      "Requirement already satisfied: python-dateutil>=2.8.2 in /usr/local/lib/python3.8/dist-packages (from pandas->d3blocks==1.4.9) (2.8.2)\n",
      "Requirement already satisfied: joblib>=1.1.1 in ./.local/lib/python3.8/site-packages (from scikit-learn->d3blocks==1.4.9) (1.4.2)\n",
      "Requirement already satisfied: threadpoolctl>=2.0.0 in ./.local/lib/python3.8/site-packages (from scikit-learn->d3blocks==1.4.9) (3.5.0)\n",
      "Requirement already satisfied: pyparsing!=3.0.5,>=2.0.2 in /usr/local/lib/python3.8/dist-packages (from packaging->d3graph>=2.4.16->d3blocks==1.4.9) (3.0.9)\n",
      "Requirement already satisfied: contourpy>=1.0.1 in ./.local/lib/python3.8/site-packages (from matplotlib->colourmap>=1.1.10->d3blocks==1.4.9) (1.1.1)\n",
      "Requirement already satisfied: importlib-resources>=3.2.0; python_version < \"3.10\" in /usr/local/lib/python3.8/dist-packages (from matplotlib->colourmap>=1.1.10->d3blocks==1.4.9) (5.7.1)\n",
      "Requirement already satisfied: cycler>=0.10 in ./.local/lib/python3.8/site-packages (from matplotlib->colourmap>=1.1.10->d3blocks==1.4.9) (0.12.1)\n",
      "Requirement already satisfied: pillow>=6.2.0 in ./.local/lib/python3.8/site-packages (from matplotlib->colourmap>=1.1.10->d3blocks==1.4.9) (10.4.0)\n",
      "Requirement already satisfied: fonttools>=4.22.0 in ./.local/lib/python3.8/site-packages (from matplotlib->colourmap>=1.1.10->d3blocks==1.4.9) (4.54.1)\n",
      "Requirement already satisfied: kiwisolver>=1.0.1 in ./.local/lib/python3.8/site-packages (from matplotlib->colourmap>=1.1.10->d3blocks==1.4.9) (1.4.7)\n",
      "Requirement already satisfied: six>=1.5 in /usr/local/lib/python3.8/dist-packages (from python-dateutil>=2.8.2->pandas->d3blocks==1.4.9) (1.16.0)\n",
      "Requirement already satisfied: zipp>=3.1.0; python_version < \"3.10\" in /usr/local/lib/python3.8/dist-packages (from importlib-resources>=3.2.0; python_version < \"3.10\"->matplotlib->colourmap>=1.1.10->d3blocks==1.4.9) (3.8.0)\n",
      "Requirement already satisfied: pgmpy==0.1.20 in ./.local/lib/python3.8/site-packages (0.1.20)\n",
      "Requirement already satisfied: torch in ./.local/lib/python3.8/site-packages (from pgmpy==0.1.20) (2.4.1)\n",
      "Requirement already satisfied: networkx in ./.local/lib/python3.8/site-packages (from pgmpy==0.1.20) (3.1)\n",
      "Requirement already satisfied: statsmodels in ./.local/lib/python3.8/site-packages (from pgmpy==0.1.20) (0.14.1)\n",
      "Requirement already satisfied: opt-einsum in ./.local/lib/python3.8/site-packages (from pgmpy==0.1.20) (3.4.0)\n",
      "Requirement already satisfied: tqdm in ./.local/lib/python3.8/site-packages (from pgmpy==0.1.20) (4.66.5)\n",
      "Requirement already satisfied: joblib in ./.local/lib/python3.8/site-packages (from pgmpy==0.1.20) (1.4.2)\n",
      "Requirement already satisfied: scipy in ./.local/lib/python3.8/site-packages (from pgmpy==0.1.20) (1.10.1)\n",
      "Requirement already satisfied: scikit-learn in ./.local/lib/python3.8/site-packages (from pgmpy==0.1.20) (1.3.2)\n",
      "Requirement already satisfied: numpy in ./.local/lib/python3.8/site-packages (from pgmpy==0.1.20) (1.24.4)\n",
      "Requirement already satisfied: pyparsing in /usr/local/lib/python3.8/dist-packages (from pgmpy==0.1.20) (3.0.9)\n",
      "Requirement already satisfied: pandas in ./.local/lib/python3.8/site-packages (from pgmpy==0.1.20) (2.0.3)\n",
      "Requirement already satisfied: nvidia-nccl-cu12==2.20.5; platform_system == \"Linux\" and platform_machine == \"x86_64\" in ./.local/lib/python3.8/site-packages (from torch->pgmpy==0.1.20) (2.20.5)\n",
      "Requirement already satisfied: sympy in ./.local/lib/python3.8/site-packages (from torch->pgmpy==0.1.20) (1.13.3)\n",
      "Requirement already satisfied: nvidia-cusparse-cu12==12.1.0.106; platform_system == \"Linux\" and platform_machine == \"x86_64\" in ./.local/lib/python3.8/site-packages (from torch->pgmpy==0.1.20) (12.1.0.106)\n",
      "Requirement already satisfied: nvidia-cuda-cupti-cu12==12.1.105; platform_system == \"Linux\" and platform_machine == \"x86_64\" in ./.local/lib/python3.8/site-packages (from torch->pgmpy==0.1.20) (12.1.105)\n",
      "Requirement already satisfied: triton==3.0.0; platform_system == \"Linux\" and platform_machine == \"x86_64\" and python_version < \"3.13\" in ./.local/lib/python3.8/site-packages (from torch->pgmpy==0.1.20) (3.0.0)\n",
      "Requirement already satisfied: typing-extensions>=4.8.0 in ./.local/lib/python3.8/site-packages (from torch->pgmpy==0.1.20) (4.13.2)\n",
      "Requirement already satisfied: fsspec in ./.local/lib/python3.8/site-packages (from torch->pgmpy==0.1.20) (2025.3.0)\n",
      "Requirement already satisfied: filelock in ./.local/lib/python3.8/site-packages (from torch->pgmpy==0.1.20) (3.16.1)\n",
      "Requirement already satisfied: nvidia-cuda-nvrtc-cu12==12.1.105; platform_system == \"Linux\" and platform_machine == \"x86_64\" in ./.local/lib/python3.8/site-packages (from torch->pgmpy==0.1.20) (12.1.105)\n",
      "Requirement already satisfied: nvidia-cuda-runtime-cu12==12.1.105; platform_system == \"Linux\" and platform_machine == \"x86_64\" in ./.local/lib/python3.8/site-packages (from torch->pgmpy==0.1.20) (12.1.105)\n",
      "Requirement already satisfied: nvidia-cudnn-cu12==9.1.0.70; platform_system == \"Linux\" and platform_machine == \"x86_64\" in ./.local/lib/python3.8/site-packages (from torch->pgmpy==0.1.20) (9.1.0.70)\n",
      "Requirement already satisfied: nvidia-cufft-cu12==11.0.2.54; platform_system == \"Linux\" and platform_machine == \"x86_64\" in ./.local/lib/python3.8/site-packages (from torch->pgmpy==0.1.20) (11.0.2.54)\n",
      "Requirement already satisfied: nvidia-cusolver-cu12==11.4.5.107; platform_system == \"Linux\" and platform_machine == \"x86_64\" in ./.local/lib/python3.8/site-packages (from torch->pgmpy==0.1.20) (11.4.5.107)\n",
      "Requirement already satisfied: nvidia-cublas-cu12==12.1.3.1; platform_system == \"Linux\" and platform_machine == \"x86_64\" in ./.local/lib/python3.8/site-packages (from torch->pgmpy==0.1.20) (12.1.3.1)\n",
      "Requirement already satisfied: jinja2 in /usr/local/lib/python3.8/dist-packages (from torch->pgmpy==0.1.20) (3.1.2)\n",
      "Requirement already satisfied: nvidia-nvtx-cu12==12.1.105; platform_system == \"Linux\" and platform_machine == \"x86_64\" in ./.local/lib/python3.8/site-packages (from torch->pgmpy==0.1.20) (12.1.105)\n",
      "Requirement already satisfied: nvidia-curand-cu12==10.3.2.106; platform_system == \"Linux\" and platform_machine == \"x86_64\" in ./.local/lib/python3.8/site-packages (from torch->pgmpy==0.1.20) (10.3.2.106)\n",
      "Requirement already satisfied: patsy>=0.5.4 in ./.local/lib/python3.8/site-packages (from statsmodels->pgmpy==0.1.20) (0.5.6)\n",
      "Requirement already satisfied: packaging>=21.3 in /usr/local/lib/python3.8/dist-packages (from statsmodels->pgmpy==0.1.20) (21.3)\n",
      "Requirement already satisfied: threadpoolctl>=2.0.0 in ./.local/lib/python3.8/site-packages (from scikit-learn->pgmpy==0.1.20) (3.5.0)\n",
      "Requirement already satisfied: tzdata>=2022.1 in ./.local/lib/python3.8/site-packages (from pandas->pgmpy==0.1.20) (2024.2)\n",
      "Requirement already satisfied: pytz>=2020.1 in ./.local/lib/python3.8/site-packages (from pandas->pgmpy==0.1.20) (2024.2)\n",
      "Requirement already satisfied: python-dateutil>=2.8.2 in /usr/local/lib/python3.8/dist-packages (from pandas->pgmpy==0.1.20) (2.8.2)\n",
      "Requirement already satisfied: mpmath<1.4,>=1.1.0 in ./.local/lib/python3.8/site-packages (from sympy->torch->pgmpy==0.1.20) (1.3.0)\n",
      "Requirement already satisfied: nvidia-nvjitlink-cu12 in ./.local/lib/python3.8/site-packages (from nvidia-cusparse-cu12==12.1.0.106; platform_system == \"Linux\" and platform_machine == \"x86_64\"->torch->pgmpy==0.1.20) (12.9.41)\n",
      "Requirement already satisfied: MarkupSafe>=2.0 in ./.local/lib/python3.8/site-packages (from jinja2->torch->pgmpy==0.1.20) (2.0.1)\n",
      "Requirement already satisfied: six in /usr/local/lib/python3.8/dist-packages (from patsy>=0.5.4->statsmodels->pgmpy==0.1.20) (1.16.0)\n",
      "Requirement already satisfied: bnlearn==0.10.1 in ./.local/lib/python3.8/site-packages (0.10.1)\n",
      "Requirement already satisfied: setgraphviz in ./.local/lib/python3.8/site-packages (from bnlearn==0.10.1) (1.0.3)\n",
      "Requirement already satisfied: pandas in ./.local/lib/python3.8/site-packages (from bnlearn==0.10.1) (2.0.3)\n",
      "Requirement already satisfied: ismember in ./.local/lib/python3.8/site-packages (from bnlearn==0.10.1) (1.0.6)\n",
      "Requirement already satisfied: lingam in ./.local/lib/python3.8/site-packages (from bnlearn==0.10.1) (1.9.1)\n",
      "Requirement already satisfied: scikit-learn in ./.local/lib/python3.8/site-packages (from bnlearn==0.10.1) (1.3.2)\n",
      "Requirement already satisfied: packaging in /usr/local/lib/python3.8/dist-packages (from bnlearn==0.10.1) (21.3)\n",
      "Requirement already satisfied: numpy>=1.24.1 in ./.local/lib/python3.8/site-packages (from bnlearn==0.10.1) (1.24.4)\n",
      "Requirement already satisfied: pgmpy>=0.1.18 in ./.local/lib/python3.8/site-packages (from bnlearn==0.10.1) (0.1.20)\n",
      "Requirement already satisfied: df2onehot in ./.local/lib/python3.8/site-packages (from bnlearn==0.10.1) (1.0.8)\n",
      "Requirement already satisfied: matplotlib>=3.3.4 in ./.local/lib/python3.8/site-packages (from bnlearn==0.10.1) (3.7.5)\n",
      "Requirement already satisfied: networkx>=2.7.1 in ./.local/lib/python3.8/site-packages (from bnlearn==0.10.1) (3.1)\n",
      "Requirement already satisfied: pypickle in ./.local/lib/python3.8/site-packages (from bnlearn==0.10.1) (2.0.1)\n",
      "Requirement already satisfied: tabulate in ./.local/lib/python3.8/site-packages (from bnlearn==0.10.1) (0.9.0)\n",
      "Requirement already satisfied: tqdm in ./.local/lib/python3.8/site-packages (from bnlearn==0.10.1) (4.66.5)\n",
      "Requirement already satisfied: ipywidgets in /usr/local/lib/python3.8/dist-packages (from bnlearn==0.10.1) (7.7.0)\n",
      "Requirement already satisfied: statsmodels in ./.local/lib/python3.8/site-packages (from bnlearn==0.10.1) (0.14.1)\n",
      "Requirement already satisfied: funcsigs in ./.local/lib/python3.8/site-packages (from bnlearn==0.10.1) (1.0.2)\n",
      "Requirement already satisfied: fsspec in ./.local/lib/python3.8/site-packages (from bnlearn==0.10.1) (2025.3.0)\n",
      "Requirement already satisfied: python-louvain in ./.local/lib/python3.8/site-packages (from bnlearn==0.10.1) (0.16)\n",
      "Requirement already satisfied: datazets in ./.local/lib/python3.8/site-packages (from bnlearn==0.10.1) (1.1.2)\n",
      "Requirement already satisfied: requests in /usr/local/lib/python3.8/dist-packages (from setgraphviz->bnlearn==0.10.1) (2.27.1)\n",
      "Requirement already satisfied: tzdata>=2022.1 in ./.local/lib/python3.8/site-packages (from pandas->bnlearn==0.10.1) (2024.2)\n",
      "Requirement already satisfied: pytz>=2020.1 in ./.local/lib/python3.8/site-packages (from pandas->bnlearn==0.10.1) (2024.2)\n",
      "Requirement already satisfied: python-dateutil>=2.8.2 in /usr/local/lib/python3.8/dist-packages (from pandas->bnlearn==0.10.1) (2.8.2)\n",
      "Requirement already satisfied: psy in ./.local/lib/python3.8/site-packages (from lingam->bnlearn==0.10.1) (0.0.1)\n",
      "Requirement already satisfied: graphviz in ./.local/lib/python3.8/site-packages (from lingam->bnlearn==0.10.1) (0.20.3)\n",
      "Requirement already satisfied: scipy in ./.local/lib/python3.8/site-packages (from lingam->bnlearn==0.10.1) (1.10.1)\n",
      "Requirement already satisfied: pygam in ./.local/lib/python3.8/site-packages (from lingam->bnlearn==0.10.1) (0.9.1)\n",
      "Requirement already satisfied: semopy in ./.local/lib/python3.8/site-packages (from lingam->bnlearn==0.10.1) (2.3.11)\n",
      "Requirement already satisfied: threadpoolctl>=2.0.0 in ./.local/lib/python3.8/site-packages (from scikit-learn->bnlearn==0.10.1) (3.5.0)\n",
      "Requirement already satisfied: joblib>=1.1.1 in ./.local/lib/python3.8/site-packages (from scikit-learn->bnlearn==0.10.1) (1.4.2)\n",
      "Requirement already satisfied: pyparsing!=3.0.5,>=2.0.2 in /usr/local/lib/python3.8/dist-packages (from packaging->bnlearn==0.10.1) (3.0.9)\n",
      "Requirement already satisfied: torch in ./.local/lib/python3.8/site-packages (from pgmpy>=0.1.18->bnlearn==0.10.1) (2.4.1)\n",
      "Requirement already satisfied: opt-einsum in ./.local/lib/python3.8/site-packages (from pgmpy>=0.1.18->bnlearn==0.10.1) (3.4.0)\n",
      "Requirement already satisfied: cycler>=0.10 in ./.local/lib/python3.8/site-packages (from matplotlib>=3.3.4->bnlearn==0.10.1) (0.12.1)\n",
      "Requirement already satisfied: pillow>=6.2.0 in ./.local/lib/python3.8/site-packages (from matplotlib>=3.3.4->bnlearn==0.10.1) (10.4.0)\n",
      "Requirement already satisfied: kiwisolver>=1.0.1 in ./.local/lib/python3.8/site-packages (from matplotlib>=3.3.4->bnlearn==0.10.1) (1.4.7)\n",
      "Requirement already satisfied: contourpy>=1.0.1 in ./.local/lib/python3.8/site-packages (from matplotlib>=3.3.4->bnlearn==0.10.1) (1.1.1)\n",
      "Requirement already satisfied: importlib-resources>=3.2.0; python_version < \"3.10\" in /usr/local/lib/python3.8/dist-packages (from matplotlib>=3.3.4->bnlearn==0.10.1) (5.7.1)\n",
      "Requirement already satisfied: fonttools>=4.22.0 in ./.local/lib/python3.8/site-packages (from matplotlib>=3.3.4->bnlearn==0.10.1) (4.54.1)\n",
      "Requirement already satisfied: ipython-genutils~=0.2.0 in /usr/local/lib/python3.8/dist-packages (from ipywidgets->bnlearn==0.10.1) (0.2.0)\n",
      "Requirement already satisfied: ipython>=4.0.0; python_version >= \"3.3\" in /usr/local/lib/python3.8/dist-packages (from ipywidgets->bnlearn==0.10.1) (8.3.0)\n",
      "Requirement already satisfied: jupyterlab-widgets>=1.0.0; python_version >= \"3.6\" in /usr/local/lib/python3.8/dist-packages (from ipywidgets->bnlearn==0.10.1) (1.1.0)\n",
      "Requirement already satisfied: traitlets>=4.3.1 in /usr/local/lib/python3.8/dist-packages (from ipywidgets->bnlearn==0.10.1) (5.2.1.post0)\n",
      "Requirement already satisfied: ipykernel>=4.5.1 in /usr/local/lib/python3.8/dist-packages (from ipywidgets->bnlearn==0.10.1) (6.13.0)\n",
      "Requirement already satisfied: nbformat>=4.2.0 in /usr/local/lib/python3.8/dist-packages (from ipywidgets->bnlearn==0.10.1) (5.4.0)\n",
      "Requirement already satisfied: widgetsnbextension~=3.6.0 in /usr/local/lib/python3.8/dist-packages (from ipywidgets->bnlearn==0.10.1) (3.6.0)\n",
      "Requirement already satisfied: patsy>=0.5.4 in ./.local/lib/python3.8/site-packages (from statsmodels->bnlearn==0.10.1) (0.5.6)\n",
      "Requirement already satisfied: urllib3<1.27,>=1.21.1 in /usr/lib/python3/dist-packages (from requests->setgraphviz->bnlearn==0.10.1) (1.25.8)\n",
      "Requirement already satisfied: certifi>=2017.4.17 in /usr/lib/python3/dist-packages (from requests->setgraphviz->bnlearn==0.10.1) (2019.11.28)\n",
      "Requirement already satisfied: idna<4,>=2.5; python_version >= \"3\" in /usr/lib/python3/dist-packages (from requests->setgraphviz->bnlearn==0.10.1) (2.8)\n",
      "Requirement already satisfied: charset-normalizer~=2.0.0; python_version >= \"3\" in /usr/local/lib/python3.8/dist-packages (from requests->setgraphviz->bnlearn==0.10.1) (2.0.12)\n",
      "Requirement already satisfied: six>=1.5 in /usr/local/lib/python3.8/dist-packages (from python-dateutil>=2.8.2->pandas->bnlearn==0.10.1) (1.16.0)\n",
      "Requirement already satisfied: progressbar2 in ./.local/lib/python3.8/site-packages (from psy->lingam->bnlearn==0.10.1) (4.5.0)\n",
      "Requirement already satisfied: numdifftools in ./.local/lib/python3.8/site-packages (from semopy->lingam->bnlearn==0.10.1) (0.9.41)\n",
      "Requirement already satisfied: sympy in ./.local/lib/python3.8/site-packages (from semopy->lingam->bnlearn==0.10.1) (1.13.3)\n",
      "Requirement already satisfied: nvidia-curand-cu12==10.3.2.106; platform_system == \"Linux\" and platform_machine == \"x86_64\" in ./.local/lib/python3.8/site-packages (from torch->pgmpy>=0.1.18->bnlearn==0.10.1) (10.3.2.106)\n",
      "Requirement already satisfied: nvidia-cusolver-cu12==11.4.5.107; platform_system == \"Linux\" and platform_machine == \"x86_64\" in ./.local/lib/python3.8/site-packages (from torch->pgmpy>=0.1.18->bnlearn==0.10.1) (11.4.5.107)\n",
      "Requirement already satisfied: nvidia-nccl-cu12==2.20.5; platform_system == \"Linux\" and platform_machine == \"x86_64\" in ./.local/lib/python3.8/site-packages (from torch->pgmpy>=0.1.18->bnlearn==0.10.1) (2.20.5)\n",
      "Requirement already satisfied: jinja2 in /usr/local/lib/python3.8/dist-packages (from torch->pgmpy>=0.1.18->bnlearn==0.10.1) (3.1.2)\n",
      "Requirement already satisfied: nvidia-cuda-cupti-cu12==12.1.105; platform_system == \"Linux\" and platform_machine == \"x86_64\" in ./.local/lib/python3.8/site-packages (from torch->pgmpy>=0.1.18->bnlearn==0.10.1) (12.1.105)\n",
      "Requirement already satisfied: nvidia-nvtx-cu12==12.1.105; platform_system == \"Linux\" and platform_machine == \"x86_64\" in ./.local/lib/python3.8/site-packages (from torch->pgmpy>=0.1.18->bnlearn==0.10.1) (12.1.105)\n",
      "Requirement already satisfied: triton==3.0.0; platform_system == \"Linux\" and platform_machine == \"x86_64\" and python_version < \"3.13\" in ./.local/lib/python3.8/site-packages (from torch->pgmpy>=0.1.18->bnlearn==0.10.1) (3.0.0)\n",
      "Requirement already satisfied: nvidia-cublas-cu12==12.1.3.1; platform_system == \"Linux\" and platform_machine == \"x86_64\" in ./.local/lib/python3.8/site-packages (from torch->pgmpy>=0.1.18->bnlearn==0.10.1) (12.1.3.1)\n",
      "Requirement already satisfied: nvidia-cuda-runtime-cu12==12.1.105; platform_system == \"Linux\" and platform_machine == \"x86_64\" in ./.local/lib/python3.8/site-packages (from torch->pgmpy>=0.1.18->bnlearn==0.10.1) (12.1.105)\n",
      "Requirement already satisfied: typing-extensions>=4.8.0 in ./.local/lib/python3.8/site-packages (from torch->pgmpy>=0.1.18->bnlearn==0.10.1) (4.13.2)\n",
      "Requirement already satisfied: filelock in ./.local/lib/python3.8/site-packages (from torch->pgmpy>=0.1.18->bnlearn==0.10.1) (3.16.1)\n",
      "Requirement already satisfied: nvidia-cusparse-cu12==12.1.0.106; platform_system == \"Linux\" and platform_machine == \"x86_64\" in ./.local/lib/python3.8/site-packages (from torch->pgmpy>=0.1.18->bnlearn==0.10.1) (12.1.0.106)\n",
      "Requirement already satisfied: nvidia-cufft-cu12==11.0.2.54; platform_system == \"Linux\" and platform_machine == \"x86_64\" in ./.local/lib/python3.8/site-packages (from torch->pgmpy>=0.1.18->bnlearn==0.10.1) (11.0.2.54)\n",
      "Requirement already satisfied: nvidia-cudnn-cu12==9.1.0.70; platform_system == \"Linux\" and platform_machine == \"x86_64\" in ./.local/lib/python3.8/site-packages (from torch->pgmpy>=0.1.18->bnlearn==0.10.1) (9.1.0.70)\n",
      "Requirement already satisfied: nvidia-cuda-nvrtc-cu12==12.1.105; platform_system == \"Linux\" and platform_machine == \"x86_64\" in ./.local/lib/python3.8/site-packages (from torch->pgmpy>=0.1.18->bnlearn==0.10.1) (12.1.105)\n",
      "Requirement already satisfied: zipp>=3.1.0; python_version < \"3.10\" in /usr/local/lib/python3.8/dist-packages (from importlib-resources>=3.2.0; python_version < \"3.10\"->matplotlib>=3.3.4->bnlearn==0.10.1) (3.8.0)\n",
      "Requirement already satisfied: pygments>=2.4.0 in /usr/local/lib/python3.8/dist-packages (from ipython>=4.0.0; python_version >= \"3.3\"->ipywidgets->bnlearn==0.10.1) (2.12.0)\n",
      "Requirement already satisfied: setuptools>=18.5 in /usr/lib/python3/dist-packages (from ipython>=4.0.0; python_version >= \"3.3\"->ipywidgets->bnlearn==0.10.1) (45.2.0)\n",
      "Requirement already satisfied: jedi>=0.16 in /usr/local/lib/python3.8/dist-packages (from ipython>=4.0.0; python_version >= \"3.3\"->ipywidgets->bnlearn==0.10.1) (0.18.1)\n",
      "Requirement already satisfied: pickleshare in /usr/local/lib/python3.8/dist-packages (from ipython>=4.0.0; python_version >= \"3.3\"->ipywidgets->bnlearn==0.10.1) (0.7.5)\n",
      "Requirement already satisfied: pexpect>4.3; sys_platform != \"win32\" in /usr/lib/python3/dist-packages (from ipython>=4.0.0; python_version >= \"3.3\"->ipywidgets->bnlearn==0.10.1) (4.6.0)\n",
      "Requirement already satisfied: decorator in /usr/local/lib/python3.8/dist-packages (from ipython>=4.0.0; python_version >= \"3.3\"->ipywidgets->bnlearn==0.10.1) (5.1.1)\n",
      "Requirement already satisfied: matplotlib-inline in /usr/local/lib/python3.8/dist-packages (from ipython>=4.0.0; python_version >= \"3.3\"->ipywidgets->bnlearn==0.10.1) (0.1.3)\n",
      "Requirement already satisfied: stack-data in /usr/local/lib/python3.8/dist-packages (from ipython>=4.0.0; python_version >= \"3.3\"->ipywidgets->bnlearn==0.10.1) (0.2.0)\n",
      "Requirement already satisfied: prompt-toolkit!=3.0.0,!=3.0.1,<3.1.0,>=2.0.0 in /usr/local/lib/python3.8/dist-packages (from ipython>=4.0.0; python_version >= \"3.3\"->ipywidgets->bnlearn==0.10.1) (3.0.29)\n",
      "Requirement already satisfied: backcall in /usr/local/lib/python3.8/dist-packages (from ipython>=4.0.0; python_version >= \"3.3\"->ipywidgets->bnlearn==0.10.1) (0.2.0)\n",
      "Requirement already satisfied: tornado>=6.1 in /usr/local/lib/python3.8/dist-packages (from ipykernel>=4.5.1->ipywidgets->bnlearn==0.10.1) (6.1)\n",
      "Requirement already satisfied: jupyter-client>=6.1.12 in /usr/local/lib/python3.8/dist-packages (from ipykernel>=4.5.1->ipywidgets->bnlearn==0.10.1) (7.3.1)\n",
      "Requirement already satisfied: psutil in /usr/local/lib/python3.8/dist-packages (from ipykernel>=4.5.1->ipywidgets->bnlearn==0.10.1) (5.9.0)\n",
      "Requirement already satisfied: nest-asyncio in /usr/local/lib/python3.8/dist-packages (from ipykernel>=4.5.1->ipywidgets->bnlearn==0.10.1) (1.5.5)\n",
      "Requirement already satisfied: debugpy>=1.0 in /usr/local/lib/python3.8/dist-packages (from ipykernel>=4.5.1->ipywidgets->bnlearn==0.10.1) (1.6.0)\n",
      "Requirement already satisfied: jsonschema>=2.6 in /usr/local/lib/python3.8/dist-packages (from nbformat>=4.2.0->ipywidgets->bnlearn==0.10.1) (4.5.1)\n",
      "Requirement already satisfied: jupyter-core in /usr/local/lib/python3.8/dist-packages (from nbformat>=4.2.0->ipywidgets->bnlearn==0.10.1) (4.10.0)\n",
      "Requirement already satisfied: fastjsonschema in /usr/local/lib/python3.8/dist-packages (from nbformat>=4.2.0->ipywidgets->bnlearn==0.10.1) (2.15.3)\n",
      "Requirement already satisfied: notebook>=4.4.1 in /usr/local/lib/python3.8/dist-packages (from widgetsnbextension~=3.6.0->ipywidgets->bnlearn==0.10.1) (6.4.11)\n",
      "Requirement already satisfied: python-utils>=3.8.1 in ./.local/lib/python3.8/site-packages (from progressbar2->psy->lingam->bnlearn==0.10.1) (3.8.2)\n",
      "Requirement already satisfied: mpmath<1.4,>=1.1.0 in ./.local/lib/python3.8/site-packages (from sympy->semopy->lingam->bnlearn==0.10.1) (1.3.0)\n",
      "Requirement already satisfied: nvidia-nvjitlink-cu12 in ./.local/lib/python3.8/site-packages (from nvidia-cusolver-cu12==11.4.5.107; platform_system == \"Linux\" and platform_machine == \"x86_64\"->torch->pgmpy>=0.1.18->bnlearn==0.10.1) (12.9.41)\n",
      "Requirement already satisfied: MarkupSafe>=2.0 in ./.local/lib/python3.8/site-packages (from jinja2->torch->pgmpy>=0.1.18->bnlearn==0.10.1) (2.0.1)\n",
      "Requirement already satisfied: parso<0.9.0,>=0.8.0 in /usr/local/lib/python3.8/dist-packages (from jedi>=0.16->ipython>=4.0.0; python_version >= \"3.3\"->ipywidgets->bnlearn==0.10.1) (0.8.3)\n",
      "Requirement already satisfied: pure-eval in /usr/local/lib/python3.8/dist-packages (from stack-data->ipython>=4.0.0; python_version >= \"3.3\"->ipywidgets->bnlearn==0.10.1) (0.2.2)\n",
      "Requirement already satisfied: asttokens in /usr/local/lib/python3.8/dist-packages (from stack-data->ipython>=4.0.0; python_version >= \"3.3\"->ipywidgets->bnlearn==0.10.1) (2.0.5)\n",
      "Requirement already satisfied: executing in /usr/local/lib/python3.8/dist-packages (from stack-data->ipython>=4.0.0; python_version >= \"3.3\"->ipywidgets->bnlearn==0.10.1) (0.8.3)\n",
      "Requirement already satisfied: wcwidth in /usr/local/lib/python3.8/dist-packages (from prompt-toolkit!=3.0.0,!=3.0.1,<3.1.0,>=2.0.0->ipython>=4.0.0; python_version >= \"3.3\"->ipywidgets->bnlearn==0.10.1) (0.2.5)\n",
      "Requirement already satisfied: entrypoints in /usr/local/lib/python3.8/dist-packages (from jupyter-client>=6.1.12->ipykernel>=4.5.1->ipywidgets->bnlearn==0.10.1) (0.4)\n",
      "Requirement already satisfied: pyzmq>=22.3 in /usr/local/lib/python3.8/dist-packages (from jupyter-client>=6.1.12->ipykernel>=4.5.1->ipywidgets->bnlearn==0.10.1) (22.3.0)\n",
      "Requirement already satisfied: pyrsistent!=0.17.0,!=0.17.1,!=0.17.2,>=0.14.0 in /usr/local/lib/python3.8/dist-packages (from jsonschema>=2.6->nbformat>=4.2.0->ipywidgets->bnlearn==0.10.1) (0.18.1)\n",
      "Requirement already satisfied: attrs>=17.4.0 in /usr/local/lib/python3.8/dist-packages (from jsonschema>=2.6->nbformat>=4.2.0->ipywidgets->bnlearn==0.10.1) (21.4.0)\n",
      "Requirement already satisfied: prometheus-client in /usr/local/lib/python3.8/dist-packages (from notebook>=4.4.1->widgetsnbextension~=3.6.0->ipywidgets->bnlearn==0.10.1) (0.14.1)\n",
      "Requirement already satisfied: nbconvert>=5 in /usr/local/lib/python3.8/dist-packages (from notebook>=4.4.1->widgetsnbextension~=3.6.0->ipywidgets->bnlearn==0.10.1) (6.5.0)\n",
      "Requirement already satisfied: argon2-cffi in /usr/local/lib/python3.8/dist-packages (from notebook>=4.4.1->widgetsnbextension~=3.6.0->ipywidgets->bnlearn==0.10.1) (21.3.0)\n",
      "Requirement already satisfied: terminado>=0.8.3 in /usr/local/lib/python3.8/dist-packages (from notebook>=4.4.1->widgetsnbextension~=3.6.0->ipywidgets->bnlearn==0.10.1) (0.15.0)\n",
      "Requirement already satisfied: Send2Trash>=1.8.0 in /usr/local/lib/python3.8/dist-packages (from notebook>=4.4.1->widgetsnbextension~=3.6.0->ipywidgets->bnlearn==0.10.1) (1.8.0)\n",
      "Requirement already satisfied: beautifulsoup4 in /usr/local/lib/python3.8/dist-packages (from nbconvert>=5->notebook>=4.4.1->widgetsnbextension~=3.6.0->ipywidgets->bnlearn==0.10.1) (4.11.1)\n",
      "Requirement already satisfied: defusedxml in /usr/local/lib/python3.8/dist-packages (from nbconvert>=5->notebook>=4.4.1->widgetsnbextension~=3.6.0->ipywidgets->bnlearn==0.10.1) (0.7.1)\n",
      "Requirement already satisfied: bleach in /usr/local/lib/python3.8/dist-packages (from nbconvert>=5->notebook>=4.4.1->widgetsnbextension~=3.6.0->ipywidgets->bnlearn==0.10.1) (5.0.0)\n",
      "Requirement already satisfied: nbclient>=0.5.0 in /usr/local/lib/python3.8/dist-packages (from nbconvert>=5->notebook>=4.4.1->widgetsnbextension~=3.6.0->ipywidgets->bnlearn==0.10.1) (0.6.3)\n",
      "Requirement already satisfied: pandocfilters>=1.4.1 in /usr/local/lib/python3.8/dist-packages (from nbconvert>=5->notebook>=4.4.1->widgetsnbextension~=3.6.0->ipywidgets->bnlearn==0.10.1) (1.5.0)\n",
      "Requirement already satisfied: tinycss2 in /usr/local/lib/python3.8/dist-packages (from nbconvert>=5->notebook>=4.4.1->widgetsnbextension~=3.6.0->ipywidgets->bnlearn==0.10.1) (1.1.1)\n",
      "Requirement already satisfied: mistune<2,>=0.8.1 in /usr/local/lib/python3.8/dist-packages (from nbconvert>=5->notebook>=4.4.1->widgetsnbextension~=3.6.0->ipywidgets->bnlearn==0.10.1) (0.8.4)\n",
      "Requirement already satisfied: jupyterlab-pygments in /usr/local/lib/python3.8/dist-packages (from nbconvert>=5->notebook>=4.4.1->widgetsnbextension~=3.6.0->ipywidgets->bnlearn==0.10.1) (0.2.2)\n",
      "Requirement already satisfied: argon2-cffi-bindings in /usr/local/lib/python3.8/dist-packages (from argon2-cffi->notebook>=4.4.1->widgetsnbextension~=3.6.0->ipywidgets->bnlearn==0.10.1) (21.2.0)\n",
      "Requirement already satisfied: ptyprocess; os_name != \"nt\" in /usr/local/lib/python3.8/dist-packages (from terminado>=0.8.3->notebook>=4.4.1->widgetsnbextension~=3.6.0->ipywidgets->bnlearn==0.10.1) (0.7.0)\n",
      "Requirement already satisfied: soupsieve>1.2 in /usr/local/lib/python3.8/dist-packages (from beautifulsoup4->nbconvert>=5->notebook>=4.4.1->widgetsnbextension~=3.6.0->ipywidgets->bnlearn==0.10.1) (2.3.2.post1)\n",
      "Requirement already satisfied: webencodings in /usr/local/lib/python3.8/dist-packages (from bleach->nbconvert>=5->notebook>=4.4.1->widgetsnbextension~=3.6.0->ipywidgets->bnlearn==0.10.1) (0.5.1)\n",
      "Requirement already satisfied: cffi>=1.0.1 in /usr/local/lib/python3.8/dist-packages (from argon2-cffi-bindings->argon2-cffi->notebook>=4.4.1->widgetsnbextension~=3.6.0->ipywidgets->bnlearn==0.10.1) (1.15.0)\n",
      "Requirement already satisfied: pycparser in /usr/local/lib/python3.8/dist-packages (from cffi>=1.0.1->argon2-cffi-bindings->argon2-cffi->notebook>=4.4.1->widgetsnbextension~=3.6.0->ipywidgets->bnlearn==0.10.1) (2.21)\n"
     ]
    }
   ],
   "source": [
    "#Устанавливаем и запускаем необходимые библиотеки\n",
    "!python.exe -m pip install --upgrade pip\n",
    "!pip install numpy==1.26.4\n",
    "!pip install pandas # 1.5.3\n",
    "!pip install scikit-learn\n",
    "!pip install d3blocks==1.4.9\n",
    "!pip install pgmpy==0.1.20\n",
    "!pip install bnlearn==0.10.1"
   ]
  },
  {
   "cell_type": "code",
   "execution_count": 1,
   "id": "a5a376ec",
   "metadata": {},
   "outputs": [],
   "source": [
    "import numpy  as np                                    # базовые операции с массивами\n",
    "import pandas as pd                                    # базовые операции с датафреймами\n",
    "import scipy  as scipy                                 # базовые операции с распределениями\n",
    "import random                                          # случайные числа\n",
    "import bnlearn                                         # Байесовские сети\n",
    "from sklearn.naive_bayes     import CategoricalNB      # наивный Байесовский классификатор\n",
    "from sklearn.model_selection import train_test_split   # разделение выборки на\n",
    "                                                       # обучающую и тестовую\n",
    "from sklearn.model_selection import cross_val_score    # кросс-валидация\n",
    "from sklearn.model_selection import KFold              # разбиение на части (folds)\n",
    "from sklearn.utils           import shuffle            # случайная перестановка\n",
    "from scipy.stats import t, chi2, f, norm, poisson, binom, uniform, expon, logistic\n",
    "from scipy.stats import lognorm\n",
    "import networkx as nx\n",
    "import seaborn"
   ]
  },
  {
   "cell_type": "markdown",
   "id": "140250ff",
   "metadata": {},
   "source": [
    "****2. Генерация и предварительная обработка данных****"
   ]
  },
  {
   "cell_type": "markdown",
   "id": "8c252cc7",
   "metadata": {},
   "source": [
    "Import, Scale, Participation, Age, Industry, Creditworthiness"
   ]
  },
  {
   "cell_type": "markdown",
   "id": "3cf68d04",
   "metadata": {},
   "source": [
    "**Спецификация**\n",
    "\n",
    "**Целевая переменная** -  Объемы импорта российских компаний (в денежном выражении, миллионы рублей) за последний год: \n",
    "*   $\\text{Import}_{i}$.\n",
    "\n",
    "**Переменная воздействия** - Масштаб бизнеса: \n",
    "*   $\\text{Scale}_{i}$ (1 - крупный бизнес, 0 - малый бизнес).\n",
    "\n",
    "**Инструментальная переменная** - Факт участия в программах государственной поддержки бизнеса:\n",
    "*   $\\text{Participation}_{i}$ (1 - участвует, 0 - не участвует).\n",
    "\n",
    "**Контрольные переменные**:\n",
    "\n",
    "*   $\\text{Age}_{i}$ - Возраст компании(непрерывная переменная).\n",
    "*   $\\text{Industry}_{i}$ - Отрасль бизнеса (1 - компания работает в высокотехнологичной отрасли, 0 - в традиционной отрасли).\n",
    "*   $\\text{Worker}_{i}$ - Численность работников(непрерывная переменная).\n",
    "\n",
    "**Ненаблюдаемая переменная, вызывающая проблему эндогенности**:\n",
    "\n",
    "*  $\\text{Creditworthiness}_{i}$ - Кредиспособность, непрерывная стандартизировання переменная."
   ]
  },
  {
   "cell_type": "markdown",
   "id": "81d55ff1",
   "metadata": {},
   "source": [
    "2. Обоснуйте предполагаемые направления связей зависимой переменной и переменной воздействия с контрольными переменными."
   ]
  },
  {
   "cell_type": "code",
   "execution_count": 2,
   "id": "64ac7c7c",
   "metadata": {},
   "outputs": [
    {
     "data": {
      "image/png": "[encoded data removed]",
      "text/plain": [
       "<Figure size 720x432 with 1 Axes>"
      ]
     },
     "metadata": {},
     "output_type": "display_data"
    }
   ],
   "source": [
    "import networkx as nx\n",
    "import numpy as np\n",
    "import matplotlib.pyplot as plt\n",
    "\n",
    "# Определяем связи между переменными\n",
    "edges = [\n",
    "    # Основная причинная связь\n",
    "    ('scale', 'import'),        # Масштаб бизнеса влияет на объем импорта\n",
    "    \n",
    "    # Связи инструментальной переменной\n",
    "    ('participation', 'scale'), # Участие в программе влияет на масштаб бизнеса\n",
    "    \n",
    "    # Контрольные переменные\n",
    "    ('age', 'import'),          # Возраст компании влияет на импорт\n",
    "    ('industry', 'import'),     # Отрасль влияет на импорт\n",
    "    ('age', 'scale'),           # Возраст компании влияет на масштаб\n",
    "    ('industry', 'scale'),       # Отрасль влияет на масштаб бизнеса\n",
    "    ('worker', 'import'),       # Число сотрудников влияет на импорт\n",
    "    ('industry', 'scale'),       # Число сотрудников влияет на масштаб бизнеса\n",
    "    \n",
    "    #Ненаблюдаемая переменная, вызывающая эндогенность\n",
    "     ('creditworthiness', 'import'),          # Кредитоспособность компании влияет на импорт\n",
    "    ('creditworthiness', 'scale')           # Кредитоспособность влияет на масштаб\n",
    "]\n",
    "\n",
    "# Создаем направленный граф\n",
    "G = nx.DiGraph()\n",
    "G.add_edges_from(edges)\n",
    "\n",
    "# Позиционирование узлов для лучшей читаемости\n",
    "pos = {\n",
    "    'participation': (0, 1),\n",
    "    'scale': (1, 1),\n",
    "    'import': (2, 1),\n",
    "    'age': (0.5, 0),\n",
    "    'industry': (1.3, 0),\n",
    "    'creditworthiness': (1.8, 0), \n",
    "    'worker': (0.1, 0)\n",
    "}\n",
    "\n",
    "# Настройки визуализации\n",
    "nx_options = {\n",
    "    'with_labels': True,\n",
    "    'node_size': 2000,\n",
    "    'node_color': 'lightblue',\n",
    "    'font_size': 10,\n",
    "    'arrowstyle': '->',\n",
    "    'arrowsize': 15,\n",
    "    'edge_color': 'black'\n",
    "}\n",
    "# Рисуем граф\n",
    "plt.figure(figsize=(10, 6))\n",
    "nx.draw_networkx(G, pos=pos, **nx_options)\n",
    "\n",
    "# Добавляем заголовок\n",
    "plt.title(\"Причинно-следственные связи между переменными\", size=15)\n",
    "plt.show()"
   ]
  },
  {
   "cell_type": "markdown",
   "id": "e398e202",
   "metadata": {},
   "source": [
    "3) Симулируйте данные в соответствии с предполагаемым вами процессом и приведите корреляционную матрицу, а также таблицу со следующими описательными статистиками:\n",
    "\n",
    "• Для непрерывных переменных: выборочное среднее, выборочное стандартное отклонение, медиана, минимум и максимум.\n",
    "\n",
    "• Для бинарных переменных: доля и количество единиц.\n",
    "\n",
    "\n",
    "Указания:\n",
    "\n",
    "• Необходимо сгенерировать не менее 1000 наблюдений.\n",
    "\n",
    "• Доля единиц не должна быть меньше 0.1 или больше 0.9 ни для одной из\n",
    "бинарных переменных."
   ]
  },
  {
   "cell_type": "markdown",
   "id": "680ffb6e",
   "metadata": {},
   "source": [
    "**Генерация контрольных переменных**"
   ]
  },
  {
   "cell_type": "code",
   "execution_count": 3,
   "id": "791a36d5",
   "metadata": {},
   "outputs": [
    {
     "name": "stdout",
     "output_type": "stream",
     "text": [
      "[ 4. 18. 11.  3.  6. 29.  2.  7. 22.  5.  6.  8. 26.  6.  7.]\n"
     ]
    }
   ],
   "source": [
    "#Генерируем Age\n",
    "\n",
    "# Для воспроизводимости\n",
    "np.random.seed(123)\n",
    "\n",
    "# Число наблюдений\n",
    "n = 10000\n",
    "\n",
    "sko=np.sqrt(2*np.log(9/7)) #нашли СКО через медиану=7 и среднее=9\n",
    "\n",
    "#Мы предположили, что возраст компании распределен в соответствии с логнормальным законом \n",
    "age = lognorm.rvs(s = sko, scale = 9, size = n)\n",
    "\n",
    "# Установим ограничения на минимальные и максимальные значения\n",
    "age[age >= 50] = 50\n",
    "age[age <= 1]  = 1\n",
    "\n",
    "# Введем округление\n",
    "age = np.round(age)\n",
    "\n",
    "# Посмотрим на несколько первых значений\n",
    "print(age[0:15])"
   ]
  },
  {
   "cell_type": "code",
   "execution_count": 4,
   "id": "637e3c6d",
   "metadata": {},
   "outputs": [
    {
     "data": {
      "text/plain": [
       "<Axes: ylabel='Density'>"
      ]
     },
     "execution_count": 4,
     "metadata": {},
     "output_type": "execute_result"
    },
    {
     "data": {
      "image/png": "[encoded data removed]",
      "text/plain": [
       "<Figure size 432x288 with 1 Axes>"
      ]
     },
     "metadata": {
      "needs_background": "light"
     },
     "output_type": "display_data"
    }
   ],
   "source": [
    "#Визуализируем распределение\n",
    "seaborn.histplot(age,                 # данные\n",
    "                 stat = 'density',           # тип гистограммы\n",
    "                 color = \"blue\",    # цвет гистограммы\n",
    "                 label = \"histogram\",        # наименование гистограммы\n",
    "                 bins = 100)                 # число столбиков в Гистограмме\n"
   ]
  },
  {
   "cell_type": "code",
   "execution_count": 5,
   "id": "83d9adff",
   "metadata": {},
   "outputs": [
    {
     "name": "stdout",
     "output_type": "stream",
     "text": [
      "0.1115\n",
      "[1 1 0 0 0 0 0 1 0 0 0 0 1 0 1]\n"
     ]
    }
   ],
   "source": [
    "#Генерируем переменную Industry\n",
    "industry = np.random.binomial(n = 1, p = 0.11, size = n) #Industry имеет распределение Бернулли, поскольку это - бинарная переменная, приниимающая значения 1 или 0\n",
    "#Около 11% всех российских компаний относятся к высокотехнологичным секторам\n",
    "\n",
    "# Доля высокотехнологичных предприятий\n",
    "print(np.mean(industry))\n",
    "\n",
    "# Посмотрим на несколько первых значений\n",
    "print(industry[0:15])"
   ]
  },
  {
   "cell_type": "code",
   "execution_count": 6,
   "id": "1cbca92d",
   "metadata": {},
   "outputs": [
    {
     "name": "stdout",
     "output_type": "stream",
     "text": [
      "[ 14.  35.  20. 256.  23.  24. 133.   2.   2.  32.   7.  30.  59.  47.\n",
      "  45.]\n"
     ]
    }
   ],
   "source": [
    "#Генерируем Worker\n",
    "\n",
    "#общее число занятых на российских коммерческих предприятиях\n",
    "k1=64500000\n",
    "#общее число российских коммерческих предприятий\n",
    "k2=2623091\n",
    "#среднее количество работников на предприятиях\n",
    "mean_number=k1/k2\n",
    "sko=np.sqrt(2*np.log(24.65/5.5))\n",
    "#Мы предположили, что число работников компании распределено в соответствии с логнормальным законом\n",
    "worker = lognorm.rvs(s = sko, scale = mean_number, size = n)\n",
    "\n",
    "# Установим ограничения на минимальное значение\n",
    "worker[worker <= 2]  = 2\n",
    "\n",
    "# Введем округление\n",
    "worker = np.round(worker)\n",
    "\n",
    "# Посмотрим на несколько первых значений\n",
    "print(worker[0:15])"
   ]
  },
  {
   "cell_type": "code",
   "execution_count": 7,
   "id": "1699b357",
   "metadata": {},
   "outputs": [
    {
     "data": {
      "text/plain": [
       "<Axes: ylabel='Density'>"
      ]
     },
     "execution_count": 7,
     "metadata": {},
     "output_type": "execute_result"
    },
    {
     "data": {
      "image/png": "[encoded data removed]",
      "text/plain": [
       "<Figure size 432x288 with 1 Axes>"
      ]
     },
     "metadata": {
      "needs_background": "light"
     },
     "output_type": "display_data"
    }
   ],
   "source": [
    "#Визуализируем распределение\n",
    "seaborn.histplot(worker,                 # данные\n",
    "                 stat = 'density',           # тип гистограммы\n",
    "                 color = \"blue\",    # цвет гистограммы\n",
    "                 label = \"histogram\",        # наименование гистограммы\n",
    "                 bins = 100)                 # число столбиков в Гистограмме\n"
   ]
  },
  {
   "cell_type": "code",
   "execution_count": null,
   "id": "336a0532",
   "metadata": {},
   "outputs": [],
   "source": []
  },
  {
   "cell_type": "markdown",
   "id": "11d4d1a8",
   "metadata": {},
   "source": [
    "**Генерация ненаблюдаемой переменной Creditworthiness**"
   ]
  },
  {
   "cell_type": "code",
   "execution_count": 8,
   "id": "8e03ad9d",
   "metadata": {},
   "outputs": [
    {
     "name": "stdout",
     "output_type": "stream",
     "text": [
      "[932.72727273 558.18181818 550.90909091 614.54545455 570.90909091\n",
      " 803.63636364 469.09090909 829.09090909 418.18181818 774.54545455\n",
      " 725.45454545 660.         723.63636364 761.81818182 310.90909091]\n"
     ]
    }
   ],
   "source": [
    "sko=np.sqrt(2*np.log(9/7)) #нашли СКО через медиану=7 и среднее=9\n",
    "from scipy.stats import beta\n",
    "\n",
    "#Мы предположили, что кредитоспособность распределена в соответствии с бета-распределением из-за левосторонней асимметрии \n",
    "\n",
    "score_min = 300\n",
    "score_max = 850 # Параметры диапазона рейтинга\n",
    "К = score_max - score_min #Размах \n",
    "\n",
    "alpha = 5\n",
    "beta_param = 2 # Параметры бета-распределения для левосторонней асимметрии(подобрали так, чтобы получить умеренную левостороннюю асимметрию)\n",
    "\n",
    "creditbeta = beta.rvs(alpha, beta_param, size=n)  #Генерация\n",
    "\n",
    "creditworthiness = score_min + creditbeta * К #Проводим vасштабирование под диапазон кредитного рейтинга\n",
    "\n",
    "# Введем округление\n",
    "creditworthiness = np.round(creditworthiness)\n",
    "\n",
    "creditworthiness = (creditworthiness - 300) / (850 - 300)*1000 #Выплоним нормировку к диапазону от 0 до 1000, чтобы было удобнее с ней работать\n",
    "\n",
    "# Посмотрим на несколько первых значений\n",
    "print(creditworthiness[0:15])"
   ]
  },
  {
   "cell_type": "code",
   "execution_count": 9,
   "id": "555b03bf",
   "metadata": {},
   "outputs": [
    {
     "data": {
      "text/plain": [
       "<Axes: ylabel='Density'>"
      ]
     },
     "execution_count": 9,
     "metadata": {},
     "output_type": "execute_result"
    },
    {
     "data": {
      "image/png": "[encoded data removed]",
      "text/plain": [
       "<Figure size 432x288 with 1 Axes>"
      ]
     },
     "metadata": {
      "needs_background": "light"
     },
     "output_type": "display_data"
    }
   ],
   "source": [
    "#Визуализируем распределение\n",
    "seaborn.histplot(creditworthiness,                 # данные\n",
    "                 stat = 'density',           # тип гистограммы\n",
    "                 color = \"blue\",    # цвет гистограммы\n",
    "                 label = \"histogram\",        # наименование гистограммы\n",
    "                 bins = 70)                 # число столбиков в Гистограмме\n"
   ]
  },
  {
   "cell_type": "markdown",
   "id": "9f9790af",
   "metadata": {},
   "source": [
    "**Генерация инструментальной переменной**"
   ]
  },
  {
   "cell_type": "markdown",
   "id": "e08235d3",
   "metadata": {},
   "source": [
    "Удобно сгенерировать инструмент на основе контрольных переменных."
   ]
  },
  {
   "cell_type": "markdown",
   "id": "a2ff4b5f",
   "metadata": {},
   "source": [
    "Для того, чтобы сгенерировать бинарную переменную как функцию от других переменных, необходимо сперва предположить форму условных вероятностей. Для этого удобно применять следующий алгоритм:\n",
    "\n",
    "1.   Записать **индекс**, который отражает статистические связи инструментальной переменной с контрольными переменными.\n",
    "2.   Сформировать условные вероятности взяв функцию распределения от этого индекса\n",
    "\n",
    "Мы полагаем, что условная вероятность факта участия в программах государственной поддержки предприятий отрицательно коррелирует с возрастом и положительно коррелирует с фактом работы компании в высокотехнологичной отрасли и числом сотрудников:\n",
    "\n",
    "$$\\text{P}\\left(\\text{Participation}_{i} = 1|\\text{Age}_{i}, \\text{Industry}_{i}\\right) = \\Phi\\left(\\underbrace{\\frac{0.3 * \\text{Industry}_{i}}{ (7 + \\text{Age}_{i})} - 1.5*\\ln(\\text{Age}_{i}) + 0.2*\\ln(\\text{Worker}_{i}) + 1.8}_{\\text{индекс}}\\right)$$\n",
    "\n",
    "Где $\\Phi()$ - функция распределения стандартного нормального распределения.\n",
    "\n",
    "**Важно** - для удобства генерации рекомендуется предположить, что условные вероятности инструментальной переменной должны зависеть лишь от контрольных переменных."
   ]
  },
  {
   "cell_type": "code",
   "execution_count": 10,
   "id": "61820138",
   "metadata": {},
   "outputs": [
    {
     "name": "stdout",
     "output_type": "stream",
     "text": [
      "[0.60858873 0.03495541 0.11551761 0.89636666 0.39722349 0.00445703\n",
      " 0.95892534 0.16882794 0.00348856 0.53147984 0.30908092 0.26143657\n",
      " 0.01183183 0.45318847 0.36839616]\n"
     ]
    }
   ],
   "source": [
    "# Сформируем индекс\n",
    "participation_index = 0.3 * industry / (7+age) -1.5*np.log(age)+0.2*np.log(worker)+1.8\n",
    "# Создадим условные вероятности\n",
    "participation_prob = norm.cdf(participation_index)\n",
    "\n",
    "# Посмотрим на несколько первых условных вероятностей\n",
    "print(participation_prob[0:15])"
   ]
  },
  {
   "cell_type": "code",
   "execution_count": 11,
   "id": "8e37d70a",
   "metadata": {},
   "outputs": [
    {
     "name": "stdout",
     "output_type": "stream",
     "text": [
      "    P(participation = 1|X)  participation\n",
      "0                     0.61              1\n",
      "1                     0.03              0\n",
      "2                     0.12              0\n",
      "3                     0.90              0\n",
      "4                     0.40              0\n",
      "5                     0.00              0\n",
      "6                     0.96              1\n",
      "7                     0.17              0\n",
      "8                     0.00              0\n",
      "9                     0.53              0\n",
      "10                    0.31              0\n",
      "11                    0.26              0\n",
      "12                    0.01              1\n",
      "13                    0.45              0\n",
      "14                    0.37              0\n"
     ]
    }
   ],
   "source": [
    "# Факт участия компании в программе государственной поддержки предприятий\n",
    "participation = np.random.binomial(n = 1, p = participation_prob, size = n)\n",
    "# Первые несколько значений условных вероятностей и переменной\n",
    "print(pd.DataFrame({'P(participation = 1|X)': np.round(participation_prob[0:15], 2),\n",
    "                    'participation': participation[0:15]}))\n"
   ]
  },
  {
   "cell_type": "code",
   "execution_count": 12,
   "id": "b053f1d3",
   "metadata": {},
   "outputs": [
    {
     "name": "stdout",
     "output_type": "stream",
     "text": [
      "1.2408075927884747\n"
     ]
    }
   ],
   "source": [
    "# Дисперсия индекса\n",
    "print(np.var(participation_index))"
   ]
  },
  {
   "cell_type": "code",
   "execution_count": 13,
   "id": "85a81f84",
   "metadata": {},
   "outputs": [
    {
     "name": "stdout",
     "output_type": "stream",
     "text": [
      "0.2899\n"
     ]
    }
   ],
   "source": [
    "# Доля фирм, участвующих в программе господдержки предприятий\n",
    "print(np.mean(participation))"
   ]
  },
  {
   "cell_type": "markdown",
   "id": "eb8df5f7",
   "metadata": {},
   "source": [
    "**Генерация переменной воздействия**"
   ]
  },
  {
   "cell_type": "markdown",
   "id": "c34b299e",
   "metadata": {},
   "source": [
    "Мы предполагаем, что масштаб компании зависит от ее возраста, отрасли, участия в программе господдержки и ненаблюдаемой переменной кредитоспособность. Поэтому мы будем генерировать переменную Scale на основе них. Направление связи переменной воздействия, исходя из наших предпосылок, положительное с переменными Age, Industry, Creditworthiness, Participation.\n",
    "\n",
    "Условные вероятности переменной воздействия:\n",
    "$$P(\\text{Scale}_{i} = 1|\\text{Participation}_{i}, \\text{Age}_{i}, \\text{Industry}_{i}, \\text{Creditworthiness}_{i}) = \\\\ = F_{\\text{Logistic}}\\left(6.2\\times \\ln\\left(\\text{Age}_{i} +2.5\\right) + 0.85\\times\\sqrt{\\text{Creditworthiness}_{i}} + 0.03\\times\\text{Age}_{i}\\times\\text{Industry}_{i} - 48 + 7.5\\times\\text{Participation}_{i}+ 0.05\\times\\sqrt{\\text{Worker}_{i}}\\right)$$\n",
    "\n",
    "Где $F_{\\text{Logistic}}$ - функция распределения стандартного логистического распределения.\n",
    "\n",
    "Для краткости введем обозначение для условной вероятности участия компании в программе государственной поддержки предприятий:\n",
    "\n",
    "$$p_{k}^{\\text{Participation}_{i}} = P(\\text{Scale}_{i} = 1|\\text{Participation}_{i}, \\text{Age}_{i}, \\text{Industry}_{i}, \\text{Worker}_{i}, \\text{Creditworthiness}_{i}, \\text{Participation}_{i} = k)\\text{, где }k\\in\\{0,1\\}$$\n",
    "\n",
    "Для того, чтобы впоследствии анализировать локальные средние эффекты воздействия $\\text{LATE}$, необходимо различать величину переменной воздействия $\\text{Scale}_{i}$ в зависимости от значения инструмента $\\text{Participation}_{i}$. Для этого рассмотрим ни от чего не зависящую равномерную случайную величину $U_{i}\\sim U(0,1)$ и введем гипотетические переменные:\n",
    "\n",
    "$$\\text{Scale}_{1i} = I(p_{1}^{\\text{Participation}_{i}}\\geq U_{i})$$\n",
    "\n",
    "$$\\text{Scale}_{0i} = I(p_{0}^{\\text{Participation}_{i}}\\geq U_{i})$$\n",
    "\n",
    "\n",
    "$$I(\\text{условие}) = \\begin{cases}1\\text{, если условие выполнено}\\\\0\\text{, в противном случае}\\end{cases}$$\n",
    "\n",
    "Переменные $\\text{Scale}_{1i}$ и $\\text{Scale}_{0i}$ отражают потенциальные уровни масштаба фирмы в зависимости от факта участия в программе господдержки."
   ]
  },
  {
   "cell_type": "code",
   "execution_count": 14,
   "id": "0bb91685",
   "metadata": {},
   "outputs": [],
   "source": [
    "# Равномерные случайные величины\n",
    "u = uniform.rvs(size = n)"
   ]
  },
  {
   "cell_type": "code",
   "execution_count": 15,
   "id": "00abddcd",
   "metadata": {},
   "outputs": [],
   "source": [
    "# Сгенерируем часть индекса, не зависящую от факта того, что фирма принимала/принимает участие в программе господдержки\n",
    "participation1    = 1\n",
    "scale_index = 6.0 * np.log(age+2.5) + 0.95*np.sqrt(creditworthiness) + 0.03*age*industry-51+7.5*participation+0.05*np.sqrt(worker)"
   ]
  },
  {
   "cell_type": "code",
   "execution_count": 16,
   "id": "e9160375",
   "metadata": {},
   "outputs": [
    {
     "data": {
      "text/plain": [
       "0.135"
      ]
     },
     "execution_count": 16,
     "metadata": {},
     "output_type": "execute_result"
    }
   ],
   "source": [
    "# Симулируем принадлежность к крупному бизнесу в случае, когда фирма принимала/принимает участие в программе господдержки\n",
    "participation1    = 1\n",
    "scale1_index = scale_index + 3 * participation1\n",
    "scale1_prob  = logistic.cdf(scale1_index)\n",
    "scale1       = (scale1_prob >= u).astype(int)\n",
    "\n",
    "# Доля крупных фирм в случае, когда все фирмы принимают/принимали участие в программе господдержки\n",
    "np.mean(scale1)"
   ]
  },
  {
   "cell_type": "code",
   "execution_count": 17,
   "id": "acd52e88",
   "metadata": {},
   "outputs": [
    {
     "data": {
      "text/plain": [
       "0.034"
      ]
     },
     "execution_count": 17,
     "metadata": {},
     "output_type": "execute_result"
    }
   ],
   "source": [
    "# Симулируем принадлежность к крупному бизнесу в случае, когда фирма не принимала/принимает участие в программе господдержки\n",
    "participation0    = 0\n",
    "scale0_index = scale_index + 3 * participation0\n",
    "scale0_prob  = logistic.cdf(scale0_index, scale = 1)\n",
    "scale0       = (scale0_prob >= u).astype(int)\n",
    "\n",
    "# Доля крупных фирм в случае, когда никакие фирмы не принимают/не принимали участие в программе господдержки\n",
    "np.mean(scale0)"
   ]
  },
  {
   "cell_type": "markdown",
   "id": "12cf3214",
   "metadata": {},
   "source": [
    "Индивидов можно разделить на $4$ группы:\n",
    "\n",
    "\n",
    "*   **Always-takers** - те, у кто $\\text{Scale}_{0i}=\\text{Scale}_{1i}=1$: фирма крупного масштаба независимо от того участвовала ли она в программе господдержки.\n",
    "*   **Never-takers**- те, кто $\\text{Scale}_{0i}=\\text{Scale}_{1i}=0$: фирма НЕ крупного масштаба независимо от того участвовала ли она в программе господдержки.\n",
    "*   **Compliers** - те, кто $\\text{Scale}_{1i}=1$ и $\\text{Scale}_{0i}=0$, то есть $\\text{Scale}_{1i} > \\text{Scale}_{0i}$: фирма крупного масштаба лишь в случае, если она участвовала в программе господдержки.\n",
    "*   **Defiers** - те, кто $\\text{Scale}_{1i}=0$ и $\\text{Scale}_{0i}=1$, то есть $\\text{Scale}_{1i} < \\text{Scale}_{0i}$: фирма крупного масштаба лишь в случае, если она не участвовала в программе господдержки.\n",
    "\n",
    "Для соблюдения предпосылок используемых методов важно отсутствие Defiers, что гарантируется используемым процессом генерации данных."
   ]
  },
  {
   "cell_type": "code",
   "execution_count": 18,
   "id": "621dfc13",
   "metadata": {},
   "outputs": [
    {
     "name": "stdout",
     "output_type": "stream",
     "text": [
      "Never taker     8650\n",
      "Complier        1010\n",
      "Always taker     340\n",
      "Name: count, dtype: int64\n"
     ]
    }
   ],
   "source": [
    "# Рассмотрим различные группы индивидов\n",
    "ind_type = np.empty(n, dtype = 'U25')\n",
    "ind_type[(scale1 == 1) & (scale0 == 1)] = 'Always taker'\n",
    "ind_type[(scale1 == 0) & (scale0 == 0)] = 'Never taker'\n",
    "ind_type[scale1 > scale0]               = 'Complier'\n",
    "ind_type[scale1 < scale0]               = 'Defier'\n",
    "\n",
    "# Посмотрим на распределение фирм разного типа\n",
    "print(pd.value_counts(ind_type))"
   ]
  },
  {
   "cell_type": "code",
   "execution_count": 19,
   "id": "5fc90a86",
   "metadata": {},
   "outputs": [
    {
     "name": "stdout",
     "output_type": "stream",
     "text": [
      "     scale0 scale1    Тип фирмы\n",
      "0         0      0  Never taker\n",
      "1         0      0  Never taker\n",
      "2         0      0  Never taker\n",
      "3         0      0  Never taker\n",
      "4         0      0  Never taker\n",
      "...     ...    ...          ...\n",
      "9995      0      1     Complier\n",
      "9996      0      0  Never taker\n",
      "9997      0      0  Never taker\n",
      "9998      0      0  Never taker\n",
      "9999      0      1     Complier\n",
      "\n",
      "[10000 rows x 3 columns]\n"
     ]
    }
   ],
   "source": [
    "# Сравним факт принадлежности фирмы к крупному масштабу для одной и той же фирмы в случаях, \n",
    "# когда она участвовала в программе господдержки и когда она не участвовала в программе господдержки\n",
    "print(pd.DataFrame(data    = np.array([scale0, scale1, ind_type]).transpose(),\n",
    "                   columns = ['scale0', 'scale1', 'Тип фирмы']))"
   ]
  },
  {
   "cell_type": "markdown",
   "id": "0f5d0c42",
   "metadata": {},
   "source": [
    "Наблюдаемый в данных вид масштаба фирмы можно выразить как:\n",
    "\n",
    "$$\\text{Scale}_{i} = \\begin{cases}\\text{Scale}_{1i}\\text{, если }\\text{Participation}_{i} = 1\\\\ \\text{Scale}_{0i}\\text{, если }\\text{Participation}_{i} = 0\\end{cases} = \\\\ = \\text{Scale}_{1i}\\times\\text{Participation}_{i} + \\text{Scale}_{0i}\\times\\left(1 - \\text{Participation}_{i}\\right)$$"
   ]
  },
  {
   "cell_type": "code",
   "execution_count": 20,
   "id": "32e551a1",
   "metadata": {},
   "outputs": [
    {
     "name": "stdout",
     "output_type": "stream",
     "text": [
      "0.0901\n"
     ]
    }
   ],
   "source": [
    "# Факт принадлежности фирмы к крупному масштабу\n",
    "scale = scale1 * participation + scale0 * (1 - participation)\n",
    "\n",
    "# Доля крупных фирм\n",
    "print(np.mean(scale))"
   ]
  },
  {
   "cell_type": "markdown",
   "id": "8cef5433",
   "metadata": {},
   "source": [
    "**Важно**\n",
    "\n",
    "*   При слабой корреляции между $\\text{Scale}_{i}$ и $\\text{Creditworthiness}_{i}$ проблема эндогенности окажется несущественной, а при слишком большой скорректировать эндоенность окажется чрезвычайно сложно.\n",
    "*   При слабой корреляции между $\\text{Scale}_{i}$ и $\\text{Participation}_{i}$ инструмент не будет релевантным и поэтому не позволит скорректировать эндогенность.\n",
    "\n",
    "Таким образом, желательно сделать так, чтобы корреляции находились в некотором разумном диапазоне:\n",
    "\n",
    "$$0.8\\geq|\\text{Corr}\\left(\\text{Scale}_{i}, \\text{Creditworthiness}_{i}\\right)|\\geq0.2$$\n",
    "\n",
    "$$0.8\\geq|\\text{Corr}\\left(\\text{Scale}_{i}, \\text{Participation}_{i}\\right)|\\geq0.2$$"
   ]
  },
  {
   "cell_type": "code",
   "execution_count": 21,
   "id": "cbc27abb",
   "metadata": {},
   "outputs": [
    {
     "name": "stdout",
     "output_type": "stream",
     "text": [
      "                                 Оценка\n",
      "Corr(scale, creditworthiness)  0.238575\n",
      "Corr(scale, participation)     0.409360\n"
     ]
    }
   ],
   "source": [
    "# Рассмотрим корреляции\n",
    "print(pd.DataFrame(data    = [np.corrcoef(scale, creditworthiness)[0, 1],\n",
    "                              np.corrcoef(scale, participation)[0, 1]],\n",
    "                   index   = ['Corr(scale, creditworthiness)',\n",
    "                              'Corr(scale, participation)'],\n",
    "                   columns = ['Оценка']))"
   ]
  },
  {
   "cell_type": "markdown",
   "id": "a72e5772",
   "metadata": {},
   "source": [
    "**Генерация целевой переменной**"
   ]
  },
  {
   "cell_type": "markdown",
   "id": "29de74e3",
   "metadata": {},
   "source": [
    "Сформируем представления о формировании потенциальном ожидаемом объеме импорта в зависимости от принадлежности фирмы к крупному бизнесу.\n",
    "\n",
    "**Основная идея** - отдача от возраста и кредитоспособности выше в случае, когда фирма получала государственную поддержку.\n",
    "\n",
    "Уравнение ожидаемого объема импорта когда фирма не относится к крупному бизнесу:\n",
    "\n",
    "$$\\text{Import}_{0i} = \\underbrace{\\underbrace{0.009\\times\\text{Creditworthiness}_{i}}_{g_{0}^{\\text{unobs}}}  \\underbrace{-35 + 0.01\\times\\frac{\\text{Age}_{i}}{10 -\\text{3*Industry}_{i}-\\text{7.77*Wroker}_{i}}+1\\times\\ln(\\text{Age}_{i}+0.2\\times\\text{Worker}_{i})+3\\times\\text{Industry}_{i}}_{g_{0}^{\\text{obs}}}}_{g_{0}} + \\varepsilon_{0i}\\text{, где }\\varepsilon_{0i}\\sim \\left(5\\times t(8)\\right)$$  \n",
    "\n",
    "Уравнение ожидаемого объема импорта когда фирма относится к крупному бизнесу::\n",
    "\n",
    "$$\\text{Import}_{1i} = \\underbrace{\\underbrace{0.01\\times\\text{Creditworthiness}_{i}}_{g_{1}^{\\text{unobs}}} \\underbrace{-24 + 0.03\\times\\sqrt{\\text{Age}_{i}\\times\\text{Industry}_{i}+5\\times\\text{Worker}_{i}}+16\\times\\ln(\\text{Age}_{i}+0.4\\times\\text{Worker}_{i})+8\\times\\text{Industry}_{i}}_{g_{1}^{\\text{obs}}}}_{g_{1}} + \\varepsilon_{1i}\\text{, где }\\varepsilon_{1i}\\sim \\left(4\\times t(9)\\right)$$ \n",
    "\n",
    "Наблюдаемый ожидаемый объем импорта:\n",
    "\n",
    "$$\\text{Import}_{i} = \\begin{cases}\\text{Import}_{1i}\\text{, если }\\text{Scale}_{i}=1\\\\ \\text{Import}_{0i}\\text{, если }\\text{Scale}_{i}=0\\end{cases} = \\\\ =\\text{Import}_{1i}\\times\\text{Scale}_{i} + \\text{Import}_{0i}\\times\\left(1-\\text{Scale}_{i}\\right)$$"
   ]
  },
  {
   "cell_type": "code",
   "execution_count": 22,
   "id": "87aab13d",
   "metadata": {},
   "outputs": [],
   "source": [
    "# Случайные ошибки\n",
    "error0 = t.rvs(size = n, df = 8) * 5\n",
    "error1 = t.rvs(size = n, df = 9) * 4\n",
    "\n",
    "# Функция от контрольных переменных\n",
    "  # когда масштаб бизнеса не крупный\n",
    "g0_obs   = -35 + 0.01*age/(10-30*industry-7.77*worker)+10*np.log(age+0.2*worker)+3*industry\n",
    "g0_unobs =  0.009 * creditworthiness\n",
    "g0       = g0_obs + g0_unobs\n",
    "  # когда масшта0б бизнеса крупный\n",
    "g1_obs   = -24 + 0.03*np.sqrt(age *industry+5*worker )+16*np.log(age+0.4*worker)+8*industry\n",
    "g1_unobs = 0.01*creditworthiness\n",
    "g1       = g1_obs + g1_unobs\n",
    "\n",
    "# Ожидаемый объем импорта в зависимости от масштаба(принадлежности к крупному бизнесу):\n",
    "import0 = g0 + error0\n",
    "import1 = g1 + error1\n",
    "\n",
    "# Наблюдаемый ожидаемый объем импорта\n",
    "import_ = import1 * scale + import0 * (1 - scale)\n",
    "#Обрежем нулевые значения\n",
    "import_ = np.maximum(import_, 0)"
   ]
  },
  {
   "cell_type": "code",
   "execution_count": 23,
   "id": "af16d002",
   "metadata": {},
   "outputs": [
    {
     "data": {
      "text/plain": [
       "<Axes: ylabel='Density'>"
      ]
     },
     "execution_count": 23,
     "metadata": {},
     "output_type": "execute_result"
    },
    {
     "data": {
      "image/png": "[encoded data removed]",
      "text/plain": [
       "<Figure size 432x288 with 1 Axes>"
      ]
     },
     "metadata": {
      "needs_background": "light"
     },
     "output_type": "display_data"
    }
   ],
   "source": [
    "# Посмотрим на распределение ожидаемого объема импорта\n",
    "seaborn.histplot(import_,                  # данные\n",
    "                 stat  = 'density',          # тип гистограммы\n",
    "                 color = \"palevioletred\",    # цвет гистограммы\n",
    "                 label = \"histogram\",        # наименование гистограммы\n",
    "                 bins  = 40)                 # число столбиков в Гистограмме"
   ]
  },
  {
   "cell_type": "code",
   "execution_count": 24,
   "id": "13e5dda6",
   "metadata": {},
   "outputs": [
    {
     "name": "stdout",
     "output_type": "stream",
     "text": [
      "8.233241411291818\n"
     ]
    }
   ],
   "source": [
    "print(np.mean(import_))"
   ]
  },
  {
   "cell_type": "markdown",
   "id": "bbf52cbc",
   "metadata": {},
   "source": [
    "Во избежание чрезвычайно точных или крайне неточных оценок, желательно, чтобы при каждом $j\\in\\{0, 1\\}$ дисперсии $\\varepsilon_{ji}$, $g_{j}$, $g_{j}^{\\text{obs}}$ и  $g_{j}^{\\text{unobs}}$ различались не более, чем в $5$ раз."
   ]
  },
  {
   "cell_type": "code",
   "execution_count": 25,
   "id": "522de170",
   "metadata": {},
   "outputs": [
    {
     "name": "stdout",
     "output_type": "stream",
     "text": [
      "                   Оценка\n",
      "Var(eps0)       33.286596\n",
      "Var(g0)         82.567866\n",
      "Var(g0_obs)     80.359469\n",
      "Var(g0_unobs)    2.124940\n",
      "Var(eps1)       20.330456\n",
      "Var(g1)        287.471462\n",
      "Var(g1_obs)    284.656551\n",
      "Var(g1_unobs)    2.623382\n",
      "Var(import_)   217.896215\n"
     ]
    }
   ],
   "source": [
    "# Приблизительно оценим адекватность дисперсий\n",
    "print(pd.DataFrame(data    = [np.var(error0),   np.var(g0),\n",
    "                              np.var(g0_obs),   np.var(g0_unobs),\n",
    "                              np.var(error1),   np.var(g1),\n",
    "                              np.var(g1_obs),   np.var(g1_unobs),\n",
    "                              np.var(import_)],\n",
    "                   index   = ['Var(eps0)',     'Var(g0)',\n",
    "                              'Var(g0_obs)',   'Var(g0_unobs)',\n",
    "                              'Var(eps1)',     'Var(g1)',\n",
    "                              'Var(g1_obs)',   'Var(g1_unobs)',\n",
    "                              'Var(import_)'],\n",
    "                   columns = ['Оценка']))"
   ]
  },
  {
   "cell_type": "markdown",
   "id": "1318a202",
   "metadata": {},
   "source": [
    "**Подведем итог генерации данных**"
   ]
  },
  {
   "cell_type": "code",
   "execution_count": 26,
   "id": "d6ac0142",
   "metadata": {},
   "outputs": [
    {
     "name": "stdout",
     "output_type": "stream",
     "text": [
      "Requirement already satisfied: prettytable in ./.local/lib/python3.8/site-packages (3.11.0)\r\n",
      "Requirement already satisfied: wcwidth in /usr/local/lib/python3.8/dist-packages (from prettytable) (0.2.5)\r\n"
     ]
    }
   ],
   "source": [
    "!pip install prettytable"
   ]
  },
  {
   "cell_type": "code",
   "execution_count": 27,
   "id": "a243e373",
   "metadata": {},
   "outputs": [
    {
     "name": "stdout",
     "output_type": "stream",
     "text": [
      "+---------------+----------+----------+----------+-----------------+---------------+----------+----------+\n",
      "|               |   Age    | Industry |  Worker  | Creditwothiness | Participation |  Scale   |  Import  |\n",
      "+---------------+----------+----------+----------+-----------------+---------------+----------+----------+\n",
      "|     Закон     | Логнорма | Бернулли | Логнорма |      Бета-      |    Условное   | Условное | Условное |\n",
      "| распределения |  льный   |          |  льный   |  распределение  |               |          |          |\n",
      "|   Параметры   | scale=9, |  p=0.11  | scale=24 | alpha=2, beta=5 |               |          |          |\n",
      "|               | std=0.71 |          |   .65,   |                 |               |          |          |\n",
      "|               |          |          | std=1.73 |                 |               |          |          |\n",
      "|  Cреднее/Доля | 11.5338  |  0.1115  | 106.5554 |     713.651     |     0.2899    |  0.0901  |  8.233   |\n",
      "|     единиц    |          |          |          |                 |               |          |          |\n",
      "+---------------+----------+----------+----------+-----------------+---------------+----------+----------+\n"
     ]
    }
   ],
   "source": [
    "from prettytable import PrettyTable\n",
    "\n",
    "\n",
    "# Создание таблицы\n",
    "tableSummary = PrettyTable()\n",
    "tableSummary.field_names = [\"\", \"Age\", \"Industry\", \"Worker\", \"Creditwothiness\", \"Participation\", \"Scale\", \"Import\"]\n",
    "\n",
    "# Добавляем строки\n",
    "tableSummary.add_row([\"Закон распределения\",\"Логнормальный\", \"Бернулли\", \"Логнормальный\", \"Бета-распределение\", \"Условное\", \"Условное\", \"Условное\"])\n",
    "tableSummary.add_row([\"Параметры\", \"scale=9, std=0.71\",  \"p=0.11\", \"scale=24.65, std=1.73\", \"alpha=2, beta=5\", \"\", \"\", \"\"])\n",
    "tableSummary.add_row([\"Cреднее/Доля единиц\", age.mean(), industry.mean() ,worker.mean(), creditworthiness.mean().round(3), participation.mean(), scale.mean(), import_.mean().round(3)])\n",
    "\n",
    "tableSummary.max_width[\"\"] = 13\n",
    "tableSummary.max_width[\"Age\"] =  8\n",
    "tableSummary.max_width[\"Industry\"] =  8\n",
    "tableSummary.max_width[\"Worker\"] =  8\n",
    "tableSummary.max_width[\"Creditwothiness\"] =  8\n",
    "tableSummary.max_width[\"Participation\"] =  8\n",
    "tableSummary.max_width[\"Scale\"] =  8\n",
    "tableSummary.max_width[\"Import\"] =  8\n",
    "print(tableSummary)"
   ]
  },
  {
   "cell_type": "markdown",
   "id": "89f6b87b",
   "metadata": {},
   "source": [
    "**Объединение данных**"
   ]
  },
  {
   "cell_type": "code",
   "execution_count": 28,
   "id": "01c6a7a7",
   "metadata": {},
   "outputs": [
    {
     "data": {
      "text/html": [
       "<style type=\"text/css\">\n",
       "</style>\n",
       "<table id=\"T_d7a6a\">\n",
       "  <thead>\n",
       "    <tr>\n",
       "      <th class=\"blank level0\" >&nbsp;</th>\n",
       "      <th id=\"T_d7a6a_level0_col0\" class=\"col_heading level0 col0\" >import</th>\n",
       "      <th id=\"T_d7a6a_level0_col1\" class=\"col_heading level0 col1\" >scale</th>\n",
       "      <th id=\"T_d7a6a_level0_col2\" class=\"col_heading level0 col2\" >age</th>\n",
       "      <th id=\"T_d7a6a_level0_col3\" class=\"col_heading level0 col3\" >industry</th>\n",
       "      <th id=\"T_d7a6a_level0_col4\" class=\"col_heading level0 col4\" >participation</th>\n",
       "      <th id=\"T_d7a6a_level0_col5\" class=\"col_heading level0 col5\" >worker</th>\n",
       "    </tr>\n",
       "  </thead>\n",
       "  <tbody>\n",
       "    <tr>\n",
       "      <th id=\"T_d7a6a_level0_row0\" class=\"row_heading level0 row0\" >0</th>\n",
       "      <td id=\"T_d7a6a_row0_col0\" class=\"data row0 col0\" >0.00</td>\n",
       "      <td id=\"T_d7a6a_row0_col1\" class=\"data row0 col1\" >0</td>\n",
       "      <td id=\"T_d7a6a_row0_col2\" class=\"data row0 col2\" >4.00</td>\n",
       "      <td id=\"T_d7a6a_row0_col3\" class=\"data row0 col3\" >1</td>\n",
       "      <td id=\"T_d7a6a_row0_col4\" class=\"data row0 col4\" >1</td>\n",
       "      <td id=\"T_d7a6a_row0_col5\" class=\"data row0 col5\" >14.00</td>\n",
       "    </tr>\n",
       "    <tr>\n",
       "      <th id=\"T_d7a6a_level0_row1\" class=\"row_heading level0 row1\" >1</th>\n",
       "      <td id=\"T_d7a6a_row1_col0\" class=\"data row1 col0\" >11.58</td>\n",
       "      <td id=\"T_d7a6a_row1_col1\" class=\"data row1 col1\" >0</td>\n",
       "      <td id=\"T_d7a6a_row1_col2\" class=\"data row1 col2\" >18.00</td>\n",
       "      <td id=\"T_d7a6a_row1_col3\" class=\"data row1 col3\" >1</td>\n",
       "      <td id=\"T_d7a6a_row1_col4\" class=\"data row1 col4\" >0</td>\n",
       "      <td id=\"T_d7a6a_row1_col5\" class=\"data row1 col5\" >35.00</td>\n",
       "    </tr>\n",
       "    <tr>\n",
       "      <th id=\"T_d7a6a_level0_row2\" class=\"row_heading level0 row2\" >2</th>\n",
       "      <td id=\"T_d7a6a_row2_col0\" class=\"data row2 col0\" >1.83</td>\n",
       "      <td id=\"T_d7a6a_row2_col1\" class=\"data row2 col1\" >0</td>\n",
       "      <td id=\"T_d7a6a_row2_col2\" class=\"data row2 col2\" >11.00</td>\n",
       "      <td id=\"T_d7a6a_row2_col3\" class=\"data row2 col3\" >0</td>\n",
       "      <td id=\"T_d7a6a_row2_col4\" class=\"data row2 col4\" >0</td>\n",
       "      <td id=\"T_d7a6a_row2_col5\" class=\"data row2 col5\" >20.00</td>\n",
       "    </tr>\n",
       "    <tr>\n",
       "      <th id=\"T_d7a6a_level0_row3\" class=\"row_heading level0 row3\" >3</th>\n",
       "      <td id=\"T_d7a6a_row3_col0\" class=\"data row3 col0\" >8.46</td>\n",
       "      <td id=\"T_d7a6a_row3_col1\" class=\"data row3 col1\" >0</td>\n",
       "      <td id=\"T_d7a6a_row3_col2\" class=\"data row3 col2\" >3.00</td>\n",
       "      <td id=\"T_d7a6a_row3_col3\" class=\"data row3 col3\" >0</td>\n",
       "      <td id=\"T_d7a6a_row3_col4\" class=\"data row3 col4\" >0</td>\n",
       "      <td id=\"T_d7a6a_row3_col5\" class=\"data row3 col5\" >256.00</td>\n",
       "    </tr>\n",
       "    <tr>\n",
       "      <th id=\"T_d7a6a_level0_row4\" class=\"row_heading level0 row4\" >4</th>\n",
       "      <td id=\"T_d7a6a_row4_col0\" class=\"data row4 col0\" >3.63</td>\n",
       "      <td id=\"T_d7a6a_row4_col1\" class=\"data row4 col1\" >0</td>\n",
       "      <td id=\"T_d7a6a_row4_col2\" class=\"data row4 col2\" >6.00</td>\n",
       "      <td id=\"T_d7a6a_row4_col3\" class=\"data row4 col3\" >0</td>\n",
       "      <td id=\"T_d7a6a_row4_col4\" class=\"data row4 col4\" >0</td>\n",
       "      <td id=\"T_d7a6a_row4_col5\" class=\"data row4 col5\" >23.00</td>\n",
       "    </tr>\n",
       "    <tr>\n",
       "      <th id=\"T_d7a6a_level0_row5\" class=\"row_heading level0 row5\" >5</th>\n",
       "      <td id=\"T_d7a6a_row5_col0\" class=\"data row5 col0\" >16.95</td>\n",
       "      <td id=\"T_d7a6a_row5_col1\" class=\"data row5 col1\" >0</td>\n",
       "      <td id=\"T_d7a6a_row5_col2\" class=\"data row5 col2\" >29.00</td>\n",
       "      <td id=\"T_d7a6a_row5_col3\" class=\"data row5 col3\" >0</td>\n",
       "      <td id=\"T_d7a6a_row5_col4\" class=\"data row5 col4\" >0</td>\n",
       "      <td id=\"T_d7a6a_row5_col5\" class=\"data row5 col5\" >24.00</td>\n",
       "    </tr>\n",
       "    <tr>\n",
       "      <th id=\"T_d7a6a_level0_row6\" class=\"row_heading level0 row6\" >6</th>\n",
       "      <td id=\"T_d7a6a_row6_col0\" class=\"data row6 col0\" >0.00</td>\n",
       "      <td id=\"T_d7a6a_row6_col1\" class=\"data row6 col1\" >0</td>\n",
       "      <td id=\"T_d7a6a_row6_col2\" class=\"data row6 col2\" >2.00</td>\n",
       "      <td id=\"T_d7a6a_row6_col3\" class=\"data row6 col3\" >0</td>\n",
       "      <td id=\"T_d7a6a_row6_col4\" class=\"data row6 col4\" >1</td>\n",
       "      <td id=\"T_d7a6a_row6_col5\" class=\"data row6 col5\" >133.00</td>\n",
       "    </tr>\n",
       "    <tr>\n",
       "      <th id=\"T_d7a6a_level0_row7\" class=\"row_heading level0 row7\" >7</th>\n",
       "      <td id=\"T_d7a6a_row7_col0\" class=\"data row7 col0\" >0.00</td>\n",
       "      <td id=\"T_d7a6a_row7_col1\" class=\"data row7 col1\" >0</td>\n",
       "      <td id=\"T_d7a6a_row7_col2\" class=\"data row7 col2\" >7.00</td>\n",
       "      <td id=\"T_d7a6a_row7_col3\" class=\"data row7 col3\" >1</td>\n",
       "      <td id=\"T_d7a6a_row7_col4\" class=\"data row7 col4\" >0</td>\n",
       "      <td id=\"T_d7a6a_row7_col5\" class=\"data row7 col5\" >2.00</td>\n",
       "    </tr>\n",
       "    <tr>\n",
       "      <th id=\"T_d7a6a_level0_row8\" class=\"row_heading level0 row8\" >8</th>\n",
       "      <td id=\"T_d7a6a_row8_col0\" class=\"data row8 col0\" >0.00</td>\n",
       "      <td id=\"T_d7a6a_row8_col1\" class=\"data row8 col1\" >0</td>\n",
       "      <td id=\"T_d7a6a_row8_col2\" class=\"data row8 col2\" >22.00</td>\n",
       "      <td id=\"T_d7a6a_row8_col3\" class=\"data row8 col3\" >0</td>\n",
       "      <td id=\"T_d7a6a_row8_col4\" class=\"data row8 col4\" >0</td>\n",
       "      <td id=\"T_d7a6a_row8_col5\" class=\"data row8 col5\" >2.00</td>\n",
       "    </tr>\n",
       "    <tr>\n",
       "      <th id=\"T_d7a6a_level0_row9\" class=\"row_heading level0 row9\" >9</th>\n",
       "      <td id=\"T_d7a6a_row9_col0\" class=\"data row9 col0\" >0.00</td>\n",
       "      <td id=\"T_d7a6a_row9_col1\" class=\"data row9 col1\" >0</td>\n",
       "      <td id=\"T_d7a6a_row9_col2\" class=\"data row9 col2\" >5.00</td>\n",
       "      <td id=\"T_d7a6a_row9_col3\" class=\"data row9 col3\" >0</td>\n",
       "      <td id=\"T_d7a6a_row9_col4\" class=\"data row9 col4\" >0</td>\n",
       "      <td id=\"T_d7a6a_row9_col5\" class=\"data row9 col5\" >32.00</td>\n",
       "    </tr>\n",
       "  </tbody>\n",
       "</table>\n"
      ],
      "text/plain": [
       "<pandas.io.formats.style.Styler at 0x7fb213b06f70>"
      ]
     },
     "execution_count": 28,
     "metadata": {},
     "output_type": "execute_result"
    }
   ],
   "source": [
    "# Аггрегируем данные в датафрейм\n",
    "df = pd.DataFrame({'import': import_, 'scale': scale,\n",
    "                   'age': age, 'industry': industry,'participation': participation,  'worker': worker})\n",
    "df = df.loc[0:n, :]\n",
    "\n",
    "# Посмотрим на симулированные данные\n",
    "df.head(10).style.format(precision = 2)"
   ]
  },
  {
   "cell_type": "code",
   "execution_count": 29,
   "id": "f81c107e",
   "metadata": {},
   "outputs": [
    {
     "name": "stdout",
     "output_type": "stream",
     "text": [
      "                 import     scale       age  industry  participation    worker\n",
      "import         1.000000  0.796975  0.152889  0.058746       0.286080  0.373163\n",
      "scale          0.796975  1.000000  0.011745  0.013913       0.409360  0.087203\n",
      "age            0.152889  0.011745  1.000000 -0.020604      -0.421725 -0.002276\n",
      "industry       0.058746  0.013913 -0.020604  1.000000       0.036246  0.002111\n",
      "participation  0.286080  0.409360 -0.421725  0.036246       1.000000  0.062036\n",
      "worker         0.373163  0.087203 -0.002276  0.002111       0.062036  1.000000\n"
     ]
    }
   ],
   "source": [
    "#Приведем корреляционную матрицу.\n",
    "print(df.astype(float).corr(method = 'pearson'))"
   ]
  },
  {
   "cell_type": "code",
   "execution_count": 30,
   "id": "57c877cc",
   "metadata": {},
   "outputs": [
    {
     "data": {
      "text/html": [
       "<div>\n",
       "<style scoped>\n",
       "    .dataframe tbody tr th:only-of-type {\n",
       "        vertical-align: middle;\n",
       "    }\n",
       "\n",
       "    .dataframe tbody tr th {\n",
       "        vertical-align: top;\n",
       "    }\n",
       "\n",
       "    .dataframe thead th {\n",
       "        text-align: right;\n",
       "    }\n",
       "</style>\n",
       "<table border=\"1\" class=\"dataframe\">\n",
       "  <thead>\n",
       "    <tr style=\"text-align: right;\">\n",
       "      <th></th>\n",
       "      <th>import</th>\n",
       "      <th>age</th>\n",
       "      <th>worker</th>\n",
       "    </tr>\n",
       "  </thead>\n",
       "  <tbody>\n",
       "    <tr>\n",
       "      <th>mean</th>\n",
       "      <td>8.233241</td>\n",
       "      <td>11.533800</td>\n",
       "      <td>106.555400</td>\n",
       "    </tr>\n",
       "    <tr>\n",
       "      <th>std</th>\n",
       "      <td>14.762046</td>\n",
       "      <td>8.684549</td>\n",
       "      <td>442.732855</td>\n",
       "    </tr>\n",
       "    <tr>\n",
       "      <th>median</th>\n",
       "      <td>1.424639</td>\n",
       "      <td>9.000000</td>\n",
       "      <td>24.000000</td>\n",
       "    </tr>\n",
       "    <tr>\n",
       "      <th>min</th>\n",
       "      <td>0.000000</td>\n",
       "      <td>1.000000</td>\n",
       "      <td>2.000000</td>\n",
       "    </tr>\n",
       "    <tr>\n",
       "      <th>max</th>\n",
       "      <td>114.435614</td>\n",
       "      <td>50.000000</td>\n",
       "      <td>28072.000000</td>\n",
       "    </tr>\n",
       "  </tbody>\n",
       "</table>\n",
       "</div>"
      ],
      "text/plain": [
       "            import        age        worker\n",
       "mean      8.233241  11.533800    106.555400\n",
       "std      14.762046   8.684549    442.732855\n",
       "median    1.424639   9.000000     24.000000\n",
       "min       0.000000   1.000000      2.000000\n",
       "max     114.435614  50.000000  28072.000000"
      ]
     },
     "execution_count": 30,
     "metadata": {},
     "output_type": "execute_result"
    }
   ],
   "source": [
    "#Для непрерывных переменных приведем описательные статистики\n",
    "df.agg({'import': ['mean', 'std', 'median', 'min', 'max'],\n",
    "             'age': ['mean', 'std', 'median', 'min', 'max'],\n",
    "       'worker': ['mean', 'std', 'median', 'min', 'max']})"
   ]
  },
  {
   "cell_type": "code",
   "execution_count": 31,
   "id": "a2428344",
   "metadata": {},
   "outputs": [
    {
     "data": {
      "text/html": [
       "<div>\n",
       "<style scoped>\n",
       "    .dataframe tbody tr th:only-of-type {\n",
       "        vertical-align: middle;\n",
       "    }\n",
       "\n",
       "    .dataframe tbody tr th {\n",
       "        vertical-align: top;\n",
       "    }\n",
       "\n",
       "    .dataframe thead th {\n",
       "        text-align: right;\n",
       "    }\n",
       "</style>\n",
       "<table border=\"1\" class=\"dataframe\">\n",
       "  <thead>\n",
       "    <tr style=\"text-align: right;\">\n",
       "      <th></th>\n",
       "      <th>scale</th>\n",
       "      <th>industry</th>\n",
       "      <th>participation</th>\n",
       "    </tr>\n",
       "  </thead>\n",
       "  <tbody>\n",
       "    <tr>\n",
       "      <th>mean</th>\n",
       "      <td>0.0901</td>\n",
       "      <td>0.1115</td>\n",
       "      <td>0.2899</td>\n",
       "    </tr>\n",
       "    <tr>\n",
       "      <th>sum</th>\n",
       "      <td>901.0000</td>\n",
       "      <td>1115.0000</td>\n",
       "      <td>2899.0000</td>\n",
       "    </tr>\n",
       "  </tbody>\n",
       "</table>\n",
       "</div>"
      ],
      "text/plain": [
       "         scale   industry  participation\n",
       "mean    0.0901     0.1115         0.2899\n",
       "sum   901.0000  1115.0000      2899.0000"
      ]
     },
     "execution_count": 31,
     "metadata": {},
     "output_type": "execute_result"
    }
   ],
   "source": [
    "#Для бинарных переменных приведем долю и количество единиц\n",
    "df.agg({'scale': ['mean', 'sum'],\n",
    "             'industry': ['mean', 'sum'],\n",
    "             'participation': ['mean', 'sum'] })"
   ]
  },
  {
   "cell_type": "markdown",
   "id": "5f2066ee",
   "metadata": {},
   "source": [
    "4. Разделите выборку на обучающую и тестовую. Тестовая выборка должна включать от 20% до 30% наблюдений."
   ]
  },
  {
   "cell_type": "markdown",
   "id": "0ca07a09",
   "metadata": {},
   "source": [
    "Разделим сразу для выполнения пункта 3(не включая целевую переменную импорт)"
   ]
  },
  {
   "cell_type": "code",
   "execution_count": 32,
   "id": "2b25ae8b",
   "metadata": {},
   "outputs": [
    {
     "name": "stdout",
     "output_type": "stream",
     "text": [
      "8000 2000\n",
      "8000 2000\n"
     ]
    }
   ],
   "source": [
    "from sklearn.model_selection import train_test_split\n",
    "# Разделим целевую переменную и признаки\n",
    "target   = df.loc[:, ['scale']]            # целевая переменная\n",
    "features = df.loc[:, [\"age\", \"industry\", \"worker\", \"participation\"]]    # матрица признаков\n",
    "target   = np.squeeze(target)                # преобразуем из вектора столбца\n",
    "                                             # в одномерный массив\n",
    "# Разделим выборку на обучающую и тестовую\n",
    "# с помощью автоматической функции\n",
    "features_train, features_test, target_train, target_test = train_test_split(\n",
    "    features, target, test_size = 0.2, random_state = 777)\n",
    "\n",
    "# Убедимся, что обучающая и тестовая выборки имеют верные пропорции\n",
    "print(features_train.index.size, features_test.index.size) # признаки\n",
    "print(target_train.index.size, target_test.index.size)     # целевая переменная"
   ]
  },
  {
   "cell_type": "markdown",
   "id": "25dfe2f1",
   "metadata": {},
   "source": [
    "****3 Классификация****\n"
   ]
  },
  {
   "cell_type": "markdown",
   "id": "1a9238a5",
   "metadata": {},
   "source": [
    "В каждом из заданий, если не сказано иного, необходимо использовать хотя бы 3\n",
    "(на ваш выбор) из следующих методов: наивный Байесовский классификатор, метод\n"
   ]
  },
  {
   "cell_type": "code",
   "execution_count": 34,
   "id": "2414cd31",
   "metadata": {},
   "outputs": [
    {
     "name": "stdout",
     "output_type": "stream",
     "text": [
      "/bin/sh: 1: python.exe: Permission denied\n",
      "\u001b[31mERROR: Could not find a version that satisfies the requirement numpy==1.26.4 (from versions: 1.3.0, 1.4.1, 1.5.0, 1.5.1, 1.6.0, 1.6.1, 1.6.2, 1.7.0, 1.7.1, 1.7.2, 1.8.0, 1.8.1, 1.8.2, 1.9.0, 1.9.1, 1.9.2, 1.9.3, 1.10.0.post2, 1.10.1, 1.10.2, 1.10.4, 1.11.0, 1.11.1, 1.11.2, 1.11.3, 1.12.0, 1.12.1, 1.13.0, 1.13.1, 1.13.3, 1.14.0, 1.14.1, 1.14.2, 1.14.3, 1.14.4, 1.14.5, 1.14.6, 1.15.0, 1.15.1, 1.15.2, 1.15.3, 1.15.4, 1.16.0, 1.16.1, 1.16.2, 1.16.3, 1.16.4, 1.16.5, 1.16.6, 1.17.0, 1.17.1, 1.17.2, 1.17.3, 1.17.4, 1.17.5, 1.18.0, 1.18.1, 1.18.2, 1.18.3, 1.18.4, 1.18.5, 1.19.0, 1.19.1, 1.19.2, 1.19.3, 1.19.4, 1.19.5, 1.20.0, 1.20.1, 1.20.2, 1.20.3, 1.21.0, 1.21.1, 1.21.2, 1.21.3, 1.21.4, 1.21.5, 1.21.6, 1.22.0, 1.22.1, 1.22.2, 1.22.3, 1.22.4, 1.23.0, 1.23.1, 1.23.2, 1.23.3, 1.23.4, 1.23.5, 1.24.0, 1.24.1, 1.24.2, 1.24.3, 1.24.4)\u001b[0m\n",
      "\u001b[31mERROR: No matching distribution found for numpy==1.26.4\u001b[0m\n",
      "Requirement already satisfied: pandas in ./.local/lib/python3.8/site-packages (2.0.3)\n",
      "Requirement already satisfied: tzdata>=2022.1 in ./.local/lib/python3.8/site-packages (from pandas) (2024.2)\n",
      "Requirement already satisfied: pytz>=2020.1 in ./.local/lib/python3.8/site-packages (from pandas) (2024.2)\n",
      "Requirement already satisfied: numpy>=1.20.3; python_version < \"3.10\" in ./.local/lib/python3.8/site-packages (from pandas) (1.24.4)\n",
      "Requirement already satisfied: python-dateutil>=2.8.2 in /usr/local/lib/python3.8/dist-packages (from pandas) (2.8.2)\n",
      "Requirement already satisfied: six>=1.5 in /usr/local/lib/python3.8/dist-packages (from python-dateutil>=2.8.2->pandas) (1.16.0)\n",
      "Requirement already satisfied: scikit-learn in ./.local/lib/python3.8/site-packages (1.3.2)\n",
      "Requirement already satisfied: joblib>=1.1.1 in ./.local/lib/python3.8/site-packages (from scikit-learn) (1.4.2)\n",
      "Requirement already satisfied: threadpoolctl>=2.0.0 in ./.local/lib/python3.8/site-packages (from scikit-learn) (3.5.0)\n",
      "Requirement already satisfied: numpy<2.0,>=1.17.3 in ./.local/lib/python3.8/site-packages (from scikit-learn) (1.24.4)\n",
      "Requirement already satisfied: scipy>=1.5.0 in ./.local/lib/python3.8/site-packages (from scikit-learn) (1.10.1)\n",
      "Requirement already satisfied: openpyxl in ./.local/lib/python3.8/site-packages (3.1.5)\n",
      "Requirement already satisfied: et-xmlfile in ./.local/lib/python3.8/site-packages (from openpyxl) (2.0.0)\n"
     ]
    }
   ],
   "source": [
    "!python.exe -m pip install --upgrade pip\n",
    "!pip install numpy==1.26.4\n",
    "!pip install pandas # 1.5.3\n",
    "!pip install scikit-learn\n",
    "!pip install openpyxl\n",
    "exit()"
   ]
  },
  {
   "cell_type": "code",
   "execution_count": 33,
   "id": "7be0d8a6",
   "metadata": {},
   "outputs": [],
   "source": [
    "# Подключим необходимые библиотеки\n",
    "import numpy as np                                        # базовые операции с массивами\n",
    "import pandas as pd                                       # базовые операции с датафреймами\n",
    "from   sklearn.naive_bayes import CategoricalNB           # наивный Байесовский классификатор\n",
    "from   sklearn.model_selection import train_test_split    # разделение выборки на\n",
    "                                                          # обучающую и тестовую\n",
    "from   sklearn.model_selection import cross_val_score     # кросс-валидация\n",
    "from   sklearn.model_selection import KFold               # разбиение на части (folds)\n",
    "import openpyxl                                           # работа с excel\n",
    "import matplotlib.pyplot as plt                           # графики\n",
    "from   sklearn.metrics import confusion_matrix            # подсчет прогнозов\n",
    "from   sklearn.neighbors import KNeighborsClassifier      # метод ближайшие соседей\n",
    "import sklearn\n",
    "from   sklearn.model_selection import GridSearchCV        # подбор гиперпараметров\n",
    "from   sklearn.model_selection import RandomizedSearchCV  # подбор гиперпараметров\n",
    "import scipy                                              # распределения\n",
    "from   sklearn.metrics import RocCurveDisplay             # ROC-кривая\n",
    "from   sklearn import metrics                             # метрики точности\n",
    "import itertools\n",
    "\n",
    "from   sklearn.utils import shuffle                       # случайная перестановка\n",
    "from   sklearn.inspection import DecisionBoundaryDisplay  # границы решений\n"
   ]
  },
  {
   "cell_type": "markdown",
   "id": "6588e29c",
   "metadata": {},
   "source": [
    "1. Отберите признаки, которые могут быть полезны при прогнозировании переменной воздействия и обоснуйте выбор каждой из них. Не включайте в число\n",
    "этих признаков целевую переменную."
   ]
  },
  {
   "cell_type": "markdown",
   "id": "040261d0",
   "metadata": {},
   "source": [
    "Для того, чтобы выбрать переменные, полезные при прогнозированные переменной Scale, нам следует составить корреляционную матрицу без учета импорта, поскольку в данной задаче корреляция с импортом не имеет значения."
   ]
  },
  {
   "cell_type": "code",
   "execution_count": 34,
   "id": "0867809b",
   "metadata": {},
   "outputs": [
    {
     "name": "stdout",
     "output_type": "stream",
     "text": [
      "                  scale       age  industry  participation    worker\n",
      "scale          1.000000  0.011745  0.013913       0.409360  0.087203\n",
      "age            0.011745  1.000000 -0.020604      -0.421725 -0.002276\n",
      "industry       0.013913 -0.020604  1.000000       0.036246  0.002111\n",
      "participation  0.409360 -0.421725  0.036246       1.000000  0.062036\n",
      "worker         0.087203 -0.002276  0.002111       0.062036  1.000000\n"
     ]
    }
   ],
   "source": [
    "# Удаляем колонку 'import' и считаем корреляционную матрицу, поскольку в данном задании мы ее не испоьлзуем и следовательно нам нужно очистить корреляции т ее влияния\n",
    "correlation_matrix1 = df.drop(columns=['import']).corr()\n",
    "# Выводим матрицу\n",
    "print(correlation_matrix1)\n"
   ]
  },
  {
   "cell_type": "markdown",
   "id": "6d4d6227",
   "metadata": {},
   "source": [
    "Ранее мы уже создали тестовую и обучающую выборки с данными переменными, она не включает переменную Импорт"
   ]
  },
  {
   "cell_type": "markdown",
   "id": "60d64aa8",
   "metadata": {},
   "source": [
    "Как мы видим, переменная scale коррелирует только с переменной participation, с остальными переменными ее корреляция слабая, поэтому выполним оценку важности признаков"
   ]
  },
  {
   "cell_type": "code",
   "execution_count": 35,
   "id": "8789798c",
   "metadata": {},
   "outputs": [],
   "source": [
    "# Сохраним число наблюдений обучающей и тестовой выборок\n",
    "n_train = len(target_train)\n",
    "n_test  = len(target_test)\n",
    "\n",
    "# Вернем исходную сортировку индексов\n",
    "features_train = features_train.reset_index(drop = True)\n",
    "target_train   = target_train.reset_index(drop = True)\n",
    "features_test  = features_test.reset_index(drop = True)\n",
    "target_test    = target_test.reset_index(drop = True)"
   ]
  },
  {
   "cell_type": "markdown",
   "id": "e1b801ac",
   "metadata": {},
   "source": [
    "Выполним нормализацию данных"
   ]
  },
  {
   "cell_type": "markdown",
   "id": "40606bbb",
   "metadata": {},
   "source": [
    "Обозначим через $X_{*j}$ столбец $j$ в матрице признаков $X$, то есть $j$-й признак. Через $\\tilde{X}$ обозначим матрицу нормализованных признаков.\n",
    "\n",
    "Наиболее распространенный способ нормализации данных:\n",
    "$\\tilde{X}_{ij} = \\frac{X_{ij} - \\overline{X}_{*j}}{\\sqrt{\\hat{\\sigma}^{2}_{j}}}$"
   ]
  },
  {
   "cell_type": "code",
   "execution_count": 36,
   "id": "c6a402b0",
   "metadata": {},
   "outputs": [],
   "source": [
    "# Сохраним данные до нормализации\n",
    "features_train_initial = features_train.copy()\n",
    "features_test_initial  = features_test.copy()\n",
    "\n",
    "# Подготовим объект, осуществляющий нормализацию\n",
    "scaler = sklearn.preprocessing.StandardScaler().set_output(transform = \"pandas\").fit(features_train)\n",
    "\n",
    "# Нормализуем данные\n",
    "features_train = scaler.transform(features_train_initial)  # обучающая выборка\n",
    "features_test  = scaler.transform(features_test_initial)   # тестовая выборка"
   ]
  },
  {
   "cell_type": "markdown",
   "id": "9c61dc69",
   "metadata": {},
   "source": [
    "**Оценка важности признаков с помощью методов классификации**"
   ]
  },
  {
   "cell_type": "markdown",
   "id": "a5c46022",
   "metadata": {},
   "source": [
    "Рисуем после выполнения каждого метода гистограмму важностей признаков, чтобы можно было визуально сравнить, какие признаки важнее всего для классификации.\n",
    "\n"
   ]
  },
  {
   "cell_type": "code",
   "execution_count": 37,
   "id": "0ce6f5c5",
   "metadata": {},
   "outputs": [
    {
     "data": {
      "text/html": [
       "<style>#sk-container-id-1 {color: black;}#sk-container-id-1 pre{padding: 0;}#sk-container-id-1 div.sk-toggleable {background-color: white;}#sk-container-id-1 label.sk-toggleable__label {cursor: pointer;display: block;width: 100%;margin-bottom: 0;padding: 0.3em;box-sizing: border-box;text-align: center;}#sk-container-id-1 label.sk-toggleable__label-arrow:before {content: \"▸\";float: left;margin-right: 0.25em;color: #696969;}#sk-container-id-1 label.sk-toggleable__label-arrow:hover:before {color: black;}#sk-container-id-1 div.sk-estimator:hover label.sk-toggleable__label-arrow:before {color: black;}#sk-container-id-1 div.sk-toggleable__content {max-height: 0;max-width: 0;overflow: hidden;text-align: left;background-color: #f0f8ff;}#sk-container-id-1 div.sk-toggleable__content pre {margin: 0.2em;color: black;border-radius: 0.25em;background-color: #f0f8ff;}#sk-container-id-1 input.sk-toggleable__control:checked~div.sk-toggleable__content {max-height: 200px;max-width: 100%;overflow: auto;}#sk-container-id-1 input.sk-toggleable__control:checked~label.sk-toggleable__label-arrow:before {content: \"▾\";}#sk-container-id-1 div.sk-estimator input.sk-toggleable__control:checked~label.sk-toggleable__label {background-color: #d4ebff;}#sk-container-id-1 div.sk-label input.sk-toggleable__control:checked~label.sk-toggleable__label {background-color: #d4ebff;}#sk-container-id-1 input.sk-hidden--visually {border: 0;clip: rect(1px 1px 1px 1px);clip: rect(1px, 1px, 1px, 1px);height: 1px;margin: -1px;overflow: hidden;padding: 0;position: absolute;width: 1px;}#sk-container-id-1 div.sk-estimator {font-family: monospace;background-color: #f0f8ff;border: 1px dotted black;border-radius: 0.25em;box-sizing: border-box;margin-bottom: 0.5em;}#sk-container-id-1 div.sk-estimator:hover {background-color: #d4ebff;}#sk-container-id-1 div.sk-parallel-item::after {content: \"\";width: 100%;border-bottom: 1px solid gray;flex-grow: 1;}#sk-container-id-1 div.sk-label:hover label.sk-toggleable__label {background-color: #d4ebff;}#sk-container-id-1 div.sk-serial::before {content: \"\";position: absolute;border-left: 1px solid gray;box-sizing: border-box;top: 0;bottom: 0;left: 50%;z-index: 0;}#sk-container-id-1 div.sk-serial {display: flex;flex-direction: column;align-items: center;background-color: white;padding-right: 0.2em;padding-left: 0.2em;position: relative;}#sk-container-id-1 div.sk-item {position: relative;z-index: 1;}#sk-container-id-1 div.sk-parallel {display: flex;align-items: stretch;justify-content: center;background-color: white;position: relative;}#sk-container-id-1 div.sk-item::before, #sk-container-id-1 div.sk-parallel-item::before {content: \"\";position: absolute;border-left: 1px solid gray;box-sizing: border-box;top: 0;bottom: 0;left: 50%;z-index: -1;}#sk-container-id-1 div.sk-parallel-item {display: flex;flex-direction: column;z-index: 1;position: relative;background-color: white;}#sk-container-id-1 div.sk-parallel-item:first-child::after {align-self: flex-end;width: 50%;}#sk-container-id-1 div.sk-parallel-item:last-child::after {align-self: flex-start;width: 50%;}#sk-container-id-1 div.sk-parallel-item:only-child::after {width: 0;}#sk-container-id-1 div.sk-dashed-wrapped {border: 1px dashed gray;margin: 0 0.4em 0.5em 0.4em;box-sizing: border-box;padding-bottom: 0.4em;background-color: white;}#sk-container-id-1 div.sk-label label {font-family: monospace;font-weight: bold;display: inline-block;line-height: 1.2em;}#sk-container-id-1 div.sk-label-container {text-align: center;}#sk-container-id-1 div.sk-container {/* jupyter's `normalize.less` sets `[hidden] { display: none; }` but bootstrap.min.css set `[hidden] { display: none !important; }` so we also need the `!important` here to be able to override the default hidden behavior on the sphinx rendered scikit-learn.org. See: https://github.com/scikit-learn/scikit-learn/issues/21755 */display: inline-block !important;position: relative;}#sk-container-id-1 div.sk-text-repr-fallback {display: none;}</style><div id=\"sk-container-id-1\" class=\"sk-top-container\"><div class=\"sk-text-repr-fallback\"><pre>RandomForestClassifier()</pre><b>In a Jupyter environment, please rerun this cell to show the HTML representation or trust the notebook. <br />On GitHub, the HTML representation is unable to render, please try loading this page with nbviewer.org.</b></div><div class=\"sk-container\" hidden><div class=\"sk-item\"><div class=\"sk-estimator sk-toggleable\"><input class=\"sk-toggleable__control sk-hidden--visually\" id=\"sk-estimator-id-1\" type=\"checkbox\" checked><label for=\"sk-estimator-id-1\" class=\"sk-toggleable__label sk-toggleable__label-arrow\">RandomForestClassifier</label><div class=\"sk-toggleable__content\"><pre>RandomForestClassifier()</pre></div></div></div></div></div>"
      ],
      "text/plain": [
       "RandomForestClassifier()"
      ]
     },
     "execution_count": 37,
     "metadata": {},
     "output_type": "execute_result"
    }
   ],
   "source": [
    "#Случайный лес\n",
    "from sklearn.ensemble import RandomForestClassifier\n",
    "forest_class = RandomForestClassifier()\n",
    "\n",
    "forest_class.fit(features_train, target_train)"
   ]
  },
  {
   "cell_type": "code",
   "execution_count": 38,
   "id": "9b2551ea",
   "metadata": {},
   "outputs": [
    {
     "data": {
      "image/png": "[encoded data removed]",
      "text/plain": [
       "<Figure size 432x288 with 1 Axes>"
      ]
     },
     "metadata": {
      "needs_background": "light"
     },
     "output_type": "display_data"
    }
   ],
   "source": [
    "#Считаем важности признаков\n",
    "importances_rf = pd.Series(forest_class.feature_importances_, index=features_train.columns)\n",
    "\n",
    "# Строим график\n",
    "importances_rf.plot.bar()\n",
    "plt.title('Важность признаков (Random Forest)')\n",
    "plt.ylabel('Важность')\n",
    "plt.tight_layout()\n",
    "plt.show()"
   ]
  },
  {
   "cell_type": "code",
   "execution_count": 39,
   "id": "e4157b80",
   "metadata": {},
   "outputs": [
    {
     "data": {
      "text/html": [
       "<style>#sk-container-id-2 {color: black;}#sk-container-id-2 pre{padding: 0;}#sk-container-id-2 div.sk-toggleable {background-color: white;}#sk-container-id-2 label.sk-toggleable__label {cursor: pointer;display: block;width: 100%;margin-bottom: 0;padding: 0.3em;box-sizing: border-box;text-align: center;}#sk-container-id-2 label.sk-toggleable__label-arrow:before {content: \"▸\";float: left;margin-right: 0.25em;color: #696969;}#sk-container-id-2 label.sk-toggleable__label-arrow:hover:before {color: black;}#sk-container-id-2 div.sk-estimator:hover label.sk-toggleable__label-arrow:before {color: black;}#sk-container-id-2 div.sk-toggleable__content {max-height: 0;max-width: 0;overflow: hidden;text-align: left;background-color: #f0f8ff;}#sk-container-id-2 div.sk-toggleable__content pre {margin: 0.2em;color: black;border-radius: 0.25em;background-color: #f0f8ff;}#sk-container-id-2 input.sk-toggleable__control:checked~div.sk-toggleable__content {max-height: 200px;max-width: 100%;overflow: auto;}#sk-container-id-2 input.sk-toggleable__control:checked~label.sk-toggleable__label-arrow:before {content: \"▾\";}#sk-container-id-2 div.sk-estimator input.sk-toggleable__control:checked~label.sk-toggleable__label {background-color: #d4ebff;}#sk-container-id-2 div.sk-label input.sk-toggleable__control:checked~label.sk-toggleable__label {background-color: #d4ebff;}#sk-container-id-2 input.sk-hidden--visually {border: 0;clip: rect(1px 1px 1px 1px);clip: rect(1px, 1px, 1px, 1px);height: 1px;margin: -1px;overflow: hidden;padding: 0;position: absolute;width: 1px;}#sk-container-id-2 div.sk-estimator {font-family: monospace;background-color: #f0f8ff;border: 1px dotted black;border-radius: 0.25em;box-sizing: border-box;margin-bottom: 0.5em;}#sk-container-id-2 div.sk-estimator:hover {background-color: #d4ebff;}#sk-container-id-2 div.sk-parallel-item::after {content: \"\";width: 100%;border-bottom: 1px solid gray;flex-grow: 1;}#sk-container-id-2 div.sk-label:hover label.sk-toggleable__label {background-color: #d4ebff;}#sk-container-id-2 div.sk-serial::before {content: \"\";position: absolute;border-left: 1px solid gray;box-sizing: border-box;top: 0;bottom: 0;left: 50%;z-index: 0;}#sk-container-id-2 div.sk-serial {display: flex;flex-direction: column;align-items: center;background-color: white;padding-right: 0.2em;padding-left: 0.2em;position: relative;}#sk-container-id-2 div.sk-item {position: relative;z-index: 1;}#sk-container-id-2 div.sk-parallel {display: flex;align-items: stretch;justify-content: center;background-color: white;position: relative;}#sk-container-id-2 div.sk-item::before, #sk-container-id-2 div.sk-parallel-item::before {content: \"\";position: absolute;border-left: 1px solid gray;box-sizing: border-box;top: 0;bottom: 0;left: 50%;z-index: -1;}#sk-container-id-2 div.sk-parallel-item {display: flex;flex-direction: column;z-index: 1;position: relative;background-color: white;}#sk-container-id-2 div.sk-parallel-item:first-child::after {align-self: flex-end;width: 50%;}#sk-container-id-2 div.sk-parallel-item:last-child::after {align-self: flex-start;width: 50%;}#sk-container-id-2 div.sk-parallel-item:only-child::after {width: 0;}#sk-container-id-2 div.sk-dashed-wrapped {border: 1px dashed gray;margin: 0 0.4em 0.5em 0.4em;box-sizing: border-box;padding-bottom: 0.4em;background-color: white;}#sk-container-id-2 div.sk-label label {font-family: monospace;font-weight: bold;display: inline-block;line-height: 1.2em;}#sk-container-id-2 div.sk-label-container {text-align: center;}#sk-container-id-2 div.sk-container {/* jupyter's `normalize.less` sets `[hidden] { display: none; }` but bootstrap.min.css set `[hidden] { display: none !important; }` so we also need the `!important` here to be able to override the default hidden behavior on the sphinx rendered scikit-learn.org. See: https://github.com/scikit-learn/scikit-learn/issues/21755 */display: inline-block !important;position: relative;}#sk-container-id-2 div.sk-text-repr-fallback {display: none;}</style><div id=\"sk-container-id-2\" class=\"sk-top-container\"><div class=\"sk-text-repr-fallback\"><pre>LogisticRegression()</pre><b>In a Jupyter environment, please rerun this cell to show the HTML representation or trust the notebook. <br />On GitHub, the HTML representation is unable to render, please try loading this page with nbviewer.org.</b></div><div class=\"sk-container\" hidden><div class=\"sk-item\"><div class=\"sk-estimator sk-toggleable\"><input class=\"sk-toggleable__control sk-hidden--visually\" id=\"sk-estimator-id-2\" type=\"checkbox\" checked><label for=\"sk-estimator-id-2\" class=\"sk-toggleable__label sk-toggleable__label-arrow\">LogisticRegression</label><div class=\"sk-toggleable__content\"><pre>LogisticRegression()</pre></div></div></div></div></div>"
      ],
      "text/plain": [
       "LogisticRegression()"
      ]
     },
     "execution_count": 39,
     "metadata": {},
     "output_type": "execute_result"
    }
   ],
   "source": [
    "#Логистическая регрессия\n",
    "from sklearn.linear_model import LogisticRegression\n",
    "logreg = LogisticRegression()\n",
    "\n",
    "logreg.fit(features_train, target_train)"
   ]
  },
  {
   "cell_type": "code",
   "execution_count": 40,
   "id": "6cb35a5c",
   "metadata": {},
   "outputs": [
    {
     "data": {
      "image/png": "[encoded data removed]",
      "text/plain": [
       "<Figure size 432x288 with 1 Axes>"
      ]
     },
     "metadata": {
      "needs_background": "light"
     },
     "output_type": "display_data"
    }
   ],
   "source": [
    "#Считаем важности признаков\n",
    "importances_lr = pd.Series(logreg.coef_[0], index = features_train.columns)\n",
    "importances_lr.plot.bar()\n",
    "# Строим график\n",
    "plt.title('Importances in logreg')\n",
    "plt.show()"
   ]
  },
  {
   "cell_type": "code",
   "execution_count": 41,
   "id": "10e4e92d",
   "metadata": {},
   "outputs": [
    {
     "data": {
      "text/html": [
       "<style>#sk-container-id-3 {color: black;}#sk-container-id-3 pre{padding: 0;}#sk-container-id-3 div.sk-toggleable {background-color: white;}#sk-container-id-3 label.sk-toggleable__label {cursor: pointer;display: block;width: 100%;margin-bottom: 0;padding: 0.3em;box-sizing: border-box;text-align: center;}#sk-container-id-3 label.sk-toggleable__label-arrow:before {content: \"▸\";float: left;margin-right: 0.25em;color: #696969;}#sk-container-id-3 label.sk-toggleable__label-arrow:hover:before {color: black;}#sk-container-id-3 div.sk-estimator:hover label.sk-toggleable__label-arrow:before {color: black;}#sk-container-id-3 div.sk-toggleable__content {max-height: 0;max-width: 0;overflow: hidden;text-align: left;background-color: #f0f8ff;}#sk-container-id-3 div.sk-toggleable__content pre {margin: 0.2em;color: black;border-radius: 0.25em;background-color: #f0f8ff;}#sk-container-id-3 input.sk-toggleable__control:checked~div.sk-toggleable__content {max-height: 200px;max-width: 100%;overflow: auto;}#sk-container-id-3 input.sk-toggleable__control:checked~label.sk-toggleable__label-arrow:before {content: \"▾\";}#sk-container-id-3 div.sk-estimator input.sk-toggleable__control:checked~label.sk-toggleable__label {background-color: #d4ebff;}#sk-container-id-3 div.sk-label input.sk-toggleable__control:checked~label.sk-toggleable__label {background-color: #d4ebff;}#sk-container-id-3 input.sk-hidden--visually {border: 0;clip: rect(1px 1px 1px 1px);clip: rect(1px, 1px, 1px, 1px);height: 1px;margin: -1px;overflow: hidden;padding: 0;position: absolute;width: 1px;}#sk-container-id-3 div.sk-estimator {font-family: monospace;background-color: #f0f8ff;border: 1px dotted black;border-radius: 0.25em;box-sizing: border-box;margin-bottom: 0.5em;}#sk-container-id-3 div.sk-estimator:hover {background-color: #d4ebff;}#sk-container-id-3 div.sk-parallel-item::after {content: \"\";width: 100%;border-bottom: 1px solid gray;flex-grow: 1;}#sk-container-id-3 div.sk-label:hover label.sk-toggleable__label {background-color: #d4ebff;}#sk-container-id-3 div.sk-serial::before {content: \"\";position: absolute;border-left: 1px solid gray;box-sizing: border-box;top: 0;bottom: 0;left: 50%;z-index: 0;}#sk-container-id-3 div.sk-serial {display: flex;flex-direction: column;align-items: center;background-color: white;padding-right: 0.2em;padding-left: 0.2em;position: relative;}#sk-container-id-3 div.sk-item {position: relative;z-index: 1;}#sk-container-id-3 div.sk-parallel {display: flex;align-items: stretch;justify-content: center;background-color: white;position: relative;}#sk-container-id-3 div.sk-item::before, #sk-container-id-3 div.sk-parallel-item::before {content: \"\";position: absolute;border-left: 1px solid gray;box-sizing: border-box;top: 0;bottom: 0;left: 50%;z-index: -1;}#sk-container-id-3 div.sk-parallel-item {display: flex;flex-direction: column;z-index: 1;position: relative;background-color: white;}#sk-container-id-3 div.sk-parallel-item:first-child::after {align-self: flex-end;width: 50%;}#sk-container-id-3 div.sk-parallel-item:last-child::after {align-self: flex-start;width: 50%;}#sk-container-id-3 div.sk-parallel-item:only-child::after {width: 0;}#sk-container-id-3 div.sk-dashed-wrapped {border: 1px dashed gray;margin: 0 0.4em 0.5em 0.4em;box-sizing: border-box;padding-bottom: 0.4em;background-color: white;}#sk-container-id-3 div.sk-label label {font-family: monospace;font-weight: bold;display: inline-block;line-height: 1.2em;}#sk-container-id-3 div.sk-label-container {text-align: center;}#sk-container-id-3 div.sk-container {/* jupyter's `normalize.less` sets `[hidden] { display: none; }` but bootstrap.min.css set `[hidden] { display: none !important; }` so we also need the `!important` here to be able to override the default hidden behavior on the sphinx rendered scikit-learn.org. See: https://github.com/scikit-learn/scikit-learn/issues/21755 */display: inline-block !important;position: relative;}#sk-container-id-3 div.sk-text-repr-fallback {display: none;}</style><div id=\"sk-container-id-3\" class=\"sk-top-container\"><div class=\"sk-text-repr-fallback\"><pre>GradientBoostingClassifier()</pre><b>In a Jupyter environment, please rerun this cell to show the HTML representation or trust the notebook. <br />On GitHub, the HTML representation is unable to render, please try loading this page with nbviewer.org.</b></div><div class=\"sk-container\" hidden><div class=\"sk-item\"><div class=\"sk-estimator sk-toggleable\"><input class=\"sk-toggleable__control sk-hidden--visually\" id=\"sk-estimator-id-3\" type=\"checkbox\" checked><label for=\"sk-estimator-id-3\" class=\"sk-toggleable__label sk-toggleable__label-arrow\">GradientBoostingClassifier</label><div class=\"sk-toggleable__content\"><pre>GradientBoostingClassifier()</pre></div></div></div></div></div>"
      ],
      "text/plain": [
       "GradientBoostingClassifier()"
      ]
     },
     "execution_count": 41,
     "metadata": {},
     "output_type": "execute_result"
    }
   ],
   "source": [
    "#Градиентный бустинг\n",
    "from sklearn.ensemble import GradientBoostingClassifier\n",
    "boosting_class = GradientBoostingClassifier()\n",
    "\n",
    "boosting_class.fit(features_train, target_train)"
   ]
  },
  {
   "cell_type": "code",
   "execution_count": 42,
   "id": "499ed90e",
   "metadata": {},
   "outputs": [
    {
     "data": {
      "image/png": "[encoded data removed]",
      "text/plain": [
       "<Figure size 432x288 with 1 Axes>"
      ]
     },
     "metadata": {
      "needs_background": "light"
     },
     "output_type": "display_data"
    }
   ],
   "source": [
    "#Считаем важности признаков\n",
    "importances_gb = pd.Series(boosting_class.feature_importances_, index = features_train.columns)\n",
    "importances_gb.plot.bar()\n",
    "# Строим график\n",
    "plt.title('Importances in gradient boosting')\n",
    "plt.show()"
   ]
  },
  {
   "cell_type": "markdown",
   "id": "c4e65020",
   "metadata": {},
   "source": [
    "Видим, что выбранные переменные важны для предсказания переменной воздействия, за исключением переменной **Industry**, поэтому мы можем далее создать новые обучающую и тестовые выборки **без нее**"
   ]
  },
  {
   "cell_type": "code",
   "execution_count": 43,
   "id": "71e94026",
   "metadata": {},
   "outputs": [
    {
     "name": "stdout",
     "output_type": "stream",
     "text": [
      "8000 2000\n",
      "8000 2000\n"
     ]
    }
   ],
   "source": [
    "from sklearn.model_selection import train_test_split\n",
    "# Разделим целевую переменную и признаки\n",
    "target3   = df.loc[:, ['scale']]            # целевая переменная\n",
    "features3 = df.loc[:, [\"age\", \"worker\", \"participation\"]]    # матрица признаков\n",
    "target3   = np.squeeze(target)                # преобразуем из вектора столбца\n",
    "                                             # в одномерный массив\n",
    "# Разделим выборку на обучающую и тестовую\n",
    "# с помощью автоматической функции\n",
    "features_train3, features_test3, target_train3, target_test3 = train_test_split(\n",
    "    features3, target3, test_size = 0.2, random_state = 777)\n",
    "\n",
    "# Убедимся, что обучающая и тестовая выборки имеют верные пропорции\n",
    "print(features_train3.index.size, features_test3.index.size) # признаки\n",
    "print(target_train3.index.size, target_test3.index.size)     # целевая переменная"
   ]
  },
  {
   "cell_type": "markdown",
   "id": "9d80b484",
   "metadata": {},
   "source": [
    "2. Выберите произвольные значения гиперпараметров, а затем оцените и сравните\n",
    "(между методами) точность прогнозов:\n",
    "\n",
    "• на обучающей выборке.\n",
    "\n",
    "• на тестовой выборке.\n",
    "\n",
    "• с помощью кросс-валидации (используйте только обучающую выборку).\n",
    "\n",
    "Проинтерпретируйте полученные результаты.\n"
   ]
  },
  {
   "cell_type": "code",
   "execution_count": 44,
   "id": "74f1808a",
   "metadata": {},
   "outputs": [],
   "source": [
    "#Количество фолдов\n",
    "NFOLDS = 5"
   ]
  },
  {
   "cell_type": "code",
   "execution_count": 45,
   "id": "52440eaa",
   "metadata": {},
   "outputs": [],
   "source": [
    "#Создаем датафрейм в котором отоборазим результаты пункта 2.2\n",
    "class_metrics = pd.DataFrame(index=['ACC обучающая выборка', 'ACC тестовая выборка', 'ACC Кросс-валидация', 'Гиперпараметры'])"
   ]
  },
  {
   "cell_type": "markdown",
   "id": "fb67dc4e",
   "metadata": {},
   "source": [
    "**Метод ближайших соседей**"
   ]
  },
  {
   "cell_type": "code",
   "execution_count": 46,
   "id": "b539c280",
   "metadata": {},
   "outputs": [],
   "source": [
    "knn_class = KNeighborsClassifier()\n",
    "\n",
    "knn_class.fit(features_train3, target_train3)\n",
    "\n",
    "ACC_knn_train = knn_class.score(features_train3, target_train3)  # обучающая выборка\n",
    "\n",
    "ACC_knn_test  = knn_class.score(features_test3, target_test3) # тестовая выборка\n",
    "\n",
    "knn_cv = cross_val_score(KNeighborsClassifier(),\n",
    "                           features_train3,\n",
    "                           target_train3,\n",
    "                           cv=NFOLDS).mean()\n",
    "\n",
    "class_metrics['kNN'] = [ACC_knn_train, ACC_knn_test, knn_cv, knn_class.get_params()]"
   ]
  },
  {
   "cell_type": "markdown",
   "id": "82f7a396",
   "metadata": {},
   "source": [
    "**Градиентный бустинг**"
   ]
  },
  {
   "cell_type": "code",
   "execution_count": 47,
   "id": "f0f4eb14",
   "metadata": {},
   "outputs": [],
   "source": [
    "boosting_class = GradientBoostingClassifier()\n",
    "\n",
    "boosting_class.fit(features_train3, target_train3)\n",
    "\n",
    "ACC_boosting_train = boosting_class.score(features_train3, target_train3)  # обучающая выборка\n",
    "\n",
    "ACC_boosting_test  = boosting_class.score(features_test3, target_test3) # тестовая выборка\n",
    "\n",
    "boosting_cv = cross_val_score(GradientBoostingClassifier(),\n",
    "                           features_train,\n",
    "                           target_train3,\n",
    "                           cv=NFOLDS).mean()\n",
    "\n",
    "class_metrics['Бустинг'] = [ACC_boosting_train, ACC_boosting_test,\n",
    "                              boosting_cv, boosting_class.get_params()]"
   ]
  },
  {
   "cell_type": "markdown",
   "id": "2a7a87d9",
   "metadata": {},
   "source": [
    "**Случайный лес**"
   ]
  },
  {
   "cell_type": "code",
   "execution_count": 48,
   "id": "6f8ff178",
   "metadata": {},
   "outputs": [],
   "source": [
    "forest_class = RandomForestClassifier()\n",
    "\n",
    "forest_class.fit(features_train3, target_train3)\n",
    "\n",
    "ACC_rf_train = forest_class.score(features_train3, target_train3)  # обучающая выборка\n",
    "\n",
    "ACC_rf_test  = forest_class.score(features_test3, target_test3) # тестовая выборка\n",
    "\n",
    "rf_cv = cross_val_score(RandomForestClassifier(),\n",
    "                           features_train3,\n",
    "                           target_train3,\n",
    "                           cv=NFOLDS).mean()\n",
    "\n",
    "class_metrics['Случ. лес'] = [ACC_rf_train, ACC_rf_test,\n",
    "                              rf_cv, forest_class.get_params()]"
   ]
  },
  {
   "cell_type": "markdown",
   "id": "220194bc",
   "metadata": {},
   "source": [
    "**Логистическая регрессия**"
   ]
  },
  {
   "cell_type": "code",
   "execution_count": 49,
   "id": "864cd899",
   "metadata": {},
   "outputs": [],
   "source": [
    "logreg = LogisticRegression()\n",
    "\n",
    "logreg.fit(features_train3, target_train3)\n",
    "\n",
    "ACC_logreg_train = logreg.score(features_train3, target_train3)  # обучающая выборка\n",
    "\n",
    "ACC_logreg_test  = logreg.score(features_test3, target_test3) # тестовая выборка\n",
    "\n",
    "logreg_cv = cross_val_score(LogisticRegression(),\n",
    "                           features_train3,\n",
    "                           target_train3,\n",
    "                           cv=NFOLDS).mean()\n",
    "\n",
    "class_metrics['Логрегрессия'] = [ACC_logreg_train, ACC_logreg_test,\n",
    "                              logreg_cv, logreg.get_params()]"
   ]
  },
  {
   "cell_type": "code",
   "execution_count": 50,
   "id": "46ccf45e",
   "metadata": {},
   "outputs": [
    {
     "data": {
      "text/html": [
       "<div>\n",
       "<style scoped>\n",
       "    .dataframe tbody tr th:only-of-type {\n",
       "        vertical-align: middle;\n",
       "    }\n",
       "\n",
       "    .dataframe tbody tr th {\n",
       "        vertical-align: top;\n",
       "    }\n",
       "\n",
       "    .dataframe thead th {\n",
       "        text-align: right;\n",
       "    }\n",
       "</style>\n",
       "<table border=\"1\" class=\"dataframe\">\n",
       "  <thead>\n",
       "    <tr style=\"text-align: right;\">\n",
       "      <th></th>\n",
       "      <th>ACC обучающая выборка</th>\n",
       "      <th>ACC тестовая выборка</th>\n",
       "      <th>ACC Кросс-валидация</th>\n",
       "      <th>Гиперпараметры</th>\n",
       "    </tr>\n",
       "  </thead>\n",
       "  <tbody>\n",
       "    <tr>\n",
       "      <th>kNN</th>\n",
       "      <td>0.9175</td>\n",
       "      <td>0.9015</td>\n",
       "      <td>0.901</td>\n",
       "      <td>{'algorithm': 'auto', 'leaf_size': 30, 'metric...</td>\n",
       "    </tr>\n",
       "    <tr>\n",
       "      <th>Бустинг</th>\n",
       "      <td>0.92975</td>\n",
       "      <td>0.926</td>\n",
       "      <td>0.9225</td>\n",
       "      <td>{'ccp_alpha': 0.0, 'criterion': 'friedman_mse'...</td>\n",
       "    </tr>\n",
       "    <tr>\n",
       "      <th>Случ. лес</th>\n",
       "      <td>0.969625</td>\n",
       "      <td>0.9035</td>\n",
       "      <td>0.90225</td>\n",
       "      <td>{'bootstrap': True, 'ccp_alpha': 0.0, 'class_w...</td>\n",
       "    </tr>\n",
       "    <tr>\n",
       "      <th>Логрегрессия</th>\n",
       "      <td>0.91825</td>\n",
       "      <td>0.9135</td>\n",
       "      <td>0.91775</td>\n",
       "      <td>{'C': 1.0, 'class_weight': None, 'dual': False...</td>\n",
       "    </tr>\n",
       "  </tbody>\n",
       "</table>\n",
       "</div>"
      ],
      "text/plain": [
       "             ACC обучающая выборка ACC тестовая выборка ACC Кросс-валидация  \\\n",
       "kNN                         0.9175               0.9015               0.901   \n",
       "Бустинг                    0.92975                0.926              0.9225   \n",
       "Случ. лес                 0.969625               0.9035             0.90225   \n",
       "Логрегрессия               0.91825               0.9135             0.91775   \n",
       "\n",
       "                                                 Гиперпараметры  \n",
       "kNN           {'algorithm': 'auto', 'leaf_size': 30, 'metric...  \n",
       "Бустинг       {'ccp_alpha': 0.0, 'criterion': 'friedman_mse'...  \n",
       "Случ. лес     {'bootstrap': True, 'ccp_alpha': 0.0, 'class_w...  \n",
       "Логрегрессия  {'C': 1.0, 'class_weight': None, 'dual': False...  "
      ]
     },
     "execution_count": 50,
     "metadata": {},
     "output_type": "execute_result"
    }
   ],
   "source": [
    "#Посмотрим на результаты\n",
    "class_metrics.T"
   ]
  },
  {
   "cell_type": "markdown",
   "id": "05c61e54",
   "metadata": {},
   "source": [
    "Выводы: все модели обладают высокой точностью\n",
    "\n",
    "Самая высокая точность прогноза:\n",
    "- на обучающей выборке - у случайного леса\n",
    "- на тестовой выборке - у градиентого бустинга\n",
    "- на кросс-валидации - у градиентого бустинга\n",
    "\n",
    "Худшую точность во всех прогнозах у метода KNN\n",
    "При выполнении алгоритма случайного леса, вероятно, произошло переобучение\n"
   ]
  },
  {
   "cell_type": "markdown",
   "id": "d8c802c9",
   "metadata": {},
   "source": [
    "3. Для каждого метода с помощью кросс-валидации на обучающей выборке подберите оптимальные значения гиперпараметров (тюнинг). В качестве критерия\n",
    "качества используйте точность ACC. Результат представьте в форме таблицы,\n",
    "в которой для каждого метода должны быть указаны:\n",
    "\n",
    "• изначальные и подобранные значения гиперпараметров.\n",
    "\n",
    "• кросс-валидационная точность на обучающей выборке с исходными и подобранными значениями гиперпараметров.\n",
    "\n",
    "• точность на тестовой выборке с исходными и подобранными значениями\n",
    "гиперпараметров."
   ]
  },
  {
   "cell_type": "code",
   "execution_count": 51,
   "id": "edd977b8",
   "metadata": {},
   "outputs": [],
   "source": [
    "#Используем точность ACC\n",
    "CRITERION = 'accuracy'"
   ]
  },
  {
   "cell_type": "markdown",
   "id": "2efe7a08",
   "metadata": {},
   "source": [
    "**Метод ближайших соседей**"
   ]
  },
  {
   "cell_type": "code",
   "execution_count": 52,
   "id": "28c75fef",
   "metadata": {},
   "outputs": [],
   "source": [
    "knn_params = {\n",
    "    'n_neighbors': [3, 5, 7],\n",
    "    'p': [1, 2, 3]\n",
    "}\n",
    "\n",
    "gs = GridSearchCV(estimator=KNeighborsClassifier(),\n",
    "                  param_grid=knn_params,\n",
    "                  cv=NFOLDS,\n",
    "                  scoring=CRITERION)\n",
    "\n",
    "gs.fit(features_train3, target_train3)\n",
    "\n",
    "knn_best = gs.best_estimator_\n",
    "\n",
    "ACC_train = knn_best.score(features_train3, target_train3)  # обучающая выборка\n",
    "\n",
    "ACC_test  = knn_best.score(features_test3, target_test3) # тестовая выборка\n",
    "\n",
    "ACC_cv = cross_val_score(knn_best,\n",
    "                        features_train3,\n",
    "                        target_train3,\n",
    "                        cv=NFOLDS).mean()\n",
    "\n",
    "class_metrics['kNN (подобр.)'] = [ACC_train,\n",
    "                                  ACC_test,\n",
    "                                  ACC_cv,\n",
    "                                  gs.best_params_]"
   ]
  },
  {
   "cell_type": "markdown",
   "id": "d09f69af",
   "metadata": {},
   "source": [
    "**Градиентный бустинг**"
   ]
  },
  {
   "cell_type": "code",
   "execution_count": 53,
   "id": "59d006f6",
   "metadata": {},
   "outputs": [],
   "source": [
    "boosting_params = {\n",
    "    'max_depth': [3, 4, 5, 6],\n",
    "    'min_samples_leaf': [1, 2, 4]\n",
    "}\n",
    "\n",
    "\n",
    "gs = GridSearchCV(estimator=GradientBoostingClassifier(),\n",
    "                  param_grid=boosting_params,\n",
    "                  cv=NFOLDS,\n",
    "                  scoring=CRITERION)\n",
    "\n",
    "gs.fit(features_train3, target_train3)\n",
    "\n",
    "boosting_best = gs.best_estimator_\n",
    "\n",
    "ACC_train = boosting_best.score(features_train3, target_train3)  # обучающая выборка\n",
    "\n",
    "ACC_test  = boosting_best.score(features_test3, target_test3) # тестовая выборка\n",
    "\n",
    "ACC_cv = cross_val_score(boosting_best,\n",
    "                       features_train3,\n",
    "                        target_train3,\n",
    "                        cv=NFOLDS).mean()\n",
    "\n",
    "class_metrics['Бустинг (подобр.)'] = [ACC_train,\n",
    "                                    ACC_test,\n",
    "                                    ACC_cv,\n",
    "                                    gs.best_params_]"
   ]
  },
  {
   "cell_type": "markdown",
   "id": "37a05c0b",
   "metadata": {},
   "source": [
    "**Случайный лес**"
   ]
  },
  {
   "cell_type": "code",
   "execution_count": 54,
   "id": "0a2483b1",
   "metadata": {},
   "outputs": [],
   "source": [
    "rf_params = {\n",
    "    'max_depth': range(2, 20),\n",
    "    'n_estimators': [50, 100]\n",
    "}\n",
    "\n",
    "gs = GridSearchCV(estimator=RandomForestClassifier(),\n",
    "                  param_grid=rf_params,\n",
    "                  cv=NFOLDS,\n",
    "                  scoring=CRITERION)\n",
    "\n",
    "gs.fit(features_train3, target_train3)\n",
    "\n",
    "rf_best = gs.best_estimator_\n",
    "\n",
    "ACC_train = rf_best.score(features_train3, target_train3)  # обучающая выборка\n",
    "\n",
    "ACC_test  = rf_best.score(features_test3, target_test3) # тестовая выборка\n",
    "\n",
    "ACC_cv = cross_val_score(rf_best,\n",
    "                        features_train3,\n",
    "                        target_train3,\n",
    "                        cv=NFOLDS).mean()\n",
    "\n",
    "class_metrics['Случ. лес (подобр.)'] = [ACC_train,\n",
    "                                    ACC_test,\n",
    "                                    ACC_cv,\n",
    "                                    gs.best_params_]"
   ]
  },
  {
   "cell_type": "markdown",
   "id": "3789da5f",
   "metadata": {},
   "source": [
    "**Логистическая регрессия**"
   ]
  },
  {
   "cell_type": "code",
   "execution_count": 55,
   "id": "9d223571",
   "metadata": {},
   "outputs": [],
   "source": [
    "logreg_params = {\n",
    "    'solver': ['newton-cg', 'lbfgs', 'liblinear', 'sag', 'saga'],\n",
    "    'max_iter': [100, 200, 300],\n",
    "    'C': [0.01, 0.1, 1, 10]\n",
    "}\n",
    "\n",
    "gs = GridSearchCV(estimator=LogisticRegression(),\n",
    "                  param_grid=logreg_params,\n",
    "                  cv=NFOLDS,\n",
    "                  scoring=CRITERION)\n",
    "\n",
    "gs.fit(features_train3, target_train3)\n",
    "\n",
    "\n",
    "logreg_best = gs.best_estimator_\n",
    "\n",
    "ACC_train = logreg_best.score(features_train3, target_train3)  # обучающая выборка\n",
    "\n",
    "ACC_test  = logreg_best.score(features_test3, target_test3) # тестовая выборка\n",
    "\n",
    "ACC_cv = cross_val_score(logreg_best,\n",
    "                        features_train3,\n",
    "                        target_train3,\n",
    "                        cv=NFOLDS).mean()\n",
    "\n",
    "class_metrics['Логрегрессия (подобр.)'] = [ACC_train,\n",
    "                                    ACC_test,\n",
    "                                    ACC_cv,\n",
    "                                    gs.best_params_]"
   ]
  },
  {
   "cell_type": "code",
   "execution_count": 57,
   "id": "f3a32f84",
   "metadata": {},
   "outputs": [
    {
     "data": {
      "text/html": [
       "<div>\n",
       "<style scoped>\n",
       "    .dataframe tbody tr th:only-of-type {\n",
       "        vertical-align: middle;\n",
       "    }\n",
       "\n",
       "    .dataframe tbody tr th {\n",
       "        vertical-align: top;\n",
       "    }\n",
       "\n",
       "    .dataframe thead th {\n",
       "        text-align: right;\n",
       "    }\n",
       "</style>\n",
       "<table border=\"1\" class=\"dataframe\">\n",
       "  <thead>\n",
       "    <tr style=\"text-align: right;\">\n",
       "      <th></th>\n",
       "      <th>ACC обучающая выборка</th>\n",
       "      <th>ACC тестовая выборка</th>\n",
       "      <th>ACC Кросс-валидация</th>\n",
       "      <th>Гиперпараметры</th>\n",
       "    </tr>\n",
       "  </thead>\n",
       "  <tbody>\n",
       "    <tr>\n",
       "      <th>kNN</th>\n",
       "      <td>0.9175</td>\n",
       "      <td>0.9015</td>\n",
       "      <td>0.901</td>\n",
       "      <td>{'algorithm': 'auto', 'leaf_size': 30, 'metric...</td>\n",
       "    </tr>\n",
       "    <tr>\n",
       "      <th>Бустинг</th>\n",
       "      <td>0.92975</td>\n",
       "      <td>0.926</td>\n",
       "      <td>0.9225</td>\n",
       "      <td>{'ccp_alpha': 0.0, 'criterion': 'friedman_mse'...</td>\n",
       "    </tr>\n",
       "    <tr>\n",
       "      <th>Случ. лес</th>\n",
       "      <td>0.969625</td>\n",
       "      <td>0.9035</td>\n",
       "      <td>0.90225</td>\n",
       "      <td>{'bootstrap': True, 'ccp_alpha': 0.0, 'class_w...</td>\n",
       "    </tr>\n",
       "    <tr>\n",
       "      <th>Логрегрессия</th>\n",
       "      <td>0.91825</td>\n",
       "      <td>0.9135</td>\n",
       "      <td>0.91775</td>\n",
       "      <td>{'C': 1.0, 'class_weight': None, 'dual': False...</td>\n",
       "    </tr>\n",
       "    <tr>\n",
       "      <th>kNN (подобр.)</th>\n",
       "      <td>0.914375</td>\n",
       "      <td>0.9055</td>\n",
       "      <td>0.9055</td>\n",
       "      <td>{'n_neighbors': 7, 'p': 1}</td>\n",
       "    </tr>\n",
       "    <tr>\n",
       "      <th>Бустинг (подобр.)</th>\n",
       "      <td>0.92975</td>\n",
       "      <td>0.9265</td>\n",
       "      <td>0.923</td>\n",
       "      <td>{'max_depth': 3, 'min_samples_leaf': 4}</td>\n",
       "    </tr>\n",
       "    <tr>\n",
       "      <th>Случ. лес (подобр.)</th>\n",
       "      <td>0.928</td>\n",
       "      <td>0.927</td>\n",
       "      <td>0.922</td>\n",
       "      <td>{'max_depth': 6, 'n_estimators': 50}</td>\n",
       "    </tr>\n",
       "    <tr>\n",
       "      <th>Логрегрессия (подобр.)</th>\n",
       "      <td>0.918625</td>\n",
       "      <td>0.914</td>\n",
       "      <td>0.91875</td>\n",
       "      <td>{'C': 10, 'max_iter': 100, 'solver': 'newton-cg'}</td>\n",
       "    </tr>\n",
       "  </tbody>\n",
       "</table>\n",
       "</div>"
      ],
      "text/plain": [
       "                       ACC обучающая выборка ACC тестовая выборка  \\\n",
       "kNN                                   0.9175               0.9015   \n",
       "Бустинг                              0.92975                0.926   \n",
       "Случ. лес                           0.969625               0.9035   \n",
       "Логрегрессия                         0.91825               0.9135   \n",
       "kNN (подобр.)                       0.914375               0.9055   \n",
       "Бустинг (подобр.)                    0.92975               0.9265   \n",
       "Случ. лес (подобр.)                    0.928                0.927   \n",
       "Логрегрессия (подобр.)              0.918625                0.914   \n",
       "\n",
       "                       ACC Кросс-валидация  \\\n",
       "kNN                                  0.901   \n",
       "Бустинг                             0.9225   \n",
       "Случ. лес                          0.90225   \n",
       "Логрегрессия                       0.91775   \n",
       "kNN (подобр.)                       0.9055   \n",
       "Бустинг (подобр.)                    0.923   \n",
       "Случ. лес (подобр.)                  0.922   \n",
       "Логрегрессия (подобр.)             0.91875   \n",
       "\n",
       "                                                           Гиперпараметры  \n",
       "kNN                     {'algorithm': 'auto', 'leaf_size': 30, 'metric...  \n",
       "Бустинг                 {'ccp_alpha': 0.0, 'criterion': 'friedman_mse'...  \n",
       "Случ. лес               {'bootstrap': True, 'ccp_alpha': 0.0, 'class_w...  \n",
       "Логрегрессия            {'C': 1.0, 'class_weight': None, 'dual': False...  \n",
       "kNN (подобр.)                                  {'n_neighbors': 7, 'p': 1}  \n",
       "Бустинг (подобр.)                 {'max_depth': 3, 'min_samples_leaf': 4}  \n",
       "Случ. лес (подобр.)                  {'max_depth': 6, 'n_estimators': 50}  \n",
       "Логрегрессия (подобр.)  {'C': 10, 'max_iter': 100, 'solver': 'newton-cg'}  "
      ]
     },
     "execution_count": 57,
     "metadata": {},
     "output_type": "execute_result"
    }
   ],
   "source": [
    "class_metrics.T"
   ]
  },
  {
   "cell_type": "markdown",
   "id": "dbf67141",
   "metadata": {},
   "source": [
    "Вывод: видим, что в некоторых случаях подбор параметров повысил качество результатов, в частности по тестовой выборке и на кросс-валидации\n",
    "\n",
    "Лучшая точность прогнозов:\n",
    "\n",
    "- на обучающей выборке осталась у случаного леса, но снизилась(это не обязательно плохо, поскольку слишком высокая точность на обучающей выборке может свидетельствовать о переобучении)\n",
    "- на тестовой выборке стала у случайного леса\n",
    "- на кросс-валидации осталась у бустинга\n",
    "\n",
    "\n",
    "Худшая точность прогнозов во всех случаях осталась у KNN"
   ]
  },
  {
   "cell_type": "markdown",
   "id": "da61a4c9",
   "metadata": {},
   "source": [
    "**Повышенная сложность**: \n",
    "\n",
    "Подберите на обучающей выборке оптимальные\n",
    "значения гиперпараметров случайного леса ориентируясь на значение OOB\n",
    "4\n",
    "(out-of-bag) ошибки. Сопоставьте гиперпараметры и точность на тестовой выборке для случайного леса в зависимости от того, используется кросс-валидация\n",
    "или OOB ошибка. Объясните преимущества и недостатки OOB ошибки по сравнению с кросс-валидацей."
   ]
  },
  {
   "cell_type": "code",
   "execution_count": 58,
   "id": "3eab6a2c",
   "metadata": {},
   "outputs": [],
   "source": [
    "from sklearn.ensemble import RandomForestClassifier\n",
    "\n",
    "# Определим диапазон параметров для поиска\n",
    "param_grid = {\n",
    "    'n_estimators': [50, 100, 200],\n",
    "    'max_depth': [None, 5, 10, 20],\n",
    "    'min_samples_split': [2, 5, 10],\n",
    "    'min_samples_leaf': [1, 2, 4],\n",
    "    'max_features': ['sqrt', 'log2']\n",
    "}"
   ]
  },
  {
   "cell_type": "code",
   "execution_count": 59,
   "id": "2ea07477",
   "metadata": {},
   "outputs": [],
   "source": [
    "# Создадим базовую модель с использованием OOB\n",
    "rf = RandomForestClassifier(oob_score=True, random_state=777)"
   ]
  },
  {
   "cell_type": "code",
   "execution_count": 60,
   "id": "c8b4b4da",
   "metadata": {},
   "outputs": [],
   "source": [
    "# Подбор параметров с OOB\n",
    "best_oob_score = -1\n",
    "best_params = {}\n",
    "\n",
    "# Перебор комбинаций параметров\n",
    "for n in param_grid['n_estimators']:\n",
    "    for depth in param_grid['max_depth']:\n",
    "        for split in param_grid['min_samples_split']:\n",
    "            for leaf in param_grid['min_samples_leaf']:\n",
    "                for features in param_grid['max_features']:\n",
    "                    rf.set_params(\n",
    "                        n_estimators=n,\n",
    "                        max_depth=depth,\n",
    "                        min_samples_split=split,\n",
    "                        min_samples_leaf=leaf,\n",
    "                        max_features=features\n",
    "                    )\n",
    "                    rf.fit(features_train3, target_train3)\n",
    "                                        \n",
    "                    # Используем OOB score как метрику\n",
    "                    current_oob = rf.oob_score_\n",
    "                    \n",
    "                    if current_oob > best_oob_score:\n",
    "                        best_oob_score = current_oob\n",
    "                        best_params = {\n",
    "                            'n_estimators': n,\n",
    "                            'max_depth': depth,\n",
    "                            'min_samples_split': split,\n",
    "                            'min_samples_leaf': leaf,\n",
    "                            'max_features': features\n",
    "                        }"
   ]
  },
  {
   "cell_type": "code",
   "execution_count": 61,
   "id": "5ef0d5c1",
   "metadata": {},
   "outputs": [
    {
     "data": {
      "text/html": [
       "<style>#sk-container-id-4 {color: black;}#sk-container-id-4 pre{padding: 0;}#sk-container-id-4 div.sk-toggleable {background-color: white;}#sk-container-id-4 label.sk-toggleable__label {cursor: pointer;display: block;width: 100%;margin-bottom: 0;padding: 0.3em;box-sizing: border-box;text-align: center;}#sk-container-id-4 label.sk-toggleable__label-arrow:before {content: \"▸\";float: left;margin-right: 0.25em;color: #696969;}#sk-container-id-4 label.sk-toggleable__label-arrow:hover:before {color: black;}#sk-container-id-4 div.sk-estimator:hover label.sk-toggleable__label-arrow:before {color: black;}#sk-container-id-4 div.sk-toggleable__content {max-height: 0;max-width: 0;overflow: hidden;text-align: left;background-color: #f0f8ff;}#sk-container-id-4 div.sk-toggleable__content pre {margin: 0.2em;color: black;border-radius: 0.25em;background-color: #f0f8ff;}#sk-container-id-4 input.sk-toggleable__control:checked~div.sk-toggleable__content {max-height: 200px;max-width: 100%;overflow: auto;}#sk-container-id-4 input.sk-toggleable__control:checked~label.sk-toggleable__label-arrow:before {content: \"▾\";}#sk-container-id-4 div.sk-estimator input.sk-toggleable__control:checked~label.sk-toggleable__label {background-color: #d4ebff;}#sk-container-id-4 div.sk-label input.sk-toggleable__control:checked~label.sk-toggleable__label {background-color: #d4ebff;}#sk-container-id-4 input.sk-hidden--visually {border: 0;clip: rect(1px 1px 1px 1px);clip: rect(1px, 1px, 1px, 1px);height: 1px;margin: -1px;overflow: hidden;padding: 0;position: absolute;width: 1px;}#sk-container-id-4 div.sk-estimator {font-family: monospace;background-color: #f0f8ff;border: 1px dotted black;border-radius: 0.25em;box-sizing: border-box;margin-bottom: 0.5em;}#sk-container-id-4 div.sk-estimator:hover {background-color: #d4ebff;}#sk-container-id-4 div.sk-parallel-item::after {content: \"\";width: 100%;border-bottom: 1px solid gray;flex-grow: 1;}#sk-container-id-4 div.sk-label:hover label.sk-toggleable__label {background-color: #d4ebff;}#sk-container-id-4 div.sk-serial::before {content: \"\";position: absolute;border-left: 1px solid gray;box-sizing: border-box;top: 0;bottom: 0;left: 50%;z-index: 0;}#sk-container-id-4 div.sk-serial {display: flex;flex-direction: column;align-items: center;background-color: white;padding-right: 0.2em;padding-left: 0.2em;position: relative;}#sk-container-id-4 div.sk-item {position: relative;z-index: 1;}#sk-container-id-4 div.sk-parallel {display: flex;align-items: stretch;justify-content: center;background-color: white;position: relative;}#sk-container-id-4 div.sk-item::before, #sk-container-id-4 div.sk-parallel-item::before {content: \"\";position: absolute;border-left: 1px solid gray;box-sizing: border-box;top: 0;bottom: 0;left: 50%;z-index: -1;}#sk-container-id-4 div.sk-parallel-item {display: flex;flex-direction: column;z-index: 1;position: relative;background-color: white;}#sk-container-id-4 div.sk-parallel-item:first-child::after {align-self: flex-end;width: 50%;}#sk-container-id-4 div.sk-parallel-item:last-child::after {align-self: flex-start;width: 50%;}#sk-container-id-4 div.sk-parallel-item:only-child::after {width: 0;}#sk-container-id-4 div.sk-dashed-wrapped {border: 1px dashed gray;margin: 0 0.4em 0.5em 0.4em;box-sizing: border-box;padding-bottom: 0.4em;background-color: white;}#sk-container-id-4 div.sk-label label {font-family: monospace;font-weight: bold;display: inline-block;line-height: 1.2em;}#sk-container-id-4 div.sk-label-container {text-align: center;}#sk-container-id-4 div.sk-container {/* jupyter's `normalize.less` sets `[hidden] { display: none; }` but bootstrap.min.css set `[hidden] { display: none !important; }` so we also need the `!important` here to be able to override the default hidden behavior on the sphinx rendered scikit-learn.org. See: https://github.com/scikit-learn/scikit-learn/issues/21755 */display: inline-block !important;position: relative;}#sk-container-id-4 div.sk-text-repr-fallback {display: none;}</style><div id=\"sk-container-id-4\" class=\"sk-top-container\"><div class=\"sk-text-repr-fallback\"><pre>RandomForestClassifier(max_depth=5, min_samples_leaf=2, min_samples_split=10,\n",
       "                       n_estimators=200, oob_score=True, random_state=777)</pre><b>In a Jupyter environment, please rerun this cell to show the HTML representation or trust the notebook. <br />On GitHub, the HTML representation is unable to render, please try loading this page with nbviewer.org.</b></div><div class=\"sk-container\" hidden><div class=\"sk-item\"><div class=\"sk-estimator sk-toggleable\"><input class=\"sk-toggleable__control sk-hidden--visually\" id=\"sk-estimator-id-4\" type=\"checkbox\" checked><label for=\"sk-estimator-id-4\" class=\"sk-toggleable__label sk-toggleable__label-arrow\">RandomForestClassifier</label><div class=\"sk-toggleable__content\"><pre>RandomForestClassifier(max_depth=5, min_samples_leaf=2, min_samples_split=10,\n",
       "                       n_estimators=200, oob_score=True, random_state=777)</pre></div></div></div></div></div>"
      ],
      "text/plain": [
       "RandomForestClassifier(max_depth=5, min_samples_leaf=2, min_samples_split=10,\n",
       "                       n_estimators=200, oob_score=True, random_state=777)"
      ]
     },
     "execution_count": 61,
     "metadata": {},
     "output_type": "execute_result"
    }
   ],
   "source": [
    "# Лучшая модель по OOB\n",
    "best_rf_oob = RandomForestClassifier(\n",
    "    oob_score=True,\n",
    "    random_state=777,\n",
    "    **best_params\n",
    ")\n",
    "best_rf_oob.fit(features_train3, target_train3)"
   ]
  },
  {
   "cell_type": "code",
   "execution_count": 62,
   "id": "1ada5ad5",
   "metadata": {},
   "outputs": [
    {
     "name": "stdout",
     "output_type": "stream",
     "text": [
      "Лучшие параметры по OOB: {'n_estimators': 200, 'max_depth': 5, 'min_samples_split': 10, 'min_samples_leaf': 2, 'max_features': 'sqrt'}\n",
      "OOB score: 0.92225\n",
      "Точность на тестовой выборке: 0.92\n"
     ]
    }
   ],
   "source": [
    "# Оценка на тестовой выборке\n",
    "oob_test_score = best_rf_oob.score(features_test3, target_test3)\n",
    "\n",
    "print(\"Лучшие параметры по OOB:\", best_params)\n",
    "print(\"OOB score:\", best_oob_score)\n",
    "print(\"Точность на тестовой выборке:\", oob_test_score)"
   ]
  },
  {
   "cell_type": "code",
   "execution_count": 63,
   "id": "100fcfb1",
   "metadata": {},
   "outputs": [],
   "source": [
    "# Кросс-валидация из исходного кода\n",
    "rf_cv = cross_val_score(RandomForestClassifier(),\n",
    "                       features_train3,\n",
    "                       target_train3,\n",
    "                       cv=NFOLDS).mean()"
   ]
  },
  {
   "cell_type": "code",
   "execution_count": 64,
   "id": "37f3acd3",
   "metadata": {},
   "outputs": [
    {
     "name": "stdout",
     "output_type": "stream",
     "text": [
      "             Метод  Точность на тестовой выборке  \\\n",
      "0  Кросс-валидация                        0.9035   \n",
      "1       OOB ошибка                        0.9200   \n",
      "\n",
      "                                      Гиперпараметры  \n",
      "0  {'C': 10, 'max_iter': 100, 'solver': 'newton-cg'}  \n",
      "1  {'n_estimators': 200, 'max_depth': 5, 'min_sam...  \n"
     ]
    }
   ],
   "source": [
    "# Создаем таблицу сравнения\n",
    "comparison = pd.DataFrame({\n",
    "    'Метод': ['Кросс-валидация', 'OOB ошибка'],\n",
    "    'Точность на тестовой выборке': [ACC_rf_test, oob_test_score],\n",
    "    'Гиперпараметры': [gs.best_params_, best_params]\n",
    "})\n",
    "\n",
    "print(comparison)"
   ]
  },
  {
   "cell_type": "markdown",
   "id": "8bdc4617",
   "metadata": {},
   "source": [
    "По результатам сравнения видим, что исопьлзование OOB ошибки для подбора оптимальных параметров модели увеличило точность на тестовой выборке по сравнению с кросс-валидацией, тем не менее, обоими способами мы получили высокую точность"
   ]
  },
  {
   "cell_type": "markdown",
   "id": "98182c29",
   "metadata": {},
   "source": [
    "**Преимущества и недостатки OOB ошибки по сравнению с кросс-валидацией**\n",
    "\n",
    "\n",
    "Преимущества OOB:\n",
    "\n",
    "\n",
    "1)Выполняется быстрее, чем кросс-валидация: модель обучается один раз, оценка идёт по данным, не попавшим в конкретное дерево.\n",
    "\n",
    "2)ООВ встроена в случайный лес: пользователю не надо писать отдельный код или запускать GridSearchCV.\n",
    "\n",
    "3)При использовании ООВ нет необходимости явно выделять валидационные фолды.\n",
    "\n",
    "\n",
    "\n",
    "\n",
    "\n",
    "Недостатки OOB:\n",
    "\n",
    "1)Применима только к bagging-моделям (RandomForest и т.д.). Для логрегрессии, бустинга — не применимо.\n",
    "\n",
    "\n",
    "2)Отличается ограниченными возможностями настройки: нельзя выбрать число фолдов или стратифицированное разбиение.\n",
    "\n",
    "\n",
    "3)Потенциально более высокая дисперсия - Оценка может быть более вариативной, чем в кросс-валидации, поскольку обладает потенциально более высокйо дисперсией.\n",
    "\n",
    "\n"
   ]
  },
  {
   "cell_type": "markdown",
   "id": "7e57097f",
   "metadata": {},
   "source": [
    "4. Повторите предыдущий пункт, используя любой альтернативный критерий качества модели. Обоснуйте возможные преимущества и недостатки этого альтернативного критерия."
   ]
  },
  {
   "cell_type": "markdown",
   "id": "69ecbd2b",
   "metadata": {},
   "source": [
    "Используем метрику F1-score"
   ]
  },
  {
   "cell_type": "code",
   "execution_count": 65,
   "id": "f79b8bda",
   "metadata": {},
   "outputs": [],
   "source": [
    "# CRITERION = 'f1'\n",
    "CRITERION = 'f1'"
   ]
  },
  {
   "cell_type": "markdown",
   "id": "96173a71",
   "metadata": {},
   "source": [
    "**Метод ближайших соседей**"
   ]
  },
  {
   "cell_type": "code",
   "execution_count": 66,
   "id": "85ee14f0",
   "metadata": {},
   "outputs": [],
   "source": [
    "knn_params = {\n",
    "    'n_neighbors': [3, 5, 7],\n",
    "    'p': [1, 2, 3]\n",
    "}\n",
    "\n",
    "gs = GridSearchCV(estimator=KNeighborsClassifier(),\n",
    "                  param_grid=knn_params,\n",
    "                  cv=NFOLDS,\n",
    "                  scoring=CRITERION)\n",
    "\n",
    "gs.fit(features_train3, target_train3)\n",
    "\n",
    "knn_best = gs.best_estimator_\n",
    "\n",
    "ACC_train = knn_best.score(features_train3, target_train3)  # обучающая выборка\n",
    "\n",
    "ACC_test  = knn_best.score(features_test3, target_test3) # тестовая выборка\n",
    "\n",
    "ACC_cv = cross_val_score(knn_best,\n",
    "                        features_train3,\n",
    "                        target_train3,\n",
    "                        cv=NFOLDS).mean()\n",
    "\n",
    "class_metrics['kNN F1(подобр.)'] = [ACC_train,\n",
    "                                  ACC_test,\n",
    "                                  ACC_cv,\n",
    "                                  gs.best_params_]"
   ]
  },
  {
   "cell_type": "markdown",
   "id": "7bcd9844",
   "metadata": {},
   "source": [
    "**Градиентный бустинг**"
   ]
  },
  {
   "cell_type": "code",
   "execution_count": 67,
   "id": "d1947f54",
   "metadata": {},
   "outputs": [],
   "source": [
    "boosting_params = {\n",
    "    'max_depth': [3, 4, 5, 6],\n",
    "    'min_samples_leaf': [1, 2, 4]\n",
    "}\n",
    "\n",
    "\n",
    "gs = GridSearchCV(estimator=GradientBoostingClassifier(),\n",
    "                  param_grid=boosting_params,\n",
    "                  cv=NFOLDS,\n",
    "                  scoring=CRITERION)\n",
    "\n",
    "gs.fit(features_train3, target_train3)\n",
    "\n",
    "boosting_best = gs.best_estimator_\n",
    "\n",
    "ACC_train = boosting_best.score(features_train3, target_train3)  # обучающая выборка\n",
    "\n",
    "ACC_test  = boosting_best.score(features_test3, target_test3) # тестовая выборка\n",
    "\n",
    "ACC_cv = cross_val_score(boosting_best,\n",
    "                       features_train3,\n",
    "                        target_train3,\n",
    "                        cv=NFOLDS).mean()\n",
    "\n",
    "class_metrics['Бустинг F1(подобр.)'] = [ACC_train,\n",
    "                                    ACC_test,\n",
    "                                    ACC_cv,\n",
    "                                    gs.best_params_]"
   ]
  },
  {
   "cell_type": "markdown",
   "id": "57942f8f",
   "metadata": {},
   "source": [
    "**Случайный лес**"
   ]
  },
  {
   "cell_type": "code",
   "execution_count": 68,
   "id": "0bda6e56",
   "metadata": {},
   "outputs": [],
   "source": [
    "rf_params = {\n",
    "    'max_depth': range(2, 20),\n",
    "    'n_estimators': [50, 100]\n",
    "}\n",
    "\n",
    "gs = GridSearchCV(estimator=RandomForestClassifier(),\n",
    "                  param_grid=rf_params,\n",
    "                  cv=NFOLDS,\n",
    "                  scoring=CRITERION)\n",
    "\n",
    "gs.fit(features_train3, target_train3)\n",
    "\n",
    "rf_best = gs.best_estimator_\n",
    "\n",
    "ACC_train = rf_best.score(features_train3, target_train3)  # обучающая выборка\n",
    "\n",
    "ACC_test  = rf_best.score(features_test3, target_test3) # тестовая выборка\n",
    "\n",
    "ACC_cv = cross_val_score(rf_best,\n",
    "                        features_train3,\n",
    "                        target_train3,\n",
    "                        cv=NFOLDS).mean()\n",
    "\n",
    "class_metrics['Случ. лес F1(подобр.)'] = [ACC_train,\n",
    "                                    ACC_test,\n",
    "                                    ACC_cv,\n",
    "                                    gs.best_params_]"
   ]
  },
  {
   "cell_type": "markdown",
   "id": "3939dc2e",
   "metadata": {},
   "source": [
    "**Логистическая регрессия**"
   ]
  },
  {
   "cell_type": "code",
   "execution_count": 69,
   "id": "87fd3f0b",
   "metadata": {},
   "outputs": [],
   "source": [
    "logreg_params = {\n",
    "    'solver': ['newton-cg', 'lbfgs', 'liblinear', 'sag', 'saga'],\n",
    "    'max_iter': [100, 200, 300],\n",
    "    'C': [0.01, 0.1, 1, 10]\n",
    "}\n",
    "\n",
    "gs = GridSearchCV(estimator=LogisticRegression(),\n",
    "                  param_grid=logreg_params,\n",
    "                  cv=NFOLDS,\n",
    "                  scoring=CRITERION)\n",
    "\n",
    "gs.fit(features_train3, target_train3)\n",
    "\n",
    "\n",
    "logreg_best = gs.best_estimator_\n",
    "\n",
    "ACC_train = logreg_best.score(features_train3, target_train3)  # обучающая выборка\n",
    "\n",
    "ACC_test  = logreg_best.score(features_test3, target_test3) # тестовая выборка\n",
    "\n",
    "ACC_cv = cross_val_score(logreg_best,\n",
    "                        features_train3,\n",
    "                        target_train3,\n",
    "                        cv=NFOLDS).mean()\n",
    "\n",
    "class_metrics['Логрегрессия F1(подобр.)'] = [ACC_train,\n",
    "                                    ACC_test,\n",
    "                                    ACC_cv,\n",
    "                                    gs.best_params_]"
   ]
  },
  {
   "cell_type": "code",
   "execution_count": 71,
   "id": "2b63a046",
   "metadata": {},
   "outputs": [
    {
     "data": {
      "text/html": [
       "<div>\n",
       "<style scoped>\n",
       "    .dataframe tbody tr th:only-of-type {\n",
       "        vertical-align: middle;\n",
       "    }\n",
       "\n",
       "    .dataframe tbody tr th {\n",
       "        vertical-align: top;\n",
       "    }\n",
       "\n",
       "    .dataframe thead th {\n",
       "        text-align: right;\n",
       "    }\n",
       "</style>\n",
       "<table border=\"1\" class=\"dataframe\">\n",
       "  <thead>\n",
       "    <tr style=\"text-align: right;\">\n",
       "      <th></th>\n",
       "      <th>ACC обучающая выборка</th>\n",
       "      <th>ACC тестовая выборка</th>\n",
       "      <th>ACC Кросс-валидация</th>\n",
       "      <th>Гиперпараметры</th>\n",
       "    </tr>\n",
       "  </thead>\n",
       "  <tbody>\n",
       "    <tr>\n",
       "      <th>kNN</th>\n",
       "      <td>0.9175</td>\n",
       "      <td>0.9015</td>\n",
       "      <td>0.901</td>\n",
       "      <td>{'algorithm': 'auto', 'leaf_size': 30, 'metric...</td>\n",
       "    </tr>\n",
       "    <tr>\n",
       "      <th>Бустинг</th>\n",
       "      <td>0.92975</td>\n",
       "      <td>0.926</td>\n",
       "      <td>0.9225</td>\n",
       "      <td>{'ccp_alpha': 0.0, 'criterion': 'friedman_mse'...</td>\n",
       "    </tr>\n",
       "    <tr>\n",
       "      <th>Случ. лес</th>\n",
       "      <td>0.969625</td>\n",
       "      <td>0.9035</td>\n",
       "      <td>0.90225</td>\n",
       "      <td>{'bootstrap': True, 'ccp_alpha': 0.0, 'class_w...</td>\n",
       "    </tr>\n",
       "    <tr>\n",
       "      <th>Логрегрессия</th>\n",
       "      <td>0.91825</td>\n",
       "      <td>0.9135</td>\n",
       "      <td>0.91775</td>\n",
       "      <td>{'C': 1.0, 'class_weight': None, 'dual': False...</td>\n",
       "    </tr>\n",
       "    <tr>\n",
       "      <th>kNN (подобр.)</th>\n",
       "      <td>0.914375</td>\n",
       "      <td>0.9055</td>\n",
       "      <td>0.9055</td>\n",
       "      <td>{'n_neighbors': 7, 'p': 1}</td>\n",
       "    </tr>\n",
       "    <tr>\n",
       "      <th>Бустинг (подобр.)</th>\n",
       "      <td>0.92975</td>\n",
       "      <td>0.9265</td>\n",
       "      <td>0.923</td>\n",
       "      <td>{'max_depth': 3, 'min_samples_leaf': 4}</td>\n",
       "    </tr>\n",
       "    <tr>\n",
       "      <th>Случ. лес (подобр.)</th>\n",
       "      <td>0.928</td>\n",
       "      <td>0.927</td>\n",
       "      <td>0.922</td>\n",
       "      <td>{'max_depth': 6, 'n_estimators': 50}</td>\n",
       "    </tr>\n",
       "    <tr>\n",
       "      <th>Логрегрессия (подобр.)</th>\n",
       "      <td>0.918625</td>\n",
       "      <td>0.914</td>\n",
       "      <td>0.91875</td>\n",
       "      <td>{'C': 10, 'max_iter': 100, 'solver': 'newton-cg'}</td>\n",
       "    </tr>\n",
       "    <tr>\n",
       "      <th>kNN F1(подобр.)</th>\n",
       "      <td>0.929</td>\n",
       "      <td>0.8925</td>\n",
       "      <td>0.896125</td>\n",
       "      <td>{'n_neighbors': 3, 'p': 1}</td>\n",
       "    </tr>\n",
       "    <tr>\n",
       "      <th>Бустинг F1(подобр.)</th>\n",
       "      <td>0.934</td>\n",
       "      <td>0.9275</td>\n",
       "      <td>0.92075</td>\n",
       "      <td>{'max_depth': 4, 'min_samples_leaf': 4}</td>\n",
       "    </tr>\n",
       "    <tr>\n",
       "      <th>Случ. лес F1(подобр.)</th>\n",
       "      <td>0.961875</td>\n",
       "      <td>0.9135</td>\n",
       "      <td>0.909375</td>\n",
       "      <td>{'max_depth': 13, 'n_estimators': 100}</td>\n",
       "    </tr>\n",
       "    <tr>\n",
       "      <th>Логрегрессия F1(подобр.)</th>\n",
       "      <td>0.918625</td>\n",
       "      <td>0.914</td>\n",
       "      <td>0.91875</td>\n",
       "      <td>{'C': 10, 'max_iter': 100, 'solver': 'newton-cg'}</td>\n",
       "    </tr>\n",
       "  </tbody>\n",
       "</table>\n",
       "</div>"
      ],
      "text/plain": [
       "                         ACC обучающая выборка ACC тестовая выборка  \\\n",
       "kNN                                     0.9175               0.9015   \n",
       "Бустинг                                0.92975                0.926   \n",
       "Случ. лес                             0.969625               0.9035   \n",
       "Логрегрессия                           0.91825               0.9135   \n",
       "kNN (подобр.)                         0.914375               0.9055   \n",
       "Бустинг (подобр.)                      0.92975               0.9265   \n",
       "Случ. лес (подобр.)                      0.928                0.927   \n",
       "Логрегрессия (подобр.)                0.918625                0.914   \n",
       "kNN F1(подобр.)                          0.929               0.8925   \n",
       "Бустинг F1(подобр.)                      0.934               0.9275   \n",
       "Случ. лес F1(подобр.)                 0.961875               0.9135   \n",
       "Логрегрессия F1(подобр.)              0.918625                0.914   \n",
       "\n",
       "                         ACC Кросс-валидация  \\\n",
       "kNN                                    0.901   \n",
       "Бустинг                               0.9225   \n",
       "Случ. лес                            0.90225   \n",
       "Логрегрессия                         0.91775   \n",
       "kNN (подобр.)                         0.9055   \n",
       "Бустинг (подобр.)                      0.923   \n",
       "Случ. лес (подобр.)                    0.922   \n",
       "Логрегрессия (подобр.)               0.91875   \n",
       "kNN F1(подобр.)                     0.896125   \n",
       "Бустинг F1(подобр.)                  0.92075   \n",
       "Случ. лес F1(подобр.)               0.909375   \n",
       "Логрегрессия F1(подобр.)             0.91875   \n",
       "\n",
       "                                                             Гиперпараметры  \n",
       "kNN                       {'algorithm': 'auto', 'leaf_size': 30, 'metric...  \n",
       "Бустинг                   {'ccp_alpha': 0.0, 'criterion': 'friedman_mse'...  \n",
       "Случ. лес                 {'bootstrap': True, 'ccp_alpha': 0.0, 'class_w...  \n",
       "Логрегрессия              {'C': 1.0, 'class_weight': None, 'dual': False...  \n",
       "kNN (подобр.)                                    {'n_neighbors': 7, 'p': 1}  \n",
       "Бустинг (подобр.)                   {'max_depth': 3, 'min_samples_leaf': 4}  \n",
       "Случ. лес (подобр.)                    {'max_depth': 6, 'n_estimators': 50}  \n",
       "Логрегрессия (подобр.)    {'C': 10, 'max_iter': 100, 'solver': 'newton-cg'}  \n",
       "kNN F1(подобр.)                                  {'n_neighbors': 3, 'p': 1}  \n",
       "Бустинг F1(подобр.)                 {'max_depth': 4, 'min_samples_leaf': 4}  \n",
       "Случ. лес F1(подобр.)                {'max_depth': 13, 'n_estimators': 100}  \n",
       "Логрегрессия F1(подобр.)  {'C': 10, 'max_iter': 100, 'solver': 'newton-cg'}  "
      ]
     },
     "execution_count": 71,
     "metadata": {},
     "output_type": "execute_result"
    }
   ],
   "source": [
    "class_metrics.T"
   ]
  },
  {
   "cell_type": "markdown",
   "id": "0e899985",
   "metadata": {},
   "source": [
    "Вывод: видим, что практически во всех случаях(кроме kNN) подбор параметров повысил качество результатов по сравнению с первоначальной оценкой, но снизил по сравнению с этапом подбора параметров\n",
    "\n",
    "Лучшая точность прогнозов:\n",
    "\n",
    "- на обучающей выборке осталась у случайного леса\n",
    "- на тестовой выборке стала у бустинга и снизилась по сравнению с Бустинг (подобр.)\n",
    "- на кросс-валидации осталась у бустинга, но снизилась аналогично\n",
    "\n",
    "Худшая точность прогнозов во всех случаях осталась у KNN\n",
    "\n",
    "Преимущества F1-score:\n",
    "\n",
    "- Данный метод учитывает как точность, так и полноту, что может быть полезно при несбалансированных классах(как в нашем случае, поскольку всего лишь 9% компаний относятся к крупным)\n",
    "- Является более информативным, чем метрика accuracy, когда важно не пропускать редкие, но важные классы\n",
    "\n",
    "\n",
    "Недостатки F1-score:\n",
    "\n",
    "- Не принимает во внимание количество верно предсказанных отрицательных примеров, что может исказить представление о качестве модели, особенно когда таких наблюдений много.\n",
    "\n",
    "- Может не отражать дисбаланс между точностью и полнотой, если одна из этих метрик значительно хуже, чем другая — итоговое значение F1-score может быть достаточно высоким, что в свою очередь исказит представление о качестве модели."
   ]
  },
  {
   "cell_type": "markdown",
   "id": "6b9ac13b",
   "metadata": {},
   "source": [
    "\n",
    "**Повышенная сложность:** дополнительно самостоятельно запрограммируйте\n",
    "не представленный в стандартных библиотеках критерий качества и используйте его для тюнинга гиперпараметров. Сравните результат стандартного и\n",
    "вашего критериев, а также опишите его преимущества и недостатки: в каких\n",
    "случаях его разумно применять, а в каких случаях он может оказаться не очень\n",
    "полезен.\n"
   ]
  },
  {
   "cell_type": "markdown",
   "id": "54224c32",
   "metadata": {},
   "source": [
    "**Реализация пользовательского критерия качества**"
   ]
  },
  {
   "cell_type": "code",
   "execution_count": 72,
   "id": "a370111d",
   "metadata": {},
   "outputs": [],
   "source": [
    "from sklearn.metrics import make_scorer\n",
    "from sklearn.metrics import confusion_matrix\n",
    "import numpy as np\n"
   ]
  },
  {
   "cell_type": "code",
   "execution_count": 73,
   "id": "c3f3beab",
   "metadata": {},
   "outputs": [],
   "source": [
    "def weighted_f2_score(y_true, y_pred):\n",
    "    \"\"\"\n",
    "    Взвешенная F2-мера с бета=2 (больший вес на полноту)\n",
    "    Fbeta = (1+beta^2) * (precision * recall) / (beta^2 * precision + recall)\n",
    "    \"\"\"\n",
    "    tn, fp, fn, tp = confusion_matrix(y_true, y_pred).ravel()\n",
    "    \n",
    "    precision = tp / (tp + fp) if (tp + fp) > 0 else 0\n",
    "    recall = tp / (tp + fn) if (tp + fn) > 0 else 0\n",
    "    \n",
    "    beta = 2\n",
    "    fbeta = (1 + beta**2) * (precision * recall) / (beta**2 * precision + recall + 1e-10)\n",
    "    \n",
    "    return fbeta"
   ]
  },
  {
   "cell_type": "code",
   "execution_count": 74,
   "id": "ca7d2d8e",
   "metadata": {},
   "outputs": [],
   "source": [
    "# Создаем scorer для использования в GridSearchCV\n",
    "f2_scorer = make_scorer(weighted_f2_score)\n",
    "# Параметры для поиска\n",
    "param_grid = {\n",
    "    'n_estimators': [50, 100, 200],\n",
    "    'max_depth': [None, 5, 10, 20],\n",
    "    'min_samples_split': [2, 5, 10],\n",
    "    'min_samples_leaf': [1, 2, 4],\n",
    "    'max_features': ['sqrt', 'log2']\n",
    "}\n"
   ]
  },
  {
   "cell_type": "code",
   "execution_count": 75,
   "id": "4ea74aec",
   "metadata": {},
   "outputs": [
    {
     "data": {
      "text/html": [
       "<style>#sk-container-id-5 {color: black;}#sk-container-id-5 pre{padding: 0;}#sk-container-id-5 div.sk-toggleable {background-color: white;}#sk-container-id-5 label.sk-toggleable__label {cursor: pointer;display: block;width: 100%;margin-bottom: 0;padding: 0.3em;box-sizing: border-box;text-align: center;}#sk-container-id-5 label.sk-toggleable__label-arrow:before {content: \"▸\";float: left;margin-right: 0.25em;color: #696969;}#sk-container-id-5 label.sk-toggleable__label-arrow:hover:before {color: black;}#sk-container-id-5 div.sk-estimator:hover label.sk-toggleable__label-arrow:before {color: black;}#sk-container-id-5 div.sk-toggleable__content {max-height: 0;max-width: 0;overflow: hidden;text-align: left;background-color: #f0f8ff;}#sk-container-id-5 div.sk-toggleable__content pre {margin: 0.2em;color: black;border-radius: 0.25em;background-color: #f0f8ff;}#sk-container-id-5 input.sk-toggleable__control:checked~div.sk-toggleable__content {max-height: 200px;max-width: 100%;overflow: auto;}#sk-container-id-5 input.sk-toggleable__control:checked~label.sk-toggleable__label-arrow:before {content: \"▾\";}#sk-container-id-5 div.sk-estimator input.sk-toggleable__control:checked~label.sk-toggleable__label {background-color: #d4ebff;}#sk-container-id-5 div.sk-label input.sk-toggleable__control:checked~label.sk-toggleable__label {background-color: #d4ebff;}#sk-container-id-5 input.sk-hidden--visually {border: 0;clip: rect(1px 1px 1px 1px);clip: rect(1px, 1px, 1px, 1px);height: 1px;margin: -1px;overflow: hidden;padding: 0;position: absolute;width: 1px;}#sk-container-id-5 div.sk-estimator {font-family: monospace;background-color: #f0f8ff;border: 1px dotted black;border-radius: 0.25em;box-sizing: border-box;margin-bottom: 0.5em;}#sk-container-id-5 div.sk-estimator:hover {background-color: #d4ebff;}#sk-container-id-5 div.sk-parallel-item::after {content: \"\";width: 100%;border-bottom: 1px solid gray;flex-grow: 1;}#sk-container-id-5 div.sk-label:hover label.sk-toggleable__label {background-color: #d4ebff;}#sk-container-id-5 div.sk-serial::before {content: \"\";position: absolute;border-left: 1px solid gray;box-sizing: border-box;top: 0;bottom: 0;left: 50%;z-index: 0;}#sk-container-id-5 div.sk-serial {display: flex;flex-direction: column;align-items: center;background-color: white;padding-right: 0.2em;padding-left: 0.2em;position: relative;}#sk-container-id-5 div.sk-item {position: relative;z-index: 1;}#sk-container-id-5 div.sk-parallel {display: flex;align-items: stretch;justify-content: center;background-color: white;position: relative;}#sk-container-id-5 div.sk-item::before, #sk-container-id-5 div.sk-parallel-item::before {content: \"\";position: absolute;border-left: 1px solid gray;box-sizing: border-box;top: 0;bottom: 0;left: 50%;z-index: -1;}#sk-container-id-5 div.sk-parallel-item {display: flex;flex-direction: column;z-index: 1;position: relative;background-color: white;}#sk-container-id-5 div.sk-parallel-item:first-child::after {align-self: flex-end;width: 50%;}#sk-container-id-5 div.sk-parallel-item:last-child::after {align-self: flex-start;width: 50%;}#sk-container-id-5 div.sk-parallel-item:only-child::after {width: 0;}#sk-container-id-5 div.sk-dashed-wrapped {border: 1px dashed gray;margin: 0 0.4em 0.5em 0.4em;box-sizing: border-box;padding-bottom: 0.4em;background-color: white;}#sk-container-id-5 div.sk-label label {font-family: monospace;font-weight: bold;display: inline-block;line-height: 1.2em;}#sk-container-id-5 div.sk-label-container {text-align: center;}#sk-container-id-5 div.sk-container {/* jupyter's `normalize.less` sets `[hidden] { display: none; }` but bootstrap.min.css set `[hidden] { display: none !important; }` so we also need the `!important` here to be able to override the default hidden behavior on the sphinx rendered scikit-learn.org. See: https://github.com/scikit-learn/scikit-learn/issues/21755 */display: inline-block !important;position: relative;}#sk-container-id-5 div.sk-text-repr-fallback {display: none;}</style><div id=\"sk-container-id-5\" class=\"sk-top-container\"><div class=\"sk-text-repr-fallback\"><pre>GridSearchCV(cv=5,\n",
       "             estimator=RandomForestClassifier(oob_score=True, random_state=777),\n",
       "             n_jobs=-1,\n",
       "             param_grid={&#x27;max_depth&#x27;: [None, 5, 10, 20],\n",
       "                         &#x27;max_features&#x27;: [&#x27;sqrt&#x27;, &#x27;log2&#x27;],\n",
       "                         &#x27;min_samples_leaf&#x27;: [1, 2, 4],\n",
       "                         &#x27;min_samples_split&#x27;: [2, 5, 10],\n",
       "                         &#x27;n_estimators&#x27;: [50, 100, 200]},\n",
       "             scoring=make_scorer(weighted_f2_score))</pre><b>In a Jupyter environment, please rerun this cell to show the HTML representation or trust the notebook. <br />On GitHub, the HTML representation is unable to render, please try loading this page with nbviewer.org.</b></div><div class=\"sk-container\" hidden><div class=\"sk-item sk-dashed-wrapped\"><div class=\"sk-label-container\"><div class=\"sk-label sk-toggleable\"><input class=\"sk-toggleable__control sk-hidden--visually\" id=\"sk-estimator-id-5\" type=\"checkbox\" ><label for=\"sk-estimator-id-5\" class=\"sk-toggleable__label sk-toggleable__label-arrow\">GridSearchCV</label><div class=\"sk-toggleable__content\"><pre>GridSearchCV(cv=5,\n",
       "             estimator=RandomForestClassifier(oob_score=True, random_state=777),\n",
       "             n_jobs=-1,\n",
       "             param_grid={&#x27;max_depth&#x27;: [None, 5, 10, 20],\n",
       "                         &#x27;max_features&#x27;: [&#x27;sqrt&#x27;, &#x27;log2&#x27;],\n",
       "                         &#x27;min_samples_leaf&#x27;: [1, 2, 4],\n",
       "                         &#x27;min_samples_split&#x27;: [2, 5, 10],\n",
       "                         &#x27;n_estimators&#x27;: [50, 100, 200]},\n",
       "             scoring=make_scorer(weighted_f2_score))</pre></div></div></div><div class=\"sk-parallel\"><div class=\"sk-parallel-item\"><div class=\"sk-item\"><div class=\"sk-label-container\"><div class=\"sk-label sk-toggleable\"><input class=\"sk-toggleable__control sk-hidden--visually\" id=\"sk-estimator-id-6\" type=\"checkbox\" ><label for=\"sk-estimator-id-6\" class=\"sk-toggleable__label sk-toggleable__label-arrow\">estimator: RandomForestClassifier</label><div class=\"sk-toggleable__content\"><pre>RandomForestClassifier(oob_score=True, random_state=777)</pre></div></div></div><div class=\"sk-serial\"><div class=\"sk-item\"><div class=\"sk-estimator sk-toggleable\"><input class=\"sk-toggleable__control sk-hidden--visually\" id=\"sk-estimator-id-7\" type=\"checkbox\" ><label for=\"sk-estimator-id-7\" class=\"sk-toggleable__label sk-toggleable__label-arrow\">RandomForestClassifier</label><div class=\"sk-toggleable__content\"><pre>RandomForestClassifier(oob_score=True, random_state=777)</pre></div></div></div></div></div></div></div></div></div></div>"
      ],
      "text/plain": [
       "GridSearchCV(cv=5,\n",
       "             estimator=RandomForestClassifier(oob_score=True, random_state=777),\n",
       "             n_jobs=-1,\n",
       "             param_grid={'max_depth': [None, 5, 10, 20],\n",
       "                         'max_features': ['sqrt', 'log2'],\n",
       "                         'min_samples_leaf': [1, 2, 4],\n",
       "                         'min_samples_split': [2, 5, 10],\n",
       "                         'n_estimators': [50, 100, 200]},\n",
       "             scoring=make_scorer(weighted_f2_score))"
      ]
     },
     "execution_count": 75,
     "metadata": {},
     "output_type": "execute_result"
    }
   ],
   "source": [
    "# Создаем и настраиваем модель с пользовательским критерием\n",
    "rf_custom = RandomForestClassifier(random_state=777, oob_score=True)\n",
    "grid_search_custom = GridSearchCV(estimator=rf_custom, \n",
    "                                 param_grid=param_grid, \n",
    "                                 cv=5,\n",
    "                                 scoring=f2_scorer,\n",
    "                                 n_jobs=-1)\n",
    "grid_search_custom.fit(features_train3, target_train3)\n"
   ]
  },
  {
   "cell_type": "code",
   "execution_count": 76,
   "id": "265fb054",
   "metadata": {},
   "outputs": [
    {
     "data": {
      "text/html": [
       "<style>#sk-container-id-6 {color: black;}#sk-container-id-6 pre{padding: 0;}#sk-container-id-6 div.sk-toggleable {background-color: white;}#sk-container-id-6 label.sk-toggleable__label {cursor: pointer;display: block;width: 100%;margin-bottom: 0;padding: 0.3em;box-sizing: border-box;text-align: center;}#sk-container-id-6 label.sk-toggleable__label-arrow:before {content: \"▸\";float: left;margin-right: 0.25em;color: #696969;}#sk-container-id-6 label.sk-toggleable__label-arrow:hover:before {color: black;}#sk-container-id-6 div.sk-estimator:hover label.sk-toggleable__label-arrow:before {color: black;}#sk-container-id-6 div.sk-toggleable__content {max-height: 0;max-width: 0;overflow: hidden;text-align: left;background-color: #f0f8ff;}#sk-container-id-6 div.sk-toggleable__content pre {margin: 0.2em;color: black;border-radius: 0.25em;background-color: #f0f8ff;}#sk-container-id-6 input.sk-toggleable__control:checked~div.sk-toggleable__content {max-height: 200px;max-width: 100%;overflow: auto;}#sk-container-id-6 input.sk-toggleable__control:checked~label.sk-toggleable__label-arrow:before {content: \"▾\";}#sk-container-id-6 div.sk-estimator input.sk-toggleable__control:checked~label.sk-toggleable__label {background-color: #d4ebff;}#sk-container-id-6 div.sk-label input.sk-toggleable__control:checked~label.sk-toggleable__label {background-color: #d4ebff;}#sk-container-id-6 input.sk-hidden--visually {border: 0;clip: rect(1px 1px 1px 1px);clip: rect(1px, 1px, 1px, 1px);height: 1px;margin: -1px;overflow: hidden;padding: 0;position: absolute;width: 1px;}#sk-container-id-6 div.sk-estimator {font-family: monospace;background-color: #f0f8ff;border: 1px dotted black;border-radius: 0.25em;box-sizing: border-box;margin-bottom: 0.5em;}#sk-container-id-6 div.sk-estimator:hover {background-color: #d4ebff;}#sk-container-id-6 div.sk-parallel-item::after {content: \"\";width: 100%;border-bottom: 1px solid gray;flex-grow: 1;}#sk-container-id-6 div.sk-label:hover label.sk-toggleable__label {background-color: #d4ebff;}#sk-container-id-6 div.sk-serial::before {content: \"\";position: absolute;border-left: 1px solid gray;box-sizing: border-box;top: 0;bottom: 0;left: 50%;z-index: 0;}#sk-container-id-6 div.sk-serial {display: flex;flex-direction: column;align-items: center;background-color: white;padding-right: 0.2em;padding-left: 0.2em;position: relative;}#sk-container-id-6 div.sk-item {position: relative;z-index: 1;}#sk-container-id-6 div.sk-parallel {display: flex;align-items: stretch;justify-content: center;background-color: white;position: relative;}#sk-container-id-6 div.sk-item::before, #sk-container-id-6 div.sk-parallel-item::before {content: \"\";position: absolute;border-left: 1px solid gray;box-sizing: border-box;top: 0;bottom: 0;left: 50%;z-index: -1;}#sk-container-id-6 div.sk-parallel-item {display: flex;flex-direction: column;z-index: 1;position: relative;background-color: white;}#sk-container-id-6 div.sk-parallel-item:first-child::after {align-self: flex-end;width: 50%;}#sk-container-id-6 div.sk-parallel-item:last-child::after {align-self: flex-start;width: 50%;}#sk-container-id-6 div.sk-parallel-item:only-child::after {width: 0;}#sk-container-id-6 div.sk-dashed-wrapped {border: 1px dashed gray;margin: 0 0.4em 0.5em 0.4em;box-sizing: border-box;padding-bottom: 0.4em;background-color: white;}#sk-container-id-6 div.sk-label label {font-family: monospace;font-weight: bold;display: inline-block;line-height: 1.2em;}#sk-container-id-6 div.sk-label-container {text-align: center;}#sk-container-id-6 div.sk-container {/* jupyter's `normalize.less` sets `[hidden] { display: none; }` but bootstrap.min.css set `[hidden] { display: none !important; }` so we also need the `!important` here to be able to override the default hidden behavior on the sphinx rendered scikit-learn.org. See: https://github.com/scikit-learn/scikit-learn/issues/21755 */display: inline-block !important;position: relative;}#sk-container-id-6 div.sk-text-repr-fallback {display: none;}</style><div id=\"sk-container-id-6\" class=\"sk-top-container\"><div class=\"sk-text-repr-fallback\"><pre>GridSearchCV(cv=5,\n",
       "             estimator=RandomForestClassifier(oob_score=True, random_state=777),\n",
       "             n_jobs=-1,\n",
       "             param_grid={&#x27;max_depth&#x27;: [None, 5, 10, 20],\n",
       "                         &#x27;max_features&#x27;: [&#x27;sqrt&#x27;, &#x27;log2&#x27;],\n",
       "                         &#x27;min_samples_leaf&#x27;: [1, 2, 4],\n",
       "                         &#x27;min_samples_split&#x27;: [2, 5, 10],\n",
       "                         &#x27;n_estimators&#x27;: [50, 100, 200]},\n",
       "             scoring=&#x27;accuracy&#x27;)</pre><b>In a Jupyter environment, please rerun this cell to show the HTML representation or trust the notebook. <br />On GitHub, the HTML representation is unable to render, please try loading this page with nbviewer.org.</b></div><div class=\"sk-container\" hidden><div class=\"sk-item sk-dashed-wrapped\"><div class=\"sk-label-container\"><div class=\"sk-label sk-toggleable\"><input class=\"sk-toggleable__control sk-hidden--visually\" id=\"sk-estimator-id-8\" type=\"checkbox\" ><label for=\"sk-estimator-id-8\" class=\"sk-toggleable__label sk-toggleable__label-arrow\">GridSearchCV</label><div class=\"sk-toggleable__content\"><pre>GridSearchCV(cv=5,\n",
       "             estimator=RandomForestClassifier(oob_score=True, random_state=777),\n",
       "             n_jobs=-1,\n",
       "             param_grid={&#x27;max_depth&#x27;: [None, 5, 10, 20],\n",
       "                         &#x27;max_features&#x27;: [&#x27;sqrt&#x27;, &#x27;log2&#x27;],\n",
       "                         &#x27;min_samples_leaf&#x27;: [1, 2, 4],\n",
       "                         &#x27;min_samples_split&#x27;: [2, 5, 10],\n",
       "                         &#x27;n_estimators&#x27;: [50, 100, 200]},\n",
       "             scoring=&#x27;accuracy&#x27;)</pre></div></div></div><div class=\"sk-parallel\"><div class=\"sk-parallel-item\"><div class=\"sk-item\"><div class=\"sk-label-container\"><div class=\"sk-label sk-toggleable\"><input class=\"sk-toggleable__control sk-hidden--visually\" id=\"sk-estimator-id-9\" type=\"checkbox\" ><label for=\"sk-estimator-id-9\" class=\"sk-toggleable__label sk-toggleable__label-arrow\">estimator: RandomForestClassifier</label><div class=\"sk-toggleable__content\"><pre>RandomForestClassifier(oob_score=True, random_state=777)</pre></div></div></div><div class=\"sk-serial\"><div class=\"sk-item\"><div class=\"sk-estimator sk-toggleable\"><input class=\"sk-toggleable__control sk-hidden--visually\" id=\"sk-estimator-id-10\" type=\"checkbox\" ><label for=\"sk-estimator-id-10\" class=\"sk-toggleable__label sk-toggleable__label-arrow\">RandomForestClassifier</label><div class=\"sk-toggleable__content\"><pre>RandomForestClassifier(oob_score=True, random_state=777)</pre></div></div></div></div></div></div></div></div></div></div>"
      ],
      "text/plain": [
       "GridSearchCV(cv=5,\n",
       "             estimator=RandomForestClassifier(oob_score=True, random_state=777),\n",
       "             n_jobs=-1,\n",
       "             param_grid={'max_depth': [None, 5, 10, 20],\n",
       "                         'max_features': ['sqrt', 'log2'],\n",
       "                         'min_samples_leaf': [1, 2, 4],\n",
       "                         'min_samples_split': [2, 5, 10],\n",
       "                         'n_estimators': [50, 100, 200]},\n",
       "             scoring='accuracy')"
      ]
     },
     "execution_count": 76,
     "metadata": {},
     "output_type": "execute_result"
    }
   ],
   "source": [
    "# Лучшая модель с пользовательским критерием\n",
    "best_rf_custom = grid_search_custom.best_estimator_\n",
    "custom_test_score = weighted_f2_score(target_test3, best_rf_custom.predict(features_test3))\n",
    "# Стандартная настройка с accuracy\n",
    "grid_search_std = GridSearchCV(estimator=rf_custom, \n",
    "                             param_grid=param_grid, \n",
    "                             cv=5,\n",
    "                             scoring='accuracy',\n",
    "                             n_jobs=-1)\n",
    "grid_search_std.fit(features_train3, target_train3)\n"
   ]
  },
  {
   "cell_type": "code",
   "execution_count": 77,
   "id": "b48b6040",
   "metadata": {},
   "outputs": [],
   "source": [
    "# Лучшая модель со стандартным критерием\n",
    "best_rf_std = grid_search_std.best_estimator_\n",
    "std_test_score = best_rf_std.score(features_test3, target_test3)"
   ]
  },
  {
   "cell_type": "code",
   "execution_count": 78,
   "id": "073b8968",
   "metadata": {},
   "outputs": [
    {
     "name": "stdout",
     "output_type": "stream",
     "text": [
      "Сравнение подходов:\n",
      "                 Критерий  Точность (accuracy)   F2-мера  \\\n",
      "0  Стандартный (accuracy)               0.9215  0.181941   \n",
      "1   Пользовательский (F2)               0.9160  0.417163   \n",
      "\n",
      "                                      Гиперпараметры  \n",
      "0  {'max_depth': 5, 'max_features': 'sqrt', 'min_...  \n",
      "1  {'max_depth': 20, 'max_features': 'sqrt', 'min...  \n"
     ]
    }
   ],
   "source": [
    "# Сравнительная таблица\n",
    "comparison = pd.DataFrame({\n",
    "    'Критерий': ['Стандартный (accuracy)', 'Пользовательский (F2)'],\n",
    "    'Точность (accuracy)': [std_test_score, best_rf_custom.score(features_test3, target_test3)],\n",
    "    'F2-мера': [weighted_f2_score(target_test3, best_rf_std.predict(features_test3)), custom_test_score],\n",
    "    'Гиперпараметры': [grid_search_std.best_params_, grid_search_custom.best_params_]\n",
    "})\n",
    "\n",
    "print(\"Сравнение подходов:\")\n",
    "print(comparison)"
   ]
  },
  {
   "cell_type": "markdown",
   "id": "8014d8c4",
   "metadata": {},
   "source": [
    "По результата сравнения видим, что точность выборки Accuracy после применения пользовательского критерия стала ниже, чем при использовании метрики Accuracy. При этом при оценке качества по метрике F2 качество низкое как при использовании в процессе выбора оптимальных параметров метрики Accuracy, так и метрики F2, поэтому в целом можно сделать вывод, что F2 мера не отражает правдободобную степень качества моделеи"
   ]
  },
  {
   "cell_type": "markdown",
   "id": "c34d749f",
   "metadata": {},
   "source": [
    "**Преимущества и недостатки пользовательского критерия**\n",
    "\n",
    "\n",
    "Преимущества F2-меры:\n",
    "\n",
    "\n",
    "\n",
    "1)F2-мера лучше подходит для задач, где пропуск положительных классов (False Negative)критичнее ложных срабатываний.\n",
    "\n",
    "\n",
    "2)Гибкость моедли, которая заключается яв возможности регулировать баланс между точностью и полнотой с помощью параметра beta.\n",
    "\n",
    "\n",
    "3)Лучшее соответствие бизнес-требованиям в задачах с асимметричными затратами на ошибки.\n",
    "\n",
    "\n",
    "\n",
    "Недостатки F2-меры:\n",
    "\n",
    "\n",
    "\n",
    "1)Может иметь большую вычислительную сложность, поскольку ее использование требует расчета матрицы ошибок для каждой оценки.\n",
    "\n",
    "\n",
    "2)Более трудная для интерпретации по сравнению с простой accuracy\n",
    "\n",
    "\n",
    "3)Может давать слишком оптимистичные оценки на несбалансированных данных\n",
    "\n",
    "\n",
    "Пользовательский критерий, такой как F2-мера, целесообразно использовать, когда ошибки классификации имеют разную значимость. Это особенно актуально в задачах, где важнее обнаружить все положительные случаи, даже если это приводит к большему числу ложных срабатываний — например, при диагностике заболеваний или выявлении мошенничества. В таких случаях стоимость пропуска (False Negative) выше, чем ложного предупреждения (False Positive), и полнота как критерий качества становится приоритным.\n",
    "\n",
    "Однако, если классы хорошо сбалансированы, ошибки одинаково критичны, или нет строгих бизнес-ограничений, то стандартные метрики вроде accuracy могут быть более подходящими — они проще в интерпретации и быстрее рассчитываются.\n"
   ]
  },
  {
   "cell_type": "markdown",
   "id": "fa0ff315",
   "metadata": {},
   "source": [
    "5. Постройте ROC-кривую для ваших моделей и сравните их по AUC на тестовой\n",
    "выборке."
   ]
  },
  {
   "cell_type": "code",
   "execution_count": 79,
   "id": "b76efb13",
   "metadata": {},
   "outputs": [],
   "source": [
    "# Оценим вероятности на тестовой выборке\n",
    "\n",
    "knn_prob = knn_best.predict_proba(features_test3)[:, 1]\n",
    "\n",
    "rf_prob = rf_best.predict_proba(features_test3)[:, 1]\n",
    "\n",
    "boosting_prob = boosting_best.predict_proba(features_test3)[:, 1]\n",
    "\n",
    "logreg_prob = logreg_best.predict_proba(features_test3)[:, 1]"
   ]
  },
  {
   "cell_type": "code",
   "execution_count": 80,
   "id": "7c62dbae",
   "metadata": {},
   "outputs": [],
   "source": [
    "from sklearn import metrics\n",
    "\n",
    "# Посчитеаем TPR и FPR при различных порогах (thresholds)\n",
    "\n",
    "knn_FPR, knn_TPR, knn_thresholds = metrics.roc_curve( target_test3, knn_prob)\n",
    "boosting_FPR, boosting_TPR, boosting_thresholds = metrics.roc_curve( target_test3, boosting_prob)\n",
    "\n",
    "rf_FPR, rf_TPR, rf_thresholds = metrics.roc_curve( target_test3, rf_prob)\n",
    "\n",
    "logreg_FPR, logreg_TPR, logreg_thresholds = metrics.roc_curve( target_test3, logreg_prob)"
   ]
  },
  {
   "cell_type": "code",
   "execution_count": 84,
   "id": "2553e70d",
   "metadata": {},
   "outputs": [
    {
     "data": {
      "image/png": "[encoded data removed]",
      "text/plain": [
       "<Figure size 432x288 with 1 Axes>"
      ]
     },
     "metadata": {
      "needs_background": "light"
     },
     "output_type": "display_data"
    }
   ],
   "source": [
    "# Построим ROC-кривые для всех моделей\n",
    "\n",
    "plt.plot(knn_FPR, knn_TPR, label = \"knn\")\n",
    "plt.plot(boosting_FPR, boosting_TPR, label = \"boosting\")\n",
    "plt.plot(rf_FPR, rf_TPR, label = \"rf\")\n",
    "plt.plot(logreg_FPR, logreg_TPR, label = \"logreg\")\n",
    "plt.legend()\n",
    "plt.title('ROC-AUC curves')\n",
    "plt.show()"
   ]
  },
  {
   "cell_type": "code",
   "execution_count": 85,
   "id": "dd2a02a6",
   "metadata": {},
   "outputs": [],
   "source": [
    "# Сравним модели по AUC\n",
    "\n",
    "knn_AUC = metrics.roc_auc_score(target_test3, knn_prob)\n",
    "boosting_AUC = metrics.roc_auc_score(target_test3, boosting_prob)\n",
    "rf_AUC = metrics.roc_auc_score(target_test3, rf_prob)\n",
    "logreg_AUC = metrics.roc_auc_score(target_test3, logreg_prob)"
   ]
  },
  {
   "cell_type": "code",
   "execution_count": 86,
   "id": "803dda04",
   "metadata": {},
   "outputs": [
    {
     "data": {
      "text/html": [
       "<div>\n",
       "<style scoped>\n",
       "    .dataframe tbody tr th:only-of-type {\n",
       "        vertical-align: middle;\n",
       "    }\n",
       "\n",
       "    .dataframe tbody tr th {\n",
       "        vertical-align: top;\n",
       "    }\n",
       "\n",
       "    .dataframe thead th {\n",
       "        text-align: right;\n",
       "    }\n",
       "</style>\n",
       "<table border=\"1\" class=\"dataframe\">\n",
       "  <thead>\n",
       "    <tr style=\"text-align: right;\">\n",
       "      <th></th>\n",
       "      <th>AUC</th>\n",
       "    </tr>\n",
       "  </thead>\n",
       "  <tbody>\n",
       "    <tr>\n",
       "      <th>knn</th>\n",
       "      <td>0.700701</td>\n",
       "    </tr>\n",
       "    <tr>\n",
       "      <th>rf</th>\n",
       "      <td>0.922271</td>\n",
       "    </tr>\n",
       "    <tr>\n",
       "      <th>boosting</th>\n",
       "      <td>0.938392</td>\n",
       "    </tr>\n",
       "    <tr>\n",
       "      <th>logreg</th>\n",
       "      <td>0.939398</td>\n",
       "    </tr>\n",
       "  </tbody>\n",
       "</table>\n",
       "</div>"
      ],
      "text/plain": [
       "               AUC\n",
       "knn       0.700701\n",
       "rf        0.922271\n",
       "boosting  0.938392\n",
       "logreg    0.939398"
      ]
     },
     "execution_count": 86,
     "metadata": {},
     "output_type": "execute_result"
    }
   ],
   "source": [
    "pd.DataFrame({\n",
    "    'AUC': [knn_AUC, rf_AUC, boosting_AUC, logreg_AUC]\n",
    "}, index   = ['knn', 'rf', 'boosting', 'logreg'])"
   ]
  },
  {
   "cell_type": "markdown",
   "id": "54f16043",
   "metadata": {},
   "source": [
    "Самый высокий AUC - у логистической регрессии, что видно как по расчетам, так и визуально. Метод ближайших соседей заметно уступает остальным"
   ]
  },
  {
   "cell_type": "markdown",
   "id": "c3a6b06d",
   "metadata": {},
   "source": [
    "6. Постройте матрицу ошибок и предположите цены различных видов прогнозов.\n",
    "Исходя из критерия максимизации прибыли на обучающей выборке подберите оптимальный порог прогнозирования для каждого из методов и сравните\n",
    "прибыли на тестовой выборке при соответствующих порогах. Результат представьте в форме таблицы, в которой должны быть указаны как AUC, так и\n",
    "прибыли (на тестовой выборке). Проинтерпретируйте полученный результат.\n"
   ]
  },
  {
   "cell_type": "markdown",
   "id": "d49ba689",
   "metadata": {},
   "source": [
    "Запишем возможные виды прогнозов в контексте нашей задачи:\n",
    "\n",
    "\n",
    "*   **TP (true positive)** - спрогнозировали, что компания является крупномасштабной и она на самом деле является крупномасштабной: $$\\text{Scale}_{i} = 1\\qquad \\widehat{\\text{Scale}}_{i}=1$$\n",
    "*   **TN (true negative)** - спрогнозировали, что компания не является крупномасштабной и она на самом деле не является крупномасштабной: $$\\text{Scale}_{i} = 0\\qquad \\widehat{\\text{Scale}}_{i}=0$$\n",
    "*   **FP (false positive)** - спрогнозировали, что компания является крупномасштабной, а она на самом деле не является крупномасштабной: $$\\text{Scale}_{i} = 0\\qquad \\widehat{\\text{Scale}}_{i}=1$$\n",
    "*   **FN (false negative)** - спрогнозировали, что компания не является крупномасштабной, а она на самом деле является крупномасштабной: $$\\text{Scale}_{i} = 1\\qquad \\widehat{\\text{Scale}}_{i}=0$$"
   ]
  },
  {
   "cell_type": "code",
   "execution_count": 87,
   "id": "13d5e2a7",
   "metadata": {},
   "outputs": [],
   "source": [
    "# Получим прогнозы на тестовой выборке с помощью моделей с подобранными значениями гиперпараметров\n",
    "\n",
    "knn_pred_ts = knn_best.predict(features_test3)\n",
    "\n",
    "rf_pred_ts = rf_best.predict(features_test3)\n",
    "\n",
    "boosting_pred_ts = boosting_best.predict(features_test3)\n",
    "\n",
    "logreg_pred_ts = logreg_best.predict(features_test3)"
   ]
  },
  {
   "cell_type": "code",
   "execution_count": 88,
   "id": "64e8a95f",
   "metadata": {},
   "outputs": [],
   "source": [
    "from sklearn.metrics import confusion_matrix\n",
    "\n",
    "# Рассмотрим прогнозы различного вида\n",
    "\n",
    "TN_knn, FP_knn, FN_knn, TP_knn = confusion_matrix(target_test3, knn_pred_ts).ravel()\n",
    "\n",
    "TN_rf, FP_rf, FN_rf, TP_rf = confusion_matrix(target_test3, rf_pred_ts).ravel()\n",
    "\n",
    "TN_boosting, FP_boosting, FN_boosting, TP_boosting = confusion_matrix(target_test3, boosting_pred_ts).ravel()\n",
    "\n",
    "TN_logreg, FP_logreg, FN_logreg, TP_logreg = confusion_matrix(target_test3, logreg_pred_ts).ravel()"
   ]
  },
  {
   "cell_type": "code",
   "execution_count": 89,
   "id": "e7da3031",
   "metadata": {},
   "outputs": [
    {
     "data": {
      "text/html": [
       "<div>\n",
       "<style scoped>\n",
       "    .dataframe tbody tr th:only-of-type {\n",
       "        vertical-align: middle;\n",
       "    }\n",
       "\n",
       "    .dataframe tbody tr th {\n",
       "        vertical-align: top;\n",
       "    }\n",
       "\n",
       "    .dataframe thead th {\n",
       "        text-align: right;\n",
       "    }\n",
       "</style>\n",
       "<table border=\"1\" class=\"dataframe\">\n",
       "  <thead>\n",
       "    <tr style=\"text-align: right;\">\n",
       "      <th></th>\n",
       "      <th>knn</th>\n",
       "      <th>rf</th>\n",
       "      <th>boosting</th>\n",
       "      <th>logreg</th>\n",
       "    </tr>\n",
       "  </thead>\n",
       "  <tbody>\n",
       "    <tr>\n",
       "      <th>TN</th>\n",
       "      <td>1756</td>\n",
       "      <td>1760</td>\n",
       "      <td>1797</td>\n",
       "      <td>1796</td>\n",
       "    </tr>\n",
       "    <tr>\n",
       "      <th>FP</th>\n",
       "      <td>67</td>\n",
       "      <td>63</td>\n",
       "      <td>26</td>\n",
       "      <td>27</td>\n",
       "    </tr>\n",
       "    <tr>\n",
       "      <th>FN</th>\n",
       "      <td>148</td>\n",
       "      <td>110</td>\n",
       "      <td>119</td>\n",
       "      <td>145</td>\n",
       "    </tr>\n",
       "    <tr>\n",
       "      <th>TP</th>\n",
       "      <td>29</td>\n",
       "      <td>67</td>\n",
       "      <td>58</td>\n",
       "      <td>32</td>\n",
       "    </tr>\n",
       "  </tbody>\n",
       "</table>\n",
       "</div>"
      ],
      "text/plain": [
       "     knn    rf  boosting  logreg\n",
       "TN  1756  1760      1797    1796\n",
       "FP    67    63        26      27\n",
       "FN   148   110       119     145\n",
       "TP    29    67        58      32"
      ]
     },
     "execution_count": 89,
     "metadata": {},
     "output_type": "execute_result"
    }
   ],
   "source": [
    "pd.DataFrame({\n",
    "    'knn': [TN_knn, FP_knn, FN_knn, TP_knn],\n",
    "    'rf': [TN_rf, FP_rf, FN_rf, TP_rf],\n",
    "    'boosting': [TN_boosting, FP_boosting, FN_boosting, TP_boosting],\n",
    "    'logreg': [TN_logreg, FP_logreg, FN_logreg, TP_logreg]\n",
    "}, index   = ['TN', 'FP', 'FN', 'TP'])"
   ]
  },
  {
   "cell_type": "markdown",
   "id": "380a991d",
   "metadata": {},
   "source": [
    "**Смоделируем ситуацию для цены ошибки предсказания переменной Масштаб**\n",
    "\n",
    "\n",
    "Пусть государство запускает новую программу поддержки малых и средних предприятий. Сама программа заключается в выделении субсидий, но крупные предприятия не могут их получить. Правительству необходимо предсказать масштаб фирмы на основе определенных признаков.\n",
    "\n",
    "Установим предполагаемые цены различных прогнозов для бюджета правительства:\n",
    "\n",
    "*   $p_{TP} = 0 $, так как если правительство правильно определило, что компания крупная, то оно не выделило ей субсидии.\n",
    "*   $p_{TN} = 20 д.е. $,  правительство правильно определило, что компания относится к МПС, выделило ей субсидии получило определенную выгоду в 20 условных денежный единиц(напр. приток инвестиций в экономику)\n",
    "*   $p_{FP} = -25 д.е .$, правительство определило, что компания крупная, хотя она не крупная и не выделило необходимые средства, потеряло 25 у.е.(напр. из-за недовольства инвесторов)\n",
    "*   $p_{FN} = -30 д.е. $, правительство выделило субсидии крупной компании, но не должно было, что привело к напрасной растрате средств\n"
   ]
  },
  {
   "cell_type": "code",
   "execution_count": 90,
   "id": "3c9c4a89",
   "metadata": {},
   "outputs": [],
   "source": [
    "# Цены прогнозов\n",
    "prices = pd.Series([0, 20, -25, -30], index = [\"TP\", \"TN\", \"FP\", \"FN\"])"
   ]
  },
  {
   "cell_type": "code",
   "execution_count": 91,
   "id": "d8b1c062",
   "metadata": {},
   "outputs": [],
   "source": [
    "# Оценим вероятности на обучающей выборке\n",
    "\n",
    "knn_prob_tr = knn_best.predict_proba(features_train3)[:, 1]\n",
    "\n",
    "rf_prob_tr = rf_best.predict_proba(features_train3)[:, 1]\n",
    "\n",
    "boosting_prob_tr = boosting_best.predict_proba(features_train3)[:, 1]\n",
    "\n",
    "logreg_prob_tr = logreg_best.predict_proba(features_train3)[:, 1]"
   ]
  },
  {
   "cell_type": "code",
   "execution_count": 92,
   "id": "4a78a508",
   "metadata": {},
   "outputs": [],
   "source": [
    "# Возможные значения и число порогов\n",
    "\n",
    "thresholds_knn, n_threshold_knn = np.unique(np.sort(knn_prob_tr)), np.unique(np.sort(knn_prob_tr)).size\n",
    "\n",
    "thresholds_rf = np.unique(np.sort(rf_prob_tr))\n",
    "\n",
    "thresholds_boosting = np.unique(np.sort(boosting_prob_tr))\n",
    "\n",
    "thresholds_logreg = np.unique(np.sort(logreg_prob_tr))\n",
    "\n",
    "\n",
    "# Число порогов\n",
    "\n",
    "n_threshold_rf = thresholds_rf.size\n",
    "\n",
    "n_threshold_boosting = thresholds_boosting.size\n",
    "\n",
    "n_threshold_logreg = thresholds_logreg.size\n",
    "\n",
    "\n",
    "# Векторы для сохранения прибылей при различных порогах\n",
    "\n",
    "profits_knn = np.zeros(n_threshold_knn)\n",
    "\n",
    "profits_rf = np.zeros(n_threshold_rf)\n",
    "\n",
    "profits_boosting = np.zeros(n_threshold_boosting)\n",
    "\n",
    "profits_logreg = np.zeros(n_threshold_logreg)\n",
    "\n",
    "# Векторы различных видов прогнозов\n",
    "\n",
    "TP_vec_knn, TN_vec_knn, FP_vec_knn, FN_vec_knn= np.zeros(n_threshold_knn), np.zeros(n_threshold_knn), np.zeros(n_threshold_knn), np.zeros(n_threshold_knn)\n",
    "\n",
    "TP_vec_rf = np.zeros(n_threshold_rf)\n",
    "TN_vec_rf = np.zeros(n_threshold_rf)\n",
    "FP_vec_rf = np.zeros(n_threshold_rf)\n",
    "FN_vec_rf = np.zeros(n_threshold_rf)\n",
    "\n",
    "TP_vec_boosting = np.zeros(n_threshold_boosting)\n",
    "TN_vec_boosting = np.zeros(n_threshold_boosting)\n",
    "FP_vec_boosting = np.zeros(n_threshold_boosting)\n",
    "FN_vec_boosting = np.zeros(n_threshold_boosting)\n",
    "\n",
    "TP_vec_logreg = np.zeros(n_threshold_logreg)\n",
    "TN_vec_logreg = np.zeros(n_threshold_logreg)\n",
    "FP_vec_logreg = np.zeros(n_threshold_logreg)\n",
    "FN_vec_logreg = np.zeros(n_threshold_logreg)"
   ]
  },
  {
   "cell_type": "code",
   "execution_count": 93,
   "id": "f847040e",
   "metadata": {},
   "outputs": [],
   "source": [
    "models = {'knn': [thresholds_knn, n_threshold_knn, profits_knn, TP_vec_knn, TN_vec_knn, FP_vec_knn, FN_vec_knn, knn_prob_tr, knn_prob],\n",
    "          'rf': [thresholds_rf, n_threshold_rf, profits_rf, TP_vec_rf, TN_vec_rf, FP_vec_rf, FN_vec_rf, rf_prob_tr, rf_prob],\n",
    "          'boosting': [thresholds_boosting, n_threshold_boosting, profits_boosting, TP_vec_boosting, TN_vec_boosting, FP_vec_boosting, FN_vec_boosting, boosting_prob_tr, boosting_prob],\n",
    "          'logreg': [thresholds_logreg, n_threshold_logreg, profits_logreg, TP_vec_logreg, TN_vec_logreg, FP_vec_logreg, FN_vec_logreg, logreg_prob_tr, logreg_prob]}\n",
    "\n",
    "\n",
    "for model in models:\n",
    "\n",
    "    # рассчитаем прибыли для различных порогов\n",
    "    for i in range(0, models[model][1]):\n",
    "\n",
    "        # получаем прогнозы (на обучающей выборке) при соответствующем пороге\n",
    "        prediction_model_i = (models[model][7] >= models[model][0][i]).astype(int)\n",
    "\n",
    "        # считаем количество прогнозов различного вида\n",
    "        models[model][3][i], models[model][4][i], models[model][5][i], models[model][6][i] = confusion_matrix(\n",
    "          target_train3, prediction_model_i).ravel()\n",
    "\n",
    "        # аггрегируем результаты прогнозов\n",
    "        predictions_model_i = pd.Series([models[model][3][i], models[model][4][i], models[model][5][i], models[model][6][i]],\n",
    "                                      index = [\"TP\", \"TN\", \"FP\", \"FN\"])\n",
    "        # считаем прибыль\n",
    "        models[model][2][i] = np.sum(prices * predictions_model_i)\n",
    "\n",
    "    # достаем оптимальный порог и его индекс\n",
    "\n",
    "    threshold_model_idx = np.argmax(models[model][2])\n",
    "    threshold_model = models[model][0][threshold_model_idx]\n",
    "\n",
    "\n",
    "    # считаем прибыль на тестовой выборке\n",
    "\n",
    "    prediction_model_ts = (models[model][8] >= models[model][0][threshold_model_idx]).astype(int)\n",
    "\n",
    "    TP_vec_model_ts, FP_vec_model_ts, FN_vec_model_ts, TP_vec_model_ts = confusion_matrix(\n",
    "      target_test3, prediction_model_ts).ravel()\n",
    "\n",
    "    predictions_model_ts = pd.Series([TP_vec_model_ts, FP_vec_model_ts, FN_vec_model_ts, TP_vec_model_ts],\n",
    "                                  index = [\"TP\", \"TN\", \"FP\", \"FN\"])\n",
    "\n",
    "    profit_model_ts = np.sum(prices * predictions_model_ts)\n",
    "\n",
    "    models[model].append(profit_model_ts)"
   ]
  },
  {
   "cell_type": "code",
   "execution_count": 94,
   "id": "300cb264",
   "metadata": {},
   "outputs": [
    {
     "data": {
      "text/html": [
       "<div>\n",
       "<style scoped>\n",
       "    .dataframe tbody tr th:only-of-type {\n",
       "        vertical-align: middle;\n",
       "    }\n",
       "\n",
       "    .dataframe tbody tr th {\n",
       "        vertical-align: top;\n",
       "    }\n",
       "\n",
       "    .dataframe thead th {\n",
       "        text-align: right;\n",
       "    }\n",
       "</style>\n",
       "<table border=\"1\" class=\"dataframe\">\n",
       "  <thead>\n",
       "    <tr style=\"text-align: right;\">\n",
       "      <th></th>\n",
       "      <th>AUC</th>\n",
       "      <th>Profits on test</th>\n",
       "    </tr>\n",
       "  </thead>\n",
       "  <tbody>\n",
       "    <tr>\n",
       "      <th>knn</th>\n",
       "      <td>0.700701</td>\n",
       "      <td>31150</td>\n",
       "    </tr>\n",
       "    <tr>\n",
       "      <th>rf</th>\n",
       "      <td>0.922271</td>\n",
       "      <td>31150</td>\n",
       "    </tr>\n",
       "    <tr>\n",
       "      <th>boosting</th>\n",
       "      <td>0.938392</td>\n",
       "      <td>31150</td>\n",
       "    </tr>\n",
       "    <tr>\n",
       "      <th>logreg</th>\n",
       "      <td>0.939398</td>\n",
       "      <td>31150</td>\n",
       "    </tr>\n",
       "  </tbody>\n",
       "</table>\n",
       "</div>"
      ],
      "text/plain": [
       "               AUC  Profits on test\n",
       "knn       0.700701            31150\n",
       "rf        0.922271            31150\n",
       "boosting  0.938392            31150\n",
       "logreg    0.939398            31150"
      ]
     },
     "execution_count": 94,
     "metadata": {},
     "output_type": "execute_result"
    }
   ],
   "source": [
    "# выводим AUC и прибыли на тестовой выборке при оптимальном пороге\n",
    "\n",
    "pd.DataFrame({\n",
    "    'AUC': [knn_AUC, rf_AUC, boosting_AUC, logreg_AUC],\n",
    "    'Profits on test': [models['knn'][9], models['rf'][9], models['boosting'][9], models['logreg'][9]]\n",
    "}, index   = ['knn', 'rf', 'boosting', 'logreg'])"
   ]
  },
  {
   "cell_type": "markdown",
   "id": "e5a70403",
   "metadata": {},
   "source": [
    "Мы можем наблюдать неодинаковое соотншение метрик AUC и Profits по методам, а именно - прибыли одинаковы по всем методам, а AUC в методе ближайших соседей значительно меньше остальных "
   ]
  },
  {
   "cell_type": "markdown",
   "id": "47902642",
   "metadata": {},
   "source": [
    "7. Опишите предполагаемые связи между переменными в форме ориентированного ациклического графа (DAG). Обучите структуру Байесовской сети на обучающей выборке и сравните точность прогнозов вашего и обученного DAG на\n",
    "тестовой выборке.\n"
   ]
  },
  {
   "cell_type": "code",
   "execution_count": 179,
   "id": "351add20",
   "metadata": {},
   "outputs": [],
   "source": [
    "# ! pip install bnlearn"
   ]
  },
  {
   "cell_type": "code",
   "execution_count": 95,
   "id": "3fede626",
   "metadata": {},
   "outputs": [
    {
     "data": {
      "image/png": "[encoded data removed]",
      "text/plain": [
       "<Figure size 432x288 with 1 Axes>"
      ]
     },
     "metadata": {},
     "output_type": "display_data"
    }
   ],
   "source": [
    "import bnlearn\n",
    "\n",
    "# Визуализируем предполагаемые связи\n",
    "\n",
    "# Стиль отображения графика\n",
    "nx_options = {\n",
    "    'node_color': 'white',\n",
    "    'node_size': 240,\n",
    "    'width': 2,\n",
    "    'arrowstyle': '-|>',\n",
    "    'arrowsize': 6,\n",
    "}\n",
    "\n",
    "# Связи\n",
    "edges = [\n",
    "    ('participation', 'scale'),         # (откуда стрелочка, куда стрелочка)\n",
    "    ('age', 'scale'),\n",
    "    ('worker', 'scale')\n",
    "\n",
    "]\n",
    "\n",
    "# Инициализируем граф\n",
    "G = nx.DiGraph(directed = True)\n",
    "G.add_edges_from(edges)\n",
    "\n",
    "\n",
    "# Отображаем граф\n",
    "np.random.seed(8)\n",
    "nx.draw_networkx(G, arrows = True, **nx_options)"
   ]
  },
  {
   "cell_type": "code",
   "execution_count": 96,
   "id": "96aa304c",
   "metadata": {},
   "outputs": [
    {
     "name": "stdout",
     "output_type": "stream",
     "text": [
      "Requirement already satisfied: pyAgrum in ./.local/lib/python3.8/site-packages (1.13.2)\n",
      "Requirement already satisfied: matplotlib in ./.local/lib/python3.8/site-packages (from pyAgrum) (3.7.5)\n",
      "Requirement already satisfied: pydot in ./.local/lib/python3.8/site-packages (from pyAgrum) (4.0.0)\n",
      "Requirement already satisfied: numpy in ./.local/lib/python3.8/site-packages (from pyAgrum) (1.24.4)\n",
      "Requirement already satisfied: pillow>=6.2.0 in ./.local/lib/python3.8/site-packages (from matplotlib->pyAgrum) (10.4.0)\n",
      "Requirement already satisfied: contourpy>=1.0.1 in ./.local/lib/python3.8/site-packages (from matplotlib->pyAgrum) (1.1.1)\n",
      "Requirement already satisfied: python-dateutil>=2.7 in /usr/local/lib/python3.8/dist-packages (from matplotlib->pyAgrum) (2.8.2)\n",
      "Requirement already satisfied: importlib-resources>=3.2.0; python_version < \"3.10\" in /usr/local/lib/python3.8/dist-packages (from matplotlib->pyAgrum) (5.7.1)\n",
      "Requirement already satisfied: fonttools>=4.22.0 in ./.local/lib/python3.8/site-packages (from matplotlib->pyAgrum) (4.54.1)\n",
      "Requirement already satisfied: pyparsing>=2.3.1 in /usr/local/lib/python3.8/dist-packages (from matplotlib->pyAgrum) (3.0.9)\n",
      "Requirement already satisfied: cycler>=0.10 in ./.local/lib/python3.8/site-packages (from matplotlib->pyAgrum) (0.12.1)\n",
      "Requirement already satisfied: packaging>=20.0 in /usr/local/lib/python3.8/dist-packages (from matplotlib->pyAgrum) (21.3)\n",
      "Requirement already satisfied: kiwisolver>=1.0.1 in ./.local/lib/python3.8/site-packages (from matplotlib->pyAgrum) (1.4.7)\n",
      "Requirement already satisfied: six>=1.5 in /usr/local/lib/python3.8/dist-packages (from python-dateutil>=2.7->matplotlib->pyAgrum) (1.16.0)\n",
      "Requirement already satisfied: zipp>=3.1.0; python_version < \"3.10\" in /usr/local/lib/python3.8/dist-packages (from importlib-resources>=3.2.0; python_version < \"3.10\"->matplotlib->pyAgrum) (3.8.0)\n"
     ]
    }
   ],
   "source": [
    "!pip install pyAgrum"
   ]
  },
  {
   "cell_type": "code",
   "execution_count": 97,
   "id": "d5a21e60",
   "metadata": {},
   "outputs": [
    {
     "name": "stdout",
     "output_type": "stream",
     "text": [
      "Точность на обучающей выборке: 0.879875\n",
      "Точность на тестовой выборке: 0.8845\n"
     ]
    }
   ],
   "source": [
    "from pyAgrum.skbn import BNClassifier\n",
    "#Создание и обучение модели Байесовской сети\n",
    "model = BNClassifier()\n",
    "model.fit(X=features_train3,y=target_train3)\n",
    "\n",
    "print(\"Точность на обучающей выборке:\",model.score(features_train3, target_train3))\n",
    "\n",
    "print(\"Точность на тестовой выборке:\",model.score(features_test3,target_test3))\n"
   ]
  },
  {
   "cell_type": "markdown",
   "id": "5d8920ac",
   "metadata": {},
   "source": [
    "Видим, что точность ниже, чем при испоьлзованных ранее методах"
   ]
  },
  {
   "cell_type": "markdown",
   "id": "c33e35c9",
   "metadata": {},
   "source": [
    "8. На основании проделанного анализа выберите лучший и худший из обученных классификаторов. Обоснуйте сделанный выбор.\n",
    "\n",
    "\n",
    "Примечание: необхоидмо самостоятельно сформулировать разумный критерий, в соответствии с которым будут определяться лучшая и худшая модели."
   ]
  },
  {
   "cell_type": "markdown",
   "id": "a7cb9ed5",
   "metadata": {},
   "source": [
    "Точность прогноза после обучения совсем незначительно, но улучшилась. Однако точность превышает точность,\n",
    "показанную другими классификаторами, а значит можно считать эту модель лучшей"
   ]
  },
  {
   "cell_type": "code",
   "execution_count": 98,
   "id": "2c43d2f5",
   "metadata": {},
   "outputs": [],
   "source": [
    "best_classifier = boosting_best\n",
    "worst_classifier = knn_class"
   ]
  },
  {
   "cell_type": "markdown",
   "id": "52e102da",
   "metadata": {},
   "source": [
    "По результатам проведённого анализа в качестве наилучшего классификатора был выбран метод градиентного бустинга с гиперпараметрами, оптимизированными по метрике ACC. Наихудшие результаты показал метод K ближайших соседей до подбора гиперпараметров. Различные методы оценки продемонстрировали, что бустинг обеспечивает наивысшее качество практически во всех сценариях, тогда как KNN — наименьшее."
   ]
  },
  {
   "cell_type": "markdown",
   "id": "2da50921",
   "metadata": {},
   "source": [
    "***4. РЕГРЕССИЯ***"
   ]
  },
  {
   "cell_type": "markdown",
   "id": "79c5ac46",
   "metadata": {},
   "source": [
    "**1.\tОтберите признаки, которые могут быть полезны при прогнозировании целевой (зависимой) переменной. Не включайте в число этих признаков переменную воздействия.**"
   ]
  },
  {
   "cell_type": "code",
   "execution_count": 99,
   "id": "014e09f8",
   "metadata": {},
   "outputs": [],
   "source": [
    "# Перед началом работы импортируем необходимые пакеты\n",
    "import numpy as np\n",
    "import sklearn\n",
    "from sklearn.ensemble import RandomForestRegressor, GradientBoostingRegressor\n",
    "from sklearn.neighbors import KNeighborsRegressor\n",
    "from sklearn.metrics import mean_squared_error, mean_absolute_percentage_error\n",
    "from sklearn.model_selection import cross_val_score, train_test_split\n",
    "from sklearn.model_selection import train_test_split\n",
    "from sklearn.preprocessing import StandardScaler"
   ]
  },
  {
   "cell_type": "markdown",
   "id": "6c0309b5",
   "metadata": {},
   "source": [
    "Для отбора признаков, которые могут быть полезны в нашем исследовании для прогнозирования зависимой переменной («import», объемы импорта компании) мы обратимся к корреляционной матрице переменных, составленной нами ранее, но исключим из нее переменную воздействия («Scale», масштаб бизнеса): "
   ]
  },
  {
   "cell_type": "code",
   "execution_count": 100,
   "id": "daac8e2d",
   "metadata": {},
   "outputs": [
    {
     "data": {
      "text/html": [
       "<div>\n",
       "<style scoped>\n",
       "    .dataframe tbody tr th:only-of-type {\n",
       "        vertical-align: middle;\n",
       "    }\n",
       "\n",
       "    .dataframe tbody tr th {\n",
       "        vertical-align: top;\n",
       "    }\n",
       "\n",
       "    .dataframe thead th {\n",
       "        text-align: right;\n",
       "    }\n",
       "</style>\n",
       "<table border=\"1\" class=\"dataframe\">\n",
       "  <thead>\n",
       "    <tr style=\"text-align: right;\">\n",
       "      <th></th>\n",
       "      <th>import</th>\n",
       "      <th>age</th>\n",
       "      <th>worker</th>\n",
       "      <th>participation</th>\n",
       "    </tr>\n",
       "  </thead>\n",
       "  <tbody>\n",
       "    <tr>\n",
       "      <th>import</th>\n",
       "      <td>1.000000</td>\n",
       "      <td>0.152889</td>\n",
       "      <td>0.373163</td>\n",
       "      <td>0.286080</td>\n",
       "    </tr>\n",
       "    <tr>\n",
       "      <th>age</th>\n",
       "      <td>0.152889</td>\n",
       "      <td>1.000000</td>\n",
       "      <td>-0.002276</td>\n",
       "      <td>-0.421725</td>\n",
       "    </tr>\n",
       "    <tr>\n",
       "      <th>worker</th>\n",
       "      <td>0.373163</td>\n",
       "      <td>-0.002276</td>\n",
       "      <td>1.000000</td>\n",
       "      <td>0.062036</td>\n",
       "    </tr>\n",
       "    <tr>\n",
       "      <th>participation</th>\n",
       "      <td>0.286080</td>\n",
       "      <td>-0.421725</td>\n",
       "      <td>0.062036</td>\n",
       "      <td>1.000000</td>\n",
       "    </tr>\n",
       "  </tbody>\n",
       "</table>\n",
       "</div>"
      ],
      "text/plain": [
       "                 import       age    worker  participation\n",
       "import         1.000000  0.152889  0.373163       0.286080\n",
       "age            0.152889  1.000000 -0.002276      -0.421725\n",
       "worker         0.373163 -0.002276  1.000000       0.062036\n",
       "participation  0.286080 -0.421725  0.062036       1.000000"
      ]
     },
     "execution_count": 100,
     "metadata": {},
     "output_type": "execute_result"
    }
   ],
   "source": [
    "dff = df.loc[:, [\"import\", \"age\", \"worker\", \"participation\"]]\n",
    "dff.corr()"
   ]
  },
  {
   "cell_type": "markdown",
   "id": "cade69f3",
   "metadata": {},
   "source": [
    "Заметим, что переменная «worker» имеет умеренную положительную корреляцию с целевой переменной «import» (0.3731), что делает ее потенциально полезной для прогнозирования. Переменная «participation» также имеет умеренную положительную корреляцию с «import» (0.2866), аналогично переменной «age». Таким образом, основные признаки для прогноза: «worker», «participation» и «age», а переменную «industry» мы исключаем из прогноза в силу ее низкой корреляции с зависимой переменной (0.059). Далее рассмотрим влияние переменных возраста компании, числа сотрудников и факта участия в гос. программе на объемы импорта компании."
   ]
  },
  {
   "cell_type": "markdown",
   "id": "6e747a77",
   "metadata": {},
   "source": [
    "Создадим новые выборки для анализа, которые будут включать переменные: import (таргетная переменная), age, worker, participation (переменные-регрессоры)"
   ]
  },
  {
   "cell_type": "code",
   "execution_count": 101,
   "id": "73b44baf",
   "metadata": {},
   "outputs": [
    {
     "name": "stdout",
     "output_type": "stream",
     "text": [
      "8000 2000\n",
      "8000 2000\n"
     ]
    }
   ],
   "source": [
    "# Разделим целевую переменную и признаки\n",
    "target1   = df.loc[:, [\"import\"]]            # целевая переменная\n",
    "features1 = df.loc[:, [\"age\", \"worker\", \"participation\"]]    # матрица признаков\n",
    "target1   = np.squeeze(target1)                # преобразуем из вектора столбца\n",
    "                                             # в одномерный массив\n",
    "# Разделим выборку на обучающую и тестовую\n",
    "# с помощью автоматической функции\n",
    "features_train1, features_test1, target_train1, target_test1 = train_test_split(\n",
    "    features1, target1, test_size = 0.2, random_state = 777)\n",
    "\n",
    "# Убедимся, что обучающая и тестовая выборки имеют верные пропорции\n",
    "print(features_train1.index.size, features_test1.index.size) # признаки\n",
    "print(target_train1.index.size, target_test1.index.size)     # целевая переменная\n",
    "\n",
    "regressors_train = features_train1\n",
    "regressors_test = features_test1"
   ]
  },
  {
   "cell_type": "code",
   "execution_count": 102,
   "id": "e876d5d2",
   "metadata": {},
   "outputs": [],
   "source": [
    "# Сохраним данные до нормализации\n",
    "regressors_train_initial = regressors_train.copy()\n",
    "regressors_test_initial  = regressors_test.copy()\n",
    "\n",
    "# Подготовим объект, осуществляющий нормализацию\n",
    "scaler = sklearn.preprocessing.StandardScaler().set_output(transform = \"pandas\").fit(regressors_train)\n",
    "\n",
    "# Нормализуем данные\n",
    "regressors_train = scaler.transform(regressors_train_initial)  # обучающая выборка\n",
    "regressors_test  = scaler.transform(regressors_test_initial)   # тестовая выборка"
   ]
  },
  {
   "cell_type": "code",
   "execution_count": 103,
   "id": "4c9d727e",
   "metadata": {},
   "outputs": [
    {
     "data": {
      "text/html": [
       "<div>\n",
       "<style scoped>\n",
       "    .dataframe tbody tr th:only-of-type {\n",
       "        vertical-align: middle;\n",
       "    }\n",
       "\n",
       "    .dataframe tbody tr th {\n",
       "        vertical-align: top;\n",
       "    }\n",
       "\n",
       "    .dataframe thead th {\n",
       "        text-align: right;\n",
       "    }\n",
       "</style>\n",
       "<table border=\"1\" class=\"dataframe\">\n",
       "  <thead>\n",
       "    <tr style=\"text-align: right;\">\n",
       "      <th></th>\n",
       "      <th>age</th>\n",
       "      <th>worker</th>\n",
       "      <th>participation</th>\n",
       "    </tr>\n",
       "  </thead>\n",
       "  <tbody>\n",
       "    <tr>\n",
       "      <th>8490</th>\n",
       "      <td>-0.635262</td>\n",
       "      <td>-0.191994</td>\n",
       "      <td>-0.643372</td>\n",
       "    </tr>\n",
       "    <tr>\n",
       "      <th>9788</th>\n",
       "      <td>-0.051623</td>\n",
       "      <td>-0.153892</td>\n",
       "      <td>1.554311</td>\n",
       "    </tr>\n",
       "    <tr>\n",
       "      <th>5967</th>\n",
       "      <td>-0.751990</td>\n",
       "      <td>0.580616</td>\n",
       "      <td>1.554311</td>\n",
       "    </tr>\n",
       "    <tr>\n",
       "      <th>7519</th>\n",
       "      <td>1.115655</td>\n",
       "      <td>-0.211044</td>\n",
       "      <td>-0.643372</td>\n",
       "    </tr>\n",
       "    <tr>\n",
       "      <th>8614</th>\n",
       "      <td>-1.102173</td>\n",
       "      <td>-0.215278</td>\n",
       "      <td>1.554311</td>\n",
       "    </tr>\n",
       "  </tbody>\n",
       "</table>\n",
       "</div>"
      ],
      "text/plain": [
       "           age    worker  participation\n",
       "8490 -0.635262 -0.191994      -0.643372\n",
       "9788 -0.051623 -0.153892       1.554311\n",
       "5967 -0.751990  0.580616       1.554311\n",
       "7519  1.115655 -0.211044      -0.643372\n",
       "8614 -1.102173 -0.215278       1.554311"
      ]
     },
     "execution_count": 103,
     "metadata": {},
     "output_type": "execute_result"
    }
   ],
   "source": [
    "regressors_train.head(5)"
   ]
  },
  {
   "cell_type": "markdown",
   "id": "dffe6baa",
   "metadata": {},
   "source": [
    "**2. Выберите произвольные значения гиперпараметров, а затем оцените и сравните (между методами) точность прогнозов с помощью RMSE и MAPE:**\n",
    "\n",
    "* на обучающей выборке.\n",
    "* на тестовой выборке.\n",
    "* с помощью кросс-валидации (используйте только обучающую выборку)."
   ]
  },
  {
   "cell_type": "code",
   "execution_count": 104,
   "id": "a558c037",
   "metadata": {},
   "outputs": [
    {
     "name": "stdout",
     "output_type": "stream",
     "text": [
      "                       RMSE          MAPE\n",
      "Обучающая выборка  0.206023  1.850698e+14\n",
      "Тестовая выборка   0.253229  2.550163e+14\n"
     ]
    }
   ],
   "source": [
    "# Метод ближайших соседей\n",
    "knn = KNeighborsRegressor(n_neighbors = 4,      # число соседей\n",
    "                          metric = \"minkowski\", # метрика расстояния\n",
    "                          p = 2)                # Евклидова метрика\n",
    "knn.fit(regressors_train, target_train)\n",
    "\n",
    "y_pred_train = knn.predict(regressors_train)\n",
    "y_pred_test = knn.predict(regressors_test)\n",
    "\n",
    "RMSE_knn_train = np.sqrt(mean_squared_error(target_train, y_pred_train))\n",
    "RMSE_knn_test = np.sqrt(mean_squared_error(target_test, y_pred_test))\n",
    "RMSE_knn_cross_val = np.mean(np.sqrt(-1 * cross_val_score(knn, regressors_train, target_train, cv=4, scoring='neg_mean_squared_error')))\n",
    "MAPE_knn_train = mean_absolute_percentage_error(target_train, y_pred_train)\n",
    "MAPE_knn_test = mean_absolute_percentage_error(target_test, y_pred_test)\n",
    "MAPE_knn_cross_val = -1 * np.mean(cross_val_score(knn, regressors_train, target_train, cv=4, scoring='neg_mean_absolute_percentage_error'))\n",
    "\n",
    "\n",
    "# Посмотрим на результат\n",
    "results = pd.DataFrame(data    = {'RMSE': [RMSE_knn_train, RMSE_knn_test], 'MAPE': [MAPE_knn_train, MAPE_knn_test],},\n",
    "                        index   = ['Обучающая выборка', 'Тестовая выборка'],\n",
    "                        columns = ['RMSE', 'MAPE'])\n",
    "\n",
    "print(results)"
   ]
  },
  {
   "cell_type": "code",
   "execution_count": 105,
   "id": "49a1a04b",
   "metadata": {},
   "outputs": [
    {
     "name": "stdout",
     "output_type": "stream",
     "text": [
      "                       RMSE          MAPE\n",
      "Обучающая выборка  0.154828  1.331445e+14\n",
      "Тестовая выборка   0.258944  2.623212e+14\n"
     ]
    }
   ],
   "source": [
    "# Метод случайного леса\n",
    "rf = RandomForestRegressor(n_estimators=100, random_state=42)\n",
    "\n",
    "rf.fit(regressors_train, target_train)\n",
    "\n",
    "y_pred_train = rf.predict(regressors_train)\n",
    "y_pred_test = rf.predict(regressors_test)\n",
    "\n",
    "RMSE_rf_train = np.sqrt(mean_squared_error(target_train, y_pred_train))\n",
    "RMSE_rf_test = np.sqrt(mean_squared_error(target_test, y_pred_test))\n",
    "RMSE_rf_cross_val = np.mean(np.sqrt(-1 *cross_val_score(rf, regressors_train, target_train, cv=5, scoring='neg_mean_squared_error')))\n",
    "MAPE_rf_train = mean_absolute_percentage_error(target_train, y_pred_train)\n",
    "MAPE_rf_test = mean_absolute_percentage_error(target_test, y_pred_test)\n",
    "MAPE_rf_cross_val = -1 * np.mean(cross_val_score(rf, regressors_train, target_train, cv=5, scoring='neg_mean_absolute_percentage_error'))\n",
    "\n",
    "# Посмотрим на результат\n",
    "results = pd.DataFrame(data    = {'RMSE': [RMSE_rf_train, RMSE_rf_test], 'MAPE': [MAPE_rf_train, MAPE_rf_test],},\n",
    "                        index   = ['Обучающая выборка', 'Тестовая выборка'],\n",
    "                        columns = ['RMSE', 'MAPE'])\n",
    "\n",
    "print(results)"
   ]
  },
  {
   "cell_type": "code",
   "execution_count": 106,
   "id": "00b42dff",
   "metadata": {},
   "outputs": [
    {
     "name": "stdout",
     "output_type": "stream",
     "text": [
      "                       RMSE          MAPE\n",
      "Обучающая выборка  0.226683  2.405065e+14\n",
      "Тестовая выборка   0.226328  2.480290e+14\n"
     ]
    }
   ],
   "source": [
    "# Градиентный бустинг\n",
    "gb = GradientBoostingRegressor(n_estimators=50, random_state=3)\n",
    "\n",
    "gb.fit(regressors_train, target_train)\n",
    "\n",
    "y_pred_train = gb.predict(regressors_train)\n",
    "y_pred_test = gb.predict(regressors_test)\n",
    "\n",
    "RMSE_gb_train = np.sqrt(mean_squared_error(target_train, y_pred_train))\n",
    "RMSE_gb_test = np.sqrt(mean_squared_error(target_test, y_pred_test))\n",
    "RMSE_gb_cross_val = np.mean(np.sqrt(-1 * cross_val_score(gb, regressors_train, target_train, cv=4, scoring='neg_mean_squared_error')))\n",
    "MAPE_gb_train = mean_absolute_percentage_error(target_train, y_pred_train)\n",
    "MAPE_gb_test = mean_absolute_percentage_error(target_test, y_pred_test)\n",
    "MAPE_gb_cross_val = -1 * np.mean(cross_val_score(rf, regressors_train, target_train, cv=4, scoring='neg_mean_absolute_percentage_error'))\n",
    "\n",
    "# Посмотрим на результат\n",
    "results = pd.DataFrame(data    = {'RMSE': [RMSE_gb_train, RMSE_gb_test], 'MAPE': [MAPE_gb_train, MAPE_gb_test],},\n",
    "                        index   = ['Обучающая выборка', 'Тестовая выборка'],\n",
    "                        columns = ['RMSE', 'MAPE'])\n",
    "\n",
    "print(results)"
   ]
  },
  {
   "cell_type": "code",
   "execution_count": 107,
   "id": "146e7eee",
   "metadata": {},
   "outputs": [],
   "source": [
    "pd.set_option('display.float_format', '{:.2f}'.format)"
   ]
  },
  {
   "cell_type": "code",
   "execution_count": 108,
   "id": "56bbd2fe",
   "metadata": {},
   "outputs": [
    {
     "data": {
      "text/html": [
       "<div>\n",
       "<style scoped>\n",
       "    .dataframe tbody tr th:only-of-type {\n",
       "        vertical-align: middle;\n",
       "    }\n",
       "\n",
       "    .dataframe tbody tr th {\n",
       "        vertical-align: top;\n",
       "    }\n",
       "\n",
       "    .dataframe thead th {\n",
       "        text-align: right;\n",
       "    }\n",
       "</style>\n",
       "<table border=\"1\" class=\"dataframe\">\n",
       "  <thead>\n",
       "    <tr style=\"text-align: right;\">\n",
       "      <th></th>\n",
       "      <th>Модель</th>\n",
       "      <th>MAPE Обучающая выборка</th>\n",
       "      <th>RMSE Обучающая выборка</th>\n",
       "      <th>MAPE Тестовая выборка</th>\n",
       "      <th>RMSE Тестовая выборка</th>\n",
       "      <th>MAPE Кросс-валидация</th>\n",
       "      <th>RMSE Кросс-валидация</th>\n",
       "    </tr>\n",
       "  </thead>\n",
       "  <tbody>\n",
       "    <tr>\n",
       "      <th>0</th>\n",
       "      <td>Метод ближайших соседей</td>\n",
       "      <td>185069797187256.38</td>\n",
       "      <td>0.21</td>\n",
       "      <td>255016328899854.38</td>\n",
       "      <td>0.25</td>\n",
       "      <td>241083317552676.94</td>\n",
       "      <td>0.26</td>\n",
       "    </tr>\n",
       "    <tr>\n",
       "      <th>1</th>\n",
       "      <td>Случайный лес</td>\n",
       "      <td>133144450889363.55</td>\n",
       "      <td>0.15</td>\n",
       "      <td>262321235161017.41</td>\n",
       "      <td>0.26</td>\n",
       "      <td>243988998410857.75</td>\n",
       "      <td>0.27</td>\n",
       "    </tr>\n",
       "    <tr>\n",
       "      <th>2</th>\n",
       "      <td>Градиентный бустинг</td>\n",
       "      <td>240506458165856.59</td>\n",
       "      <td>0.23</td>\n",
       "      <td>248028992572938.28</td>\n",
       "      <td>0.23</td>\n",
       "      <td>241564395138742.97</td>\n",
       "      <td>0.23</td>\n",
       "    </tr>\n",
       "  </tbody>\n",
       "</table>\n",
       "</div>"
      ],
      "text/plain": [
       "                    Модель  MAPE Обучающая выборка  RMSE Обучающая выборка  \\\n",
       "0  Метод ближайших соседей      185069797187256.38                    0.21   \n",
       "1            Случайный лес      133144450889363.55                    0.15   \n",
       "2      Градиентный бустинг      240506458165856.59                    0.23   \n",
       "\n",
       "   MAPE Тестовая выборка  RMSE Тестовая выборка  MAPE Кросс-валидация  \\\n",
       "0     255016328899854.38                   0.25    241083317552676.94   \n",
       "1     262321235161017.41                   0.26    243988998410857.75   \n",
       "2     248028992572938.28                   0.23    241564395138742.97   \n",
       "\n",
       "   RMSE Кросс-валидация  \n",
       "0                  0.26  \n",
       "1                  0.27  \n",
       "2                  0.23  "
      ]
     },
     "execution_count": 108,
     "metadata": {},
     "output_type": "execute_result"
    }
   ],
   "source": [
    "# Посмотрим на сводный результат\n",
    "data = {\n",
    "    'Модель': ['Метод ближайших соседей', 'Случайный лес', 'Градиентный бустинг'],\n",
    "    'MAPE Обучающая выборка': [MAPE_knn_train, MAPE_rf_train, MAPE_gb_train],\n",
    "    'RMSE Обучающая выборка': [RMSE_knn_train, RMSE_rf_train, RMSE_gb_train],\n",
    "    'MAPE Тестовая выборка': [MAPE_knn_test, MAPE_rf_test, MAPE_gb_test],\n",
    "    'RMSE Тестовая выборка': [RMSE_knn_test, RMSE_rf_test, RMSE_gb_test],\n",
    "    'MAPE Кросс-валидация': [MAPE_knn_cross_val, MAPE_rf_cross_val, MAPE_gb_cross_val],\n",
    "    'RMSE Кросс-валидация': [RMSE_knn_cross_val, RMSE_rf_cross_val, RMSE_gb_cross_val]\n",
    "}\n",
    "\n",
    "\n",
    "comparison_df = pd.DataFrame(data)\n",
    "comparison_df"
   ]
  },
  {
   "cell_type": "markdown",
   "id": "1baa3a37",
   "metadata": {},
   "source": [
    "**Выводы:** Предпочтительная модель на основе RMSE - это случайный лес, он показывает наилучшие результаты на обучающей выборке, но градиентный бустинг демонстрирует лучшее обобщение на тестовой выборке и кросс-валидации."
   ]
  },
  {
   "cell_type": "markdown",
   "id": "47eb200b",
   "metadata": {},
   "source": [
    "**3. Для каждого метода с помощью кросс-валидации на обучающей выборке подберите оптимальные значения гиперпараметров (тюнинг). В качестве критерия качества используйте RMSE. Результат представьте в форме таблицы, в которой для каждого метода должны быть указаны:**\n",
    "\n",
    "\n",
    "* изначальные и подобранные значения гиперпараметров.\n",
    "* кросс-валидационное значение RMSE на обучающей выборке с исходными и подобранными значениями гиперпараметров.\n",
    "* значение RMSE на тестовой выборке с исходными и подобранными значениями гиперпараметров."
   ]
  },
  {
   "cell_type": "markdown",
   "id": "4b072827",
   "metadata": {},
   "source": [
    "**Повышенная сложность:** подберите на обучающей выборке оптимальные значения гиперпараметров градиентного бустинга ориентируясь на значение OOB (out-of-bag) ошибки. Сопоставьте гиперпараметры и точность на тестовой выборке для градиентного бустинга в зависимости от того, используется кросс-валидация или OOB ошибка."
   ]
  },
  {
   "cell_type": "code",
   "execution_count": 109,
   "id": "a14d200d",
   "metadata": {},
   "outputs": [
    {
     "name": "stdout",
     "output_type": "stream",
     "text": [
      "Fitting 5 folds for each of 10 candidates, totalling 50 fits\n",
      "Лучшие параметры метода Ближнего соседа: {'n_neighbors': 28}\n",
      "Fitting 3 folds for each of 18 candidates, totalling 54 fits\n",
      "Лучшие параметры метода Случайного леса: {'max_depth': 10, 'min_samples_split': 10, 'n_estimators': 200}\n",
      "Fitting 5 folds for each of 8 candidates, totalling 40 fits\n",
      "Лучшие параметры метода Градиентного бустинга: {'learning_rate': 0.01, 'max_depth': 3, 'n_estimators': 200}\n"
     ]
    }
   ],
   "source": [
    "\n",
    "# Сначала импортируем необходимые пакеты\n",
    "from sklearn.ensemble import RandomForestRegressor\n",
    "from sklearn.model_selection import GridSearchCV\n",
    "\n",
    "\n",
    "# Тюнинг гиперпараметров Ближайших Соседей\n",
    "param_grid = {\n",
    "    'n_neighbors': range(1, 31, 3),\n",
    "    # 'weights': ['uniform', 'distance'],\n",
    "    # 'algorithm': ['auto', 'ball_tree', 'kd_tree', 'brute']\n",
    "}\n",
    "grid_search_knn = GridSearchCV(KNeighborsRegressor(), param_grid, cv=5, scoring='neg_mean_squared_error', verbose=1)\n",
    "grid_search_knn.fit(regressors_train, target_train)\n",
    "print(\"Лучшие параметры метода Ближнего соседа:\", grid_search_knn.best_params_)\n",
    "\n",
    "# Тюнинг гиперпараметров для метода Случайного Леса\n",
    "param_grid = {\n",
    "    'n_estimators': [10, 100, 200],\n",
    "    'max_depth': [None, 10, 30],\n",
    "    'min_samples_split': [2, 10]\n",
    "}\n",
    "grid_search_rf = GridSearchCV(RandomForestRegressor(), param_grid, cv=3, scoring='neg_mean_squared_error', verbose=1)\n",
    "grid_search_rf.fit(regressors_train, target_train)\n",
    "# Вывод лучших параметров\n",
    "print(\"Лучшие параметры метода Случайного леса:\", grid_search_rf.best_params_)\n",
    "\n",
    "\n",
    "\n",
    "# Тюнинг гиперпараметров Градиентного бустинга\n",
    "param_grid = {\n",
    "    'n_estimators': [100, 200],\n",
    "    'max_depth': [3, 5],\n",
    "    'learning_rate': [0.01, 0.1]\n",
    "}\n",
    "grid_search_gb = GridSearchCV(GradientBoostingRegressor(random_state=42), param_grid, cv=5, scoring='neg_mean_squared_error', verbose=1)\n",
    "grid_search_gb.fit(regressors_train, target_train)\n",
    "\n",
    "# Выводим лучшие параметры для проверки\n",
    "print(\"Лучшие параметры метода Градиентного бустинга:\", grid_search_gb.best_params_)"
   ]
  },
  {
   "cell_type": "code",
   "execution_count": 110,
   "id": "c9cdfe8f",
   "metadata": {},
   "outputs": [
    {
     "data": {
      "text/html": [
       "<div>\n",
       "<style scoped>\n",
       "    .dataframe tbody tr th:only-of-type {\n",
       "        vertical-align: middle;\n",
       "    }\n",
       "\n",
       "    .dataframe tbody tr th {\n",
       "        vertical-align: top;\n",
       "    }\n",
       "\n",
       "    .dataframe thead th {\n",
       "        text-align: right;\n",
       "    }\n",
       "</style>\n",
       "<table border=\"1\" class=\"dataframe\">\n",
       "  <thead>\n",
       "    <tr style=\"text-align: right;\">\n",
       "      <th></th>\n",
       "      <th>Метод</th>\n",
       "      <th>Изначальные параметры</th>\n",
       "      <th>Лучшие параметры</th>\n",
       "      <th>RMSE кросс-вал начало</th>\n",
       "      <th>RMSE кросс-вал лучший</th>\n",
       "      <th>RMSE тест начало</th>\n",
       "      <th>RMSE тест лучший</th>\n",
       "    </tr>\n",
       "  </thead>\n",
       "  <tbody>\n",
       "    <tr>\n",
       "      <th>0</th>\n",
       "      <td>Метод ближайших соседей</td>\n",
       "      <td>{'algorithm': 'auto', 'leaf_size': 30, 'metric...</td>\n",
       "      <td>{'n_neighbors': 28}</td>\n",
       "      <td>0.26</td>\n",
       "      <td>0.24</td>\n",
       "      <td>0.25</td>\n",
       "      <td>0.23</td>\n",
       "    </tr>\n",
       "    <tr>\n",
       "      <th>1</th>\n",
       "      <td>Случайный лес</td>\n",
       "      <td>{'bootstrap': True, 'ccp_alpha': 0.0, 'criteri...</td>\n",
       "      <td>{'max_depth': 10, 'min_samples_split': 10, 'n_...</td>\n",
       "      <td>0.27</td>\n",
       "      <td>0.24</td>\n",
       "      <td>0.26</td>\n",
       "      <td>0.24</td>\n",
       "    </tr>\n",
       "    <tr>\n",
       "      <th>2</th>\n",
       "      <td>Градиентный бустинг</td>\n",
       "      <td>{'alpha': 0.9, 'ccp_alpha': 0.0, 'criterion': ...</td>\n",
       "      <td>{'learning_rate': 0.01, 'max_depth': 3, 'n_est...</td>\n",
       "      <td>0.23</td>\n",
       "      <td>0.23</td>\n",
       "      <td>0.23</td>\n",
       "      <td>0.23</td>\n",
       "    </tr>\n",
       "  </tbody>\n",
       "</table>\n",
       "</div>"
      ],
      "text/plain": [
       "                     Метод                              Изначальные параметры  \\\n",
       "0  Метод ближайших соседей  {'algorithm': 'auto', 'leaf_size': 30, 'metric...   \n",
       "1            Случайный лес  {'bootstrap': True, 'ccp_alpha': 0.0, 'criteri...   \n",
       "2      Градиентный бустинг  {'alpha': 0.9, 'ccp_alpha': 0.0, 'criterion': ...   \n",
       "\n",
       "                                    Лучшие параметры  RMSE кросс-вал начало  \\\n",
       "0                                {'n_neighbors': 28}                   0.26   \n",
       "1  {'max_depth': 10, 'min_samples_split': 10, 'n_...                   0.27   \n",
       "2  {'learning_rate': 0.01, 'max_depth': 3, 'n_est...                   0.23   \n",
       "\n",
       "   RMSE кросс-вал лучший  RMSE тест начало  RMSE тест лучший  \n",
       "0                   0.24              0.25              0.23  \n",
       "1                   0.24              0.26              0.24  \n",
       "2                   0.23              0.23              0.23  "
      ]
     },
     "execution_count": 110,
     "metadata": {},
     "output_type": "execute_result"
    }
   ],
   "source": [
    "# А теперь объединим все в сводную таблицу\n",
    "\n",
    "# Оптимальные параметры для каждого метода\n",
    "best_params_knn = grid_search_knn.best_params_\n",
    "knn_best = grid_search_knn.best_estimator_\n",
    "rmse_train_best_knn = np.sqrt(-grid_search_knn.best_score_)\n",
    "rmse_test_best_knn = np.sqrt(mean_squared_error(target_test, knn_best.predict(regressors_test)))\n",
    "best_params_rf = grid_search_rf.best_params_\n",
    "rf_best = grid_search_rf.best_estimator_\n",
    "rmse_train_best_rf = np.sqrt(-grid_search_rf.best_score_)\n",
    "rmse_test_best_rf = np.sqrt(mean_squared_error(target_test, rf_best.predict(regressors_test)))\n",
    "best_params_gb = grid_search_gb.best_params_\n",
    "gb_best = grid_search_gb.best_estimator_\n",
    "rmse_train_best_gb = np.sqrt(-grid_search_gb.best_score_)\n",
    "rmse_test_best_gb = np.sqrt(mean_squared_error(target_test, gb_best.predict(regressors_test)))\n",
    "\n",
    "\n",
    "\n",
    "\n",
    "# Таблица сводная\n",
    "knn_default_params = knn.get_params()\n",
    "rf_default_params = rf.get_params()\n",
    "gb_default_params = gb.get_params()\n",
    "\n",
    "data2 = {\n",
    "    'Метод': ['Метод ближайших соседей', 'Случайный лес', 'Градиентный бустинг'],\n",
    "    'Изначальные параметры': [knn_default_params, rf_default_params, gb_default_params],\n",
    "    'Лучшие параметры': [best_params_knn, best_params_rf, best_params_gb],\n",
    "    'RMSE кросс-вал начало': [RMSE_knn_cross_val, RMSE_rf_cross_val, RMSE_gb_cross_val],\n",
    "    'RMSE кросс-вал лучший': [rmse_train_best_knn, rmse_train_best_rf, rmse_train_best_gb],\n",
    "    'RMSE тест начало': [RMSE_knn_test, RMSE_rf_test, RMSE_gb_test],\n",
    "    'RMSE тест лучший': [rmse_test_best_knn, rmse_test_best_rf, rmse_test_best_gb]\n",
    "}\n",
    "\n",
    "metrics_df = pd.DataFrame(data2)\n",
    "metrics_df"
   ]
  },
  {
   "cell_type": "markdown",
   "id": "dff5b43a",
   "metadata": {},
   "source": [
    "На основании полученных результатов по тюнингу гиперпараметров можно сделать выводы о рассмотренных трех моделях: в случае метода **ближайших соседей** изначально использовалось 4 ближайших соседа, но тюнинг-оптимизация до 28 соседей привела к улучшению RMSE как на кросс-валидации, так и на тестовой выборке с 0.26 до 0.24. Мы видим, как увеличение числа соседей сделало модель более сглаженной и улучшило ее предсказательную способность. \n",
    "\n",
    "Для метода **случайного леса** изначально были использованы 100 деревьев без ограничения глубины. После тюнинга гиперпараметров мы определили, что лучше всего модель работает с 200 деревьями, максимальной глубиной 10 и минимальным количеством выборок для разделения - 10. Это заметно улучшило RMSE на тестовой выборке с 0.27 до 0.24, что свидетельствует о том, что ограничение количества деревьев и глубины помогло предотвратить возможное переобучение и улучшить обобщающую способность модели.\n",
    "\n",
    "В нашем **градиентном бустинге** начальные параметры включали 50 деревьев с глубиной 3 и скоростью обучения 0.1. После тюнинга было настроено количество деревьев и уменьшена скорость обучения до 0.01. Несмотря на то, что RMSE практически не изменился, оставшись на уровне 0.24, это подтверждает стабильность модели даже при небольших корректировках параметров.\n",
    "\n",
    "Таким образом, тюнинг гиперпараметров улучшил качество практически всех моделей, подчеркивая важность оптимизации для достижения лучших и более точных результатов прогнозирования. Случайный лес показал наиболее значимое улучшение на тестовой выборке, в то время как остальные модели оказались стабильными после оптимизации. \n"
   ]
  },
  {
   "cell_type": "markdown",
   "id": "ab0afc38",
   "metadata": {},
   "source": [
    "**4. На основании проделанного анализа выберите лучший и худший из обученных классификаторов.**\n",
    "\n",
    "Теперь на основании проведенного анализа мы можем наконец определить лучший и худший из обученных классификаторов, учитывая их способности обобщать данные и точность предсказаний с помощью значений RMSE. Случайный лес оказался лучшим классификатором для нас, поскольку после тюнинга гиперпараметров он продемонстрировал самое значимое улучшение на тестовой выборке, где показатель RMSE снизился с 0.27 до 0.24. Это говорит нам о способности метода эффективно обобщать данные и предотвращать переобучение модели. Ограничение количества деревьев и их глубины помогло модели достичь улучшенных результатов, сохраняя при этом точность на тестовых данных. \n",
    "\n",
    "С другой стороны, метод ближайших соседей показал наименее впечатляющие результаты: несмотря на улучшения после тюнинга, этот метод оказался менее эффективным по сравнению с градиентным бустингом и случайным лесом. Изначально его RMSE был таким же, как у случайного леса (0.26), но кросс-валидация не выявила такого уровня улучшений, как у случайного леса. Хотя увеличение числа соседей привело к некоторому улучшению, оно было не настолько значительным, чтобы превзойти результаты других двух рассмотренных нами методов. \n",
    "\n",
    "\n",
    "Таким образом, именно случайный лес является, по нашему мнению, лучшим классификатором из всех протестированных благодаря своей способности балансировать между обучением и обобщением, в то время как метод ближайших соседей (несмотря на улучшения) остается в сравнении менее эффективным и менее стабильным, то есть худшим из трех методов.\n",
    "\n"
   ]
  },
  {
   "cell_type": "code",
   "execution_count": 111,
   "id": "4d691c2b",
   "metadata": {},
   "outputs": [],
   "source": [
    "best_regression = rf_best"
   ]
  },
  {
   "cell_type": "markdown",
   "id": "7de8bdcb",
   "metadata": {},
   "source": [
    "**5.\tПовышенная сложность:** включите в анализ дополнительный метод регрессии, не рассматривавшийся в курсе и не представленный в библиотеке scikitlearn. Опишите данный метод (принцип работы, преимущества и недостатки) и осуществите тюнинг гиперпараметров. Сопоставьте его точность на тестовой выборке с точностью лучшего из обученных вами ранее методов."
   ]
  },
  {
   "cell_type": "markdown",
   "id": "2909b900",
   "metadata": {},
   "source": [
    "Рассмотрим **LightGBM** — это градиентный бустинговый фреймворк, разработанный Microsoft. Этот метод не входит в стандартную библиотеку scikit-learn, но широко используется в задачах машинного обучения благодаря своей эффективности."
   ]
  },
  {
   "cell_type": "code",
   "execution_count": 112,
   "id": "5a0912a4",
   "metadata": {},
   "outputs": [
    {
     "name": "stdout",
     "output_type": "stream",
     "text": [
      "Collecting lightgbm\n",
      "  Using cached lightgbm-4.6.0.tar.gz (1.7 MB)\n",
      "  Installing build dependencies ... \u001b[?25ldone\n",
      "\u001b[?25h  Getting requirements to build wheel ... \u001b[?25ldone\n",
      "\u001b[?25h  Installing backend dependencies ... \u001b[?25ldone\n",
      "\u001b[?25h    Preparing wheel metadata ... \u001b[?25lerror\n",
      "\u001b[31m    ERROR: Command errored out with exit status 1:\n",
      "     command: /usr/bin/python3 /tmp/tmpk8zy02oa prepare_metadata_for_build_wheel /tmp/tmp1o_y_1a5\n",
      "         cwd: /tmp/pip-install-5bq_imz8/lightgbm\n",
      "    Complete output (30 lines):\n",
      "    Traceback (most recent call last):\n",
      "      File \"/tmp/pip-build-env-epfpghr9/overlay/lib/python3.8/site-packages/scikit_build_core/_vendor/pyproject_metadata/__init__.py\", line 515, in validate\n",
      "        packaging.utils.canonicalize_name(self.name, validate=True)\n",
      "    TypeError: canonicalize_name() got an unexpected keyword argument 'validate'\n",
      "    \n",
      "    During handling of the above exception, another exception occurred:\n",
      "    \n",
      "    Traceback (most recent call last):\n",
      "      File \"/tmp/tmpk8zy02oa\", line 280, in <module>\n",
      "        main()\n",
      "      File \"/tmp/tmpk8zy02oa\", line 263, in main\n",
      "        json_out['return_val'] = hook(**hook_input['kwargs'])\n",
      "      File \"/tmp/tmpk8zy02oa\", line 133, in prepare_metadata_for_build_wheel\n",
      "        return hook(metadata_directory, config_settings)\n",
      "      File \"/tmp/pip-build-env-epfpghr9/overlay/lib/python3.8/site-packages/scikit_build_core/build/__init__.py\", line 96, in prepare_metadata_for_build_wheel\n",
      "        return _build_wheel_impl(\n",
      "      File \"/tmp/pip-build-env-epfpghr9/overlay/lib/python3.8/site-packages/scikit_build_core/build/wheel.py\", line 176, in _build_wheel_impl\n",
      "        return _build_wheel_impl_impl(\n",
      "      File \"/tmp/pip-build-env-epfpghr9/overlay/lib/python3.8/site-packages/scikit_build_core/build/wheel.py\", line 233, in _build_wheel_impl_impl\n",
      "        metadata = get_standard_metadata(pyproject, settings)\n",
      "      File \"/tmp/pip-build-env-epfpghr9/overlay/lib/python3.8/site-packages/scikit_build_core/build/metadata.py\", line 68, in get_standard_metadata\n",
      "        metadata = StandardMetadata.from_pyproject(\n",
      "      File \"/tmp/pip-build-env-epfpghr9/overlay/lib/python3.8/site-packages/scikit_build_core/_vendor/pyproject_metadata/__init__.py\", line 428, in from_pyproject\n",
      "        self = cls(\n",
      "      File \"<string>\", line 24, in __init__\n",
      "      File \"/tmp/pip-build-env-epfpghr9/overlay/lib/python3.8/site-packages/scikit_build_core/_vendor/pyproject_metadata/__init__.py\", line 293, in __post_init__\n",
      "        self.validate()\n",
      "      File \"/tmp/pip-build-env-epfpghr9/overlay/lib/python3.8/site-packages/scikit_build_core/_vendor/pyproject_metadata/__init__.py\", line 516, in validate\n",
      "        except packaging.utils.InvalidName:\n",
      "    AttributeError: module 'packaging.utils' has no attribute 'InvalidName'\n",
      "    ----------------------------------------\u001b[0m\n",
      "\u001b[31mERROR: Command errored out with exit status 1: /usr/bin/python3 /tmp/tmpk8zy02oa prepare_metadata_for_build_wheel /tmp/tmp1o_y_1a5 Check the logs for full command output.\u001b[0m\n",
      "\u001b[?25h"
     ]
    },
    {
     "ename": "ModuleNotFoundError",
     "evalue": "No module named 'lightgbm'",
     "output_type": "error",
     "traceback": [
      "\u001b[0;31m---------------------------------------------------------------------------\u001b[0m",
      "\u001b[0;31mModuleNotFoundError\u001b[0m                       Traceback (most recent call last)",
      "Input \u001b[0;32mIn [112]\u001b[0m, in \u001b[0;36m<cell line: 4>\u001b[0;34m()\u001b[0m\n\u001b[1;32m      1\u001b[0m \u001b[38;5;66;03m#Установка и импорт библиотек\u001b[39;00m\n\u001b[1;32m      2\u001b[0m get_ipython()\u001b[38;5;241m.\u001b[39msystem(\u001b[38;5;124m'\u001b[39m\u001b[38;5;124mpip install lightgbm\u001b[39m\u001b[38;5;124m'\u001b[39m)\n\u001b[0;32m----> 4\u001b[0m \u001b[38;5;28;01mimport\u001b[39;00m \u001b[38;5;21;01mlightgbm\u001b[39;00m \u001b[38;5;28;01mas\u001b[39;00m \u001b[38;5;21;01mlgb\u001b[39;00m\n\u001b[1;32m      5\u001b[0m \u001b[38;5;28;01mfrom\u001b[39;00m \u001b[38;5;21;01msklearn\u001b[39;00m\u001b[38;5;21;01m.\u001b[39;00m\u001b[38;5;21;01mmetrics\u001b[39;00m \u001b[38;5;28;01mimport\u001b[39;00m mean_squared_error\n\u001b[1;32m      6\u001b[0m \u001b[38;5;28;01mfrom\u001b[39;00m \u001b[38;5;21;01msklearn\u001b[39;00m\u001b[38;5;21;01m.\u001b[39;00m\u001b[38;5;21;01mmodel_selection\u001b[39;00m \u001b[38;5;28;01mimport\u001b[39;00m RandomizedSearchCV\n",
      "\u001b[0;31mModuleNotFoundError\u001b[0m: No module named 'lightgbm'"
     ]
    }
   ],
   "source": [
    "#Установка и импорт библиотек\n",
    "!pip install lightgbm\n",
    "\n",
    "import lightgbm as lgb\n",
    "from sklearn.metrics import mean_squared_error\n",
    "from sklearn.model_selection import RandomizedSearchCV\n",
    "import numpy as np\n",
    "\n",
    "#Создание LGBMRegressor\n",
    "# Базовые параметры\n",
    "lgb_model = lgb.LGBMRegressor(\n",
    "    objective='regression',\n",
    "    random_state=42,\n",
    "    verbosity=-1\n",
    ")\n",
    "\n",
    "# Сетка гиперпараметров для поиска\n",
    "param_grid = {\n",
    "    'num_leaves': [15, 31, 63],\n",
    "    'learning_rate': [0.01, 0.05, 0.1],\n",
    "    'n_estimators': [100, 200, 300],\n",
    "    'min_child_samples': [5, 10, 20],\n",
    "    'subsample': [0.8, 0.9],\n",
    "    'colsample_bytree': [0.7, 0.8],\n",
    "    'reg_alpha': [0, 0.1],\n",
    "    'reg_lambda': [0, 0.1]\n",
    "}\n",
    "\n",
    "# RandomizedSearchCV для оптимизации\n",
    "random_search = RandomizedSearchCV(\n",
    "    estimator=lgb_model,\n",
    "    param_distributions=param_grid,\n",
    "    n_iter=20,\n",
    "    cv=3,\n",
    "    scoring='neg_mean_squared_error',\n",
    "    verbose=1,\n",
    "    random_state=42,\n",
    "    n_jobs=-1\n",
    ")\n",
    "\n",
    "random_search.fit(regressors_train, target_train)\n"
   ]
  },
  {
   "cell_type": "code",
   "execution_count": null,
   "id": "4fd2883e",
   "metadata": {},
   "outputs": [],
   "source": [
    "# Лучшие параметры LightGBM\n",
    "best_params = random_search.best_params_\n",
    "print(\"Лучшие параметры LightGBM:\", best_params)"
   ]
  },
  {
   "cell_type": "markdown",
   "id": "7ecd0c28",
   "metadata": {},
   "source": [
    "**Примечания:** Subsample - доля используемых данных для обучения модели\n",
    "\n",
    "Reglambda - параметр снижения переобучения\n",
    "\n",
    "Regalpha - параметр обнуления признаков\n",
    "\n",
    "Numleaves - число листьев в каждом дереве\n",
    "\n",
    "Nestimators - число деревьев\n",
    "\n",
    "minchildsamples - минимальное количество тренировочных экземпляров\n",
    "\n",
    "Learningrate - скорость обучения\n",
    "\n",
    "Colsamplebytree - пропорция признаков в дереве\n"
   ]
  },
  {
   "cell_type": "code",
   "execution_count": null,
   "id": "05dd4a1f",
   "metadata": {},
   "outputs": [],
   "source": [
    "!pip install lightgbm"
   ]
  },
  {
   "cell_type": "code",
   "execution_count": null,
   "id": "71c2d44c",
   "metadata": {},
   "outputs": [],
   "source": [
    "# 1. Создание Dataset объектов для LightGBM\n",
    "import lightgbm as lgb\n",
    "train_data = lgb.Dataset(regressors_train, label=target_train)\n",
    "valid_data = lgb.Dataset(regressors_test, label=target_test, reference=train_data)\n",
    "\n",
    "# 2. Параметры модели\n",
    "params = {\n",
    "    'objective': 'regression',\n",
    "    'metric': 'mse',\n",
    "    'boosting_type': 'gbdt',\n",
    "    'random_state': 42,\n",
    "    'verbosity': -1\n",
    "}\n",
    "\n",
    "# 3. Тюнинг гиперпараметров с помощью RandomizedSearchCV\n",
    "param_grid = {\n",
    "    'num_leaves': [15, 31, 63],\n",
    "    'learning_rate': [0.01, 0.05, 0.1],\n",
    "    'n_estimators': [100, 200, 300],\n",
    "    'min_child_samples': [5, 10, 20],\n",
    "    'subsample': [0.8, 0.9],\n",
    "    'colsample_bytree': [0.7, 0.8],\n",
    "    'reg_alpha': [0, 0.1],\n",
    "    'reg_lambda': [0, 0.1]\n",
    "}\n",
    "\n",
    "lgb_model = lgb.LGBMRegressor(**params)\n",
    "random_search = RandomizedSearchCV(\n",
    "    estimator=lgb_model,\n",
    "    param_distributions=param_grid,\n",
    "    n_iter=20,\n",
    "    cv=3,\n",
    "    scoring='neg_mean_squared_error',\n",
    "    verbose=1,\n",
    "    random_state=42,\n",
    "    n_jobs=-1\n",
    ")\n",
    "\n",
    "random_search.fit(regressors_train, target_train)\n",
    "best_params = random_search.best_params_\n",
    "\n",
    "# 4. Обучение с ранней остановкой (правильный подход)\n",
    "final_params = {**params, **best_params}\n",
    "\n",
    "# Убираем параметры, не используемые в train()\n",
    "final_params.pop('n_estimators', None)\n",
    "\n",
    "gbm = lgb.train(\n",
    "    final_params,\n",
    "    train_data,\n",
    "    num_boost_round=1000,\n",
    "    valid_sets=[valid_data],\n",
    "    callbacks=[\n",
    "        lgb.early_stopping(stopping_rounds=50, verbose=True),\n",
    "        lgb.log_evaluation(period=50)\n",
    "    ]\n",
    ")\n",
    "\n",
    "# 5. Прогнозирование и оценка\n",
    "lgb_pred = gbm.predict(regressors_test)\n",
    "lgb_mse = mean_squared_error(target_test, lgb_pred)\n",
    "print(f\"LightGBM Test MSE: {lgb_mse:.4f}\")"
   ]
  },
  {
   "cell_type": "code",
   "execution_count": null,
   "id": "bd6e9c49",
   "metadata": {},
   "outputs": [],
   "source": []
  },
  {
   "cell_type": "markdown",
   "id": "dee9a0d9",
   "metadata": {},
   "source": [
    "****5 Эффекты воздействия****\n",
    "\n",
    "\n",
    "При выполнении данного задания необходимо объединить обучающую и тестовую\n",
    "выборки в одну."
   ]
  },
  {
   "cell_type": "markdown",
   "id": "1cc439b4",
   "metadata": {},
   "source": [
    "1. Математически запишите и содержательно проинтерпретируйте потенциальные исходы целевой переменной. Объясните, как они связаны с наблюдаемыми\n",
    "значениями целевой переменной.\n"
   ]
  },
  {
   "cell_type": "code",
   "execution_count": 113,
   "id": "f4fec1ca",
   "metadata": {},
   "outputs": [
    {
     "data": {
      "text/html": [
       "<div>\n",
       "<style scoped>\n",
       "    .dataframe tbody tr th:only-of-type {\n",
       "        vertical-align: middle;\n",
       "    }\n",
       "\n",
       "    .dataframe tbody tr th {\n",
       "        vertical-align: top;\n",
       "    }\n",
       "\n",
       "    .dataframe thead th {\n",
       "        text-align: right;\n",
       "    }\n",
       "</style>\n",
       "<table border=\"1\" class=\"dataframe\">\n",
       "  <thead>\n",
       "    <tr style=\"text-align: right;\">\n",
       "      <th></th>\n",
       "      <th>import</th>\n",
       "      <th>scale</th>\n",
       "      <th>age</th>\n",
       "      <th>industry</th>\n",
       "      <th>participation</th>\n",
       "      <th>worker</th>\n",
       "    </tr>\n",
       "  </thead>\n",
       "  <tbody>\n",
       "    <tr>\n",
       "      <th>0</th>\n",
       "      <td>0.00</td>\n",
       "      <td>0</td>\n",
       "      <td>4.00</td>\n",
       "      <td>1</td>\n",
       "      <td>1</td>\n",
       "      <td>14.00</td>\n",
       "    </tr>\n",
       "    <tr>\n",
       "      <th>1</th>\n",
       "      <td>11.58</td>\n",
       "      <td>0</td>\n",
       "      <td>18.00</td>\n",
       "      <td>1</td>\n",
       "      <td>0</td>\n",
       "      <td>35.00</td>\n",
       "    </tr>\n",
       "    <tr>\n",
       "      <th>2</th>\n",
       "      <td>1.83</td>\n",
       "      <td>0</td>\n",
       "      <td>11.00</td>\n",
       "      <td>0</td>\n",
       "      <td>0</td>\n",
       "      <td>20.00</td>\n",
       "    </tr>\n",
       "    <tr>\n",
       "      <th>3</th>\n",
       "      <td>8.46</td>\n",
       "      <td>0</td>\n",
       "      <td>3.00</td>\n",
       "      <td>0</td>\n",
       "      <td>0</td>\n",
       "      <td>256.00</td>\n",
       "    </tr>\n",
       "    <tr>\n",
       "      <th>4</th>\n",
       "      <td>3.63</td>\n",
       "      <td>0</td>\n",
       "      <td>6.00</td>\n",
       "      <td>0</td>\n",
       "      <td>0</td>\n",
       "      <td>23.00</td>\n",
       "    </tr>\n",
       "  </tbody>\n",
       "</table>\n",
       "</div>"
      ],
      "text/plain": [
       "   import  scale   age  industry  participation  worker\n",
       "0    0.00      0  4.00         1              1   14.00\n",
       "1   11.58      0 18.00         1              0   35.00\n",
       "2    1.83      0 11.00         0              0   20.00\n",
       "3    8.46      0  3.00         0              0  256.00\n",
       "4    3.63      0  6.00         0              0   23.00"
      ]
     },
     "execution_count": 113,
     "metadata": {},
     "output_type": "execute_result"
    }
   ],
   "source": [
    "#Используем объединенную выобрку:\n",
    "df.head()"
   ]
  },
  {
   "cell_type": "markdown",
   "id": "60e8ce27",
   "metadata": {},
   "source": [
    "Уравнение ожидаемого объема импорта когда фирма не относится к крупному бизнесу:\n",
    "\n",
    "$$\\text{Import}_{0i} = \\underbrace{\\underbrace{0.009\\times\\text{Creditworthiness}_{i}}_{g_{0}^{\\text{unobs}}}  \\underbrace{-35 + 0.01\\times\\frac{\\text{Age}_{i}}{10 -\\text{3*Industry}_{i}-\\text{7.77*Wroker}_{i}}+1\\times\\ln(\\text{Age}_{i}+0.2\\times\\text{Worker}_{i})+3\\times\\text{Industry}_{i}}_{g_{0}^{\\text{obs}}}}_{g_{0}} + \\varepsilon_{0i}\\text{, где }\\varepsilon_{0i}\\sim \\left(5\\times t(8)\\right)$$  \n",
    "\n",
    "Уравнение ожидаемого объема импорта когда фирма относится к крупному бизнесу::\n",
    "\n",
    "$$\\text{Import}_{1i} = \\underbrace{\\underbrace{0.01\\times\\text{Creditworthiness}_{i}}_{g_{1}^{\\text{unobs}}} \\underbrace{-24 + 0.03\\times\\sqrt{\\text{Age}_{i}\\times\\text{Industry}_{i}+5\\times\\text{Worker}_{i}}+16\\times\\ln(\\text{Age}_{i}+0.4\\times\\text{Worker}_{i})+8\\times\\text{Industry}_{i}}_{g_{1}^{\\text{obs}}}}_{g_{1}} + \\varepsilon_{1i}\\text{, где }\\varepsilon_{1i}\\sim \\left(4\\times t(9)\\right)$$ \n",
    "\n",
    "Наблюдаемый ожидаемый объем импорта:\n",
    "\n",
    "$$\\text{Import}_{i} = \\begin{cases}\\text{Import}_{1i}\\text{, если }\\text{Scale}_{i}=1\\\\ \\text{Import}_{0i}\\text{, если }\\text{Scale}_{i}=0\\end{cases} = \\\\ =\\text{Import}_{1i}\\times\\text{Scale}_{i} + \\text{Import}_{0i}\\times\\left(1-\\text{Scale}_{i}\\right)$$\n",
    "\n",
    "\n",
    "\n",
    "Наблюдаемый в данных вид масштаба фирмы можно выразить как:\n",
    "\n",
    "$$\\text{Scale}_{i} = \\begin{cases}\\text{Scale}_{1i}\\text{, если }\\text{Participation}_{i} = 1\\\\ \\text{Scale}_{0i}\\text{, если }\\text{Participation}_{i} = 0\\end{cases} = \\\\ = \\text{Scale}_{1i}\\times\\text{Participation}_{i} + \\text{Scale}_{0i}\\times\\left(1 - \\text{Participation}_{i}\\right)$$\n",
    "\n",
    "Индивидов можно разделить на $4$ группы:\n",
    "\n",
    "\n",
    "*   **Always-takers** - те, у кто $\\text{Scale}_{0i}=\\text{Scale}_{1i}=1$: фирма крупного масштаба независимо от того участвовала ли она в программе господдержки.\n",
    "*   **Never-takers**- те, кто $\\text{Scale}_{0i}=\\text{Scale}_{1i}=0$: фирма НЕ крупного масштаба независимо от того участвовала ли она в программе господдержки.\n",
    "*   **Compliers** - те, кто $\\text{Scale}_{1i}=1$ и $\\text{Scale}_{0i}=0$, то есть $\\text{Scale}_{1i} > \\text{Scale}_{0i}$: фирма крупного масштаба лишь в случае, если она участвовала в программе господдержки.\n",
    "*   **Defiers** - те, кто $\\text{Scale}_{1i}=0$ и $\\text{Scale}_{0i}=1$, то есть $\\text{Scale}_{1i} < \\text{Scale}_{0i}$: фирма крупного масштаба лишь в случае, если она не участвовала в программе господдержки."
   ]
  },
  {
   "cell_type": "code",
   "execution_count": 114,
   "id": "b6d61c7c",
   "metadata": {},
   "outputs": [],
   "source": [
    "compliers = scale1 > scale0"
   ]
  },
  {
   "cell_type": "markdown",
   "id": "3b09e149",
   "metadata": {},
   "source": [
    "2. Используя симулированные вами, но недоступные в реальных данных потенциальные исходы (гипотетические значения), получите оценки среднего эффекта воздействия, условных средних эффектов воздействия и локального среднего эффекта воздействия. Для ATE и LATE результаты представьте в форме таблицы, а для CATE постройте гистограмму или ядерную оценку функции плотности. Проинтерпретируйте полученные значения.\n",
    "\n",
    "Примечание: для получения очень точных оценок эффектов воздействия с\n",
    "помощью потенциальных исходов (гипотетических переменных) можно сперва\n",
    "симулировать очень большого число наблюдений, например, несколько миллионов. Затем, для ускорения вычислений, для оценивания эффектов воздействия\n",
    "с помощью наблюдемых значений можно использовать часть выборки, например, десять тысяч наблюдений.\n"
   ]
  },
  {
   "cell_type": "markdown",
   "id": "a7996fc3",
   "metadata": {},
   "source": [
    "Эффект воздействия рассчитывается по формуле:\n",
    "\n",
    "$$\\text{TE}_{i} = \\text{import}_{1i} - \\text{import}_{0i}$$"
   ]
  },
  {
   "cell_type": "code",
   "execution_count": 115,
   "id": "76edf202",
   "metadata": {},
   "outputs": [
    {
     "name": "stdout",
     "output_type": "stream",
     "text": [
      "TE: [44.30068477 37.11364239 29.08053863 51.46207261 22.41302314 24.0120573\n",
      " 48.13435492 32.88954648 38.24590385 34.8630748 ]\n"
     ]
    }
   ],
   "source": [
    "# Настоящие эффекты воздействия (не наблюдаются в данных)\n",
    "TE = import1 - import0\n",
    "print(f'TE: {TE[0:10]}')"
   ]
  },
  {
   "cell_type": "markdown",
   "id": "aebcace6",
   "metadata": {},
   "source": [
    "Средний эффект воздействия находится по формуле:\n",
    "\n",
    "$$\\widehat{\\text{ATE}} = \\frac{1}{n}\\sum\\limits_{i=1}^{n}[\\text{import}_{1i} - \\text{import}_{0i}]$$"
   ]
  },
  {
   "cell_type": "code",
   "execution_count": 116,
   "id": "c200bdcd",
   "metadata": {},
   "outputs": [
    {
     "name": "stdout",
     "output_type": "stream",
     "text": [
      "ATE: 35.46044349883959\n"
     ]
    }
   ],
   "source": [
    "# Точное приближение среднего эффекта воздействия, то есть\n",
    "# с помощью оценки, недоступной с помощью реальных данных\n",
    "ATE = np.mean(TE)\n",
    "print(f'ATE: {ATE}')"
   ]
  },
  {
   "cell_type": "markdown",
   "id": "bcb5f9f6",
   "metadata": {},
   "source": [
    "Локальный средний эффект воздействия:\n",
    "\n",
    "$$\\text{LATE} = \\text{E}(\\text{import}_{1i} - \\text{import}_{0i} | \\text{scale}_{1i} > \\text{scale}_{0i})$$"
   ]
  },
  {
   "cell_type": "code",
   "execution_count": 117,
   "id": "8d8d9c22",
   "metadata": {},
   "outputs": [
    {
     "name": "stdout",
     "output_type": "stream",
     "text": [
      "LATE: 38.59578053446613\n"
     ]
    }
   ],
   "source": [
    "# Точное приближение локального среднего эффекта воздействия, то есть\n",
    "# с помощью оценки, недоступной с помощью реальных данных\n",
    "LATE = np.mean(TE[compliers])\n",
    "print(f'LATE: {LATE}')"
   ]
  },
  {
   "cell_type": "markdown",
   "id": "9b48a3b2",
   "metadata": {},
   "source": [
    "Условный средний эффект воздействия:\n",
    "\n",
    "$$\\text{CATE}_{i} = \\text{E}\\left(\\text{import}_{1i}|X_{i}\\right) - \\text{E}\\left(\\text{import}_{0i}|X_{i}\\right) = g_{1}(X_{i}) - g_{0}(X_{i})$$"
   ]
  },
  {
   "cell_type": "code",
   "execution_count": 118,
   "id": "4f74550a",
   "metadata": {},
   "outputs": [
    {
     "name": "stdout",
     "output_type": "stream",
     "text": [
      "CATE: [34.21009109 40.23858788 31.88218728 ... 26.26048861 30.4627483\n",
      " 31.97191669]\n"
     ]
    }
   ],
   "source": [
    "# Значения локальных средних эффектов воздействия\n",
    "CATE = g1 - g0\n",
    "print(f'CATE: {CATE}')"
   ]
  },
  {
   "cell_type": "code",
   "execution_count": 119,
   "id": "e7b6763d",
   "metadata": {},
   "outputs": [
    {
     "data": {
      "text/html": [
       "<div>\n",
       "<style scoped>\n",
       "    .dataframe tbody tr th:only-of-type {\n",
       "        vertical-align: middle;\n",
       "    }\n",
       "\n",
       "    .dataframe tbody tr th {\n",
       "        vertical-align: top;\n",
       "    }\n",
       "\n",
       "    .dataframe thead th {\n",
       "        text-align: right;\n",
       "    }\n",
       "</style>\n",
       "<table border=\"1\" class=\"dataframe\">\n",
       "  <thead>\n",
       "    <tr style=\"text-align: right;\">\n",
       "      <th></th>\n",
       "      <th>Гипотетические данные</th>\n",
       "    </tr>\n",
       "  </thead>\n",
       "  <tbody>\n",
       "    <tr>\n",
       "      <th>ATE</th>\n",
       "      <td>35.46</td>\n",
       "    </tr>\n",
       "    <tr>\n",
       "      <th>LATE</th>\n",
       "      <td>38.60</td>\n",
       "    </tr>\n",
       "  </tbody>\n",
       "</table>\n",
       "</div>"
      ],
      "text/plain": [
       "      Гипотетические данные\n",
       "ATE                   35.46\n",
       "LATE                  38.60"
      ]
     },
     "execution_count": 119,
     "metadata": {},
     "output_type": "execute_result"
    }
   ],
   "source": [
    "#Представим результаты для ATE и LATE в форме таблицы:\n",
    "\n",
    "te_df = pd.DataFrame(data    = [ATE, LATE],\n",
    "                   index   = ['ATE', 'LATE'],\n",
    "                   columns = ['Гипотетические данные'])\n",
    "te_df"
   ]
  },
  {
   "cell_type": "markdown",
   "id": "785d1fe1",
   "metadata": {},
   "source": [
    "ATE:\n",
    "\n",
    "\n",
    "Видим, что в среднем принадлежность фирмы к крупному масштабу увеличивает среднегодовой импорта на 35.460443 млрд рублей по сравнению с мелкомасштабными фирмами.\n",
    "\n",
    "LATE:\n",
    "\n",
    "В среднем принадлежность фирмы к крупному масштабу увеличивает среднегодовой импорта на 38.595781 млрд рублей по сравнению с мелкомасштабными фирмами для тех фирм, которые получили господдержку.\n"
   ]
  },
  {
   "cell_type": "code",
   "execution_count": 120,
   "id": "e490c609",
   "metadata": {},
   "outputs": [
    {
     "data": {
      "image/png": "[encoded data removed]",
      "text/plain": [
       "<Figure size 432x288 with 1 Axes>"
      ]
     },
     "metadata": {
      "needs_background": "light"
     },
     "output_type": "display_data"
    }
   ],
   "source": [
    "#Построим гистограмму для CATE:\n",
    "import matplotlib.pyplot as plt\n",
    "\n",
    "plt.hist(CATE, bins=20, edgecolor='black')\n",
    "plt.title('Гистограмма CATE')\n",
    "plt.xlabel('Значения CATE')\n",
    "plt.ylabel('Частота')\n",
    "plt.grid(True)\n",
    "plt.show()"
   ]
  },
  {
   "cell_type": "markdown",
   "id": "92aa3b28",
   "metadata": {},
   "source": [
    "Видим, что гистограмма характеризуется правосторонней асимметрией, что говорит о том что большинство фирм имеют умеренный или слабый эффект от принадлежности к крупному масштабу, тогда как небольшое количество фирм имеют большую отдачу в объем импорта из-за того, что они относятся к крупным компаниям"
   ]
  },
  {
   "cell_type": "markdown",
   "id": "ced44f8f",
   "metadata": {},
   "source": [
    "3. Оцените средний эффект воздействия как разницу в средних по выборкам тех,\n",
    "кто получил и не получил воздействие. Опишите недостатки соответствующего\n",
    "подхода с учетом специфики рассматриваемой вами экономической проблемы.\n",
    "Примечание: в этом пункте и далее, если не сказано иное, используются лишь\n",
    "наблюдаемые значения целевой переменной.\n"
   ]
  },
  {
   "cell_type": "markdown",
   "id": "27eddb5d",
   "metadata": {},
   "source": [
    "$$\\text{E}(\\text{import}_{1i}|\\text{scale}_{i}=1) = \\text{E}(\\text{import}_{1i})\\qquad \\text{E}(\\text{import}_{0i}|\\text{scale}_{i}=0) = \\text{E}(\\text{import}_{0i})$$\n",
    "\n",
    "\n",
    "Подход, указанный в задании, называется \"наивный\". Он опирается на допущение о независимости, которое не соблюдается в данном случае, поскольку $\\text{age}_{i}$, $\\text{industry}_{i}$ и $\\text{worker}_{i}$ одновременно связаны и с наличием удалёнки $\\text{scale}_{i}$, и с продолжительностью рабочей недели $\\text{import}_{i}$.\n",
    "\n",
    "Например, молодежь (студенты) более склонны работать в удалённом формате, чтобы было удобнее совмещать работу и учёбу, а также чаще работают на стажировках, которые подразумевают укороченную рабочую неделю, а люди без высшего образования более склонны работать физически (грузчики, кассиры и т.п.), что не подразумевает удалённой работы и может подразумевать график, например, 2-2, что может выводить продолжительность недели из стандартных 40 часов."
   ]
  },
  {
   "cell_type": "code",
   "execution_count": 121,
   "id": "e99cb830",
   "metadata": {},
   "outputs": [
    {
     "data": {
      "text/plain": [
       "41.08756302286702"
      ]
     },
     "execution_count": 121,
     "metadata": {},
     "output_type": "execute_result"
    }
   ],
   "source": [
    "# Наивная оценка как разница в выборочных средних\n",
    "ATE_naive = np.mean(import_[scale == 1]) - np.mean(import_[scale == 0])\n",
    "ATE_naive"
   ]
  },
  {
   "cell_type": "markdown",
   "id": "1cb7549f",
   "metadata": {},
   "source": [
    "4. Используя оценки, полученные лучшими из обученных ранее классификационных и регрессионных моделей, оцените средний эффект воздействия с помощью:\n",
    "\n",
    "\n",
    "• метода наименьших квадратов.\n",
    "\n",
    "• условных математических ожиданий.\n",
    "\n",
    "• взвешивания на обратные вероятности (в случае возникновения ошибок\n",
    "убедитесь в отсутствии оценок вероятностей, равных 0 или 1 и при необходимости измените метод оценивания).\n",
    "\n",
    "• метода, обладающего двойной устойчивостью.\n",
    "\n",
    "• двойного машинного обучения.\n",
    "\n",
    "\n",
    "Сравните результаты и назовите ключевую предпосылку этих методов. Содержательно обсудите причины, по которым она может соблюдаться или нарушаться в вашем случае. Приведите содержательную экономическую интерпретацию оценки среднего эффекта воздействия."
   ]
  },
  {
   "cell_type": "markdown",
   "id": "24041d26",
   "metadata": {},
   "source": [
    "#### Оценивание ATE с помощью МНК\n",
    "\n",
    "$$\\widehat{\\text{ATE}}_{\\text{LS}} = \\frac{1}{n}\\sum\\limits_{i=1}^{n} \\underbrace{\\hat{\\text{E}}\\left(\\text{import}_{1i}|X_{i}\\right) - \\hat{\\text{E}}\\left(\\text{import}_{0i}|X_{i}\\right)}_{\\widehat{\\text{CATE}}_{i}}$$\n",
    "\n",
    "Где:\n",
    "\n",
    "*   $\\hat{\\text{E}}\\left(\\text{import}_{1i}|X_{i}\\right)$ - оценка, полученная с использованием МНК оценок регрессионных коэффициентов $\\beta$, полученных по выборке из компаний крупного масштаба $\\text{scale}_{i} = 1$.\n",
    "*   $\\hat{\\text{E}}\\left(\\text{import}_{0i}|X_{i}\\right)$ - оценка, полученная с использованием МНК оценок регрессионных коэффициентов $\\beta$, полученных по выборке из компаний не крупного масштаба $\\text{scale}_{i} = 0$."
   ]
  },
  {
   "cell_type": "code",
   "execution_count": 122,
   "id": "84079f10",
   "metadata": {},
   "outputs": [
    {
     "data": {
      "text/plain": [
       "37.98132335038746"
      ]
     },
     "execution_count": 122,
     "metadata": {},
     "output_type": "execute_result"
    }
   ],
   "source": [
    "# Оценим средний эффект воздействия с помощью МНК\n",
    "import statsmodels.api as sm\n",
    "\n",
    "# МНК оценивание уравнения объема импорта недели для компаний не крупного масштаба\n",
    "y0 = df.loc[scale == 0, ['import']]\n",
    "x0 = df.loc[scale  == 0, df.columns.drop(['import', 'scale', 'participation'])]\n",
    "x0 = sm.add_constant(x0)\n",
    "ls0 = sm.OLS(y0, x0).fit()\n",
    "\n",
    "# МНК оценивание уравнения объема импорта для компаний крупного масштаба\n",
    "y1 = df.loc[scale  == 1, ['import']]\n",
    "x1 = df.loc[scale  == 1, df.columns.drop(['import', 'scale', 'participation'])]\n",
    "x1 = sm.add_constant(x1)\n",
    "ls1 = sm.OLS(y1, x1).fit()\n",
    "\n",
    "# Оценим объем импорта в год при отношении фирмы к крупномасштабной и нет с помощью полученных МНК оценок\n",
    "x = df.loc[:, df.columns.drop(['import', 'scale', 'participation'])]\n",
    "x = sm.add_constant(x)\n",
    "\n",
    "# МНК оценка E(week0 | X) для всех компаний\n",
    "import0_ls = ls0.predict(x)\n",
    "# МНК оценка E(week1 | X) для всех компаний\n",
    "import1_ls = ls1.predict(x)\n",
    "\n",
    "# Оценки CATE\n",
    "CATE_ls = np.array(import1_ls - import0_ls)\n",
    "\n",
    "# Оценка ATE как средняя разница в прогнозах МНК оценок\n",
    "ATE_ls = np.mean(CATE_ls)\n",
    "\n",
    "ATE_ls"
   ]
  },
  {
   "cell_type": "markdown",
   "id": "a32523b2",
   "metadata": {},
   "source": [
    "#### Оценивание ATE с помощью условных математических ожиданий\n",
    "\n",
    "При соблюдении допущений об условной независимости:\n",
    "\n",
    "$$ATE=E(\\text{import}_{1i})-E(\\text{import}_{0i})=E(E(\\text{import}_{1i}|X_i)-E(\\text{import}_{0i}|X_i))=E(E(\\text{import}_{1i}|X_i, \\text{scale}_i=1)-E(\\text{import}_{0i}|X_i, \\text{scale}_i=0))= E(E(\\text{import}_{i}|X_i, \\text{scale}_i=1)-E(\\text{import}_{i}|X_i, \\text{scale}_i=0))=\\frac{1}{n}\\sum_{i=1}^nE(\\text{import}_{i}|X_i, \\text{scale}_i=1)-E(\\text{import}_{i}|X_i, \\text{scale}_i=0) \\to^p ATE$$\n",
    "\n",
    "Далее получаем оценки необходимых матожиданий при помощи машинного обучения, итог выглядит следующим образом:\n",
    "\n",
    "$$\\widehat{\\text{ATE}}=\\frac{1}{n}\\sum_{i=1}^n\\hat{E}(\\text{import}_{i}|X_i, \\text{scale}_i=1)-\\hat{E}(\\text{import}_{i}|X_i, \\text{sacle}_i=0)$$"
   ]
  },
  {
   "cell_type": "code",
   "execution_count": 123,
   "id": "dfd9c880",
   "metadata": {},
   "outputs": [],
   "source": [
    "x0 = df.loc[scale == 0, df.columns.drop(['import', 'scale', 'participation'])]\n",
    "y0 = df.loc[scale == 0, ['import']]\n",
    "x1 = df.loc[scale == 1, df.columns.drop(['import', 'scale', 'participation'])]\n",
    "y1 = df.loc[scale == 1, ['import']]\n",
    "x = df.loc[:, df.columns.drop(['import', 'scale', 'participation'])]"
   ]
  },
  {
   "cell_type": "code",
   "execution_count": 124,
   "id": "c8cc1b4b",
   "metadata": {},
   "outputs": [],
   "source": [
    "# Оценивание ATE и CATE с помощью словных матожиданий - T-learner\n",
    "from copy import deepcopy\n",
    "cond_exp = deepcopy(best_regression)\n",
    "\n",
    "\n",
    "# Обучение оценивать E(import | X, scale = 0)\n",
    "cond_exp.fit(x0, y0)\n",
    "\n",
    "# Оценки E(import | X, scale = 0) для всех компаний,\n",
    "# в том числе для тех, у кого (scale = 1).\n",
    "import0_condexp = cond_exp.predict(x)\n",
    "\n",
    "# Обучение оценивать E(import | X, scale = 1)\n",
    "cond_exp.fit(x1, y1)\n",
    "\n",
    "# Оценки E(import | X, scale = 1) для всех компаний,\n",
    "# в том числе для тех, у кого (scale = 0).\n",
    "import1_condexp = cond_exp.predict(x)\n",
    "\n",
    "# Оценки CATE\n",
    "CATE_cond = import1_condexp - import0_condexp\n",
    "\n",
    "# Оенка ATE\n",
    "ATE_cond = np.mean(CATE_cond)"
   ]
  },
  {
   "cell_type": "markdown",
   "id": "9cbe15b3",
   "metadata": {},
   "source": [
    "#### Оценивание ATE с помощью взвешивания на обратные условные вероятности\n",
    "\n",
    "При соблюдении допущения об условной независимости:\n",
    "$$E(\\text{scale}_i \\text{import}_i / P(\\text{scale}_i=1|X_i)|X_i)=E(\\text{import}_i/P(\\text{scale}_i|X_i, \\text{scale}_i=1)P(\\text{scale}_i=1|X_i)=E(\\text{import}_{1i}|X_i) ⇒ E(\\text{scale}_i\\text{week}_i/P(\\text{scale}_i|X_i)=E(E(\\text{import}_{1i}|X_i))=E(\\text{import}_{1i})$$\n",
    "\n",
    "Аналогично:\n",
    "$$E((1-\\text{scale}_i)\\text{import}_i/(1-P(\\text{scale}_i=1|X_i)))=E(\\text{import}_{0i})$$\n",
    "\n",
    "Итого:\n",
    "$$ATE=E(\\text{scale}_i\\text{import}_i/P(\\text{scale}_i=1|X_i))-E((1-\\text{scale}_i)\\text{import}_i/(1-P(\\text{scale}_i=1|X_i)))$$\n",
    "\n",
    "Тогда оценка ATE:\n",
    "$$\\widehat{ATE}=\\frac{1}{n}\\sum_{i=1}^n \\frac{\\text{scale}_i\\text{import}_i}{\\hat{P}(\\text{scale}_i=1|X_i)} - \\frac{(1-\\text{scale}_i)\\text{import}_i}{1-\\hat{P}(\\text{scale}_i=1|X_i)}$$"
   ]
  },
  {
   "cell_type": "code",
   "execution_count": 125,
   "id": "52992804",
   "metadata": {},
   "outputs": [],
   "source": [
    "# Подготовим данные\n",
    "target = df.loc[:, ['scale']]\n",
    "features = df.loc[:, df.columns.drop(['import', 'scale', 'participation'])]\n",
    "\n",
    "# Подготовим метод машинного обучения\n",
    "weghting_classifier = deepcopy(best_classifier)\n",
    "weghting_classifier.fit(features, np.ravel(target))\n",
    "\n",
    "# Оценим условные вероятности P(scale = 1 | X)\n",
    "prob = weghting_classifier.predict_proba(features)[:, 1]\n",
    "\n",
    "# Оценим псевдоисходы\n",
    "import_pseudo = (import_ * scale) / prob - (import_ * (1 - scale)) / (1 - prob)\n",
    "\n",
    "# Оценим ATE\n",
    "ATE_IPW = np.mean(import_pseudo)"
   ]
  },
  {
   "cell_type": "markdown",
   "id": "d2c88c90",
   "metadata": {},
   "source": [
    "#### Оценивание ATE с помощью метода с двойной устойчивостью\n",
    "\n",
    "Достоинство этого метода в сравнении с прошлыми заключается в том, что обеспечивается состоятельность оценки ATE, если по крайней мере один из способов дает состоятельную оценку. В прошлых же методах точность оценок ATE зависит от точности оценок соответствующих условных матожиданий или вероятностей (и если они неточные, то и ATE будет неточным).\n",
    "\n",
    "$$\\widehat{ATE}= \\\\\n",
    "=\\frac{1}{n}\\sum_{i=1}^n \\hat{g}_{1i}-\\hat{g}_{0i} + \\frac{1}{n}\\sum_{i=1}^n \\frac{\\text{scale}_i(\\text{import}_i-\\hat{g}_{1i})}{\\hat{g}_{on \\ i}}-\\frac{(1-\\text{scale}_i)(\\text{import}_i-\\hat{g}_{0i})}{\\hat{g}_{on \\ i}}= \\\\\n",
    "= \\frac{1}{n}\\sum_{i=1}^n \\frac{\\text{scale}_i\\text{import}_i}{\\hat{g}_{on \\ i}}-\\frac{(1-\\text{scale}_i)\\text{import}_i}{1-\\hat{g}_{on \\ i}} + \\frac{1}{n}\\sum_{i=1}^n \\frac{(\\text{scale}_i-\\hat{g}_{on \\ i})\\hat{g}_{0i}}{1-\\hat{g}_{on \\ i}}-\\frac{(\\text{scale}_i-\\hat{g}_{on \\ i})\\hat{g}_{1i}}{\\hat{g}_{on \\ i}}$$\n",
    "\n",
    "где:\n",
    "$$ \\hat{g}_{1i}=\\hat{E}(\\text{import}_i|X_i, \\text{scale}_i=1)$$\n",
    "\n",
    "$$ \\hat{g}_{0i}=\\hat{E}(\\text{import}_i|X_i, \\text{scale}_i=0)$$\n",
    "\n",
    "$$ \\hat{g}_{on \\ i}=\\hat{P}(\\text{scale}_i=1|X_i)$$"
   ]
  },
  {
   "cell_type": "code",
   "execution_count": 126,
   "id": "63465429",
   "metadata": {},
   "outputs": [],
   "source": [
    "# Оценим ATE с помощью DR метода с двойной устойчивостью\n",
    "ATE_DR = np.mean((import1_condexp - import0_condexp) + \\\n",
    "                 scale * (import_ - import1_condexp) / prob - \\\n",
    "                 (1 - scale) * (import_ - import0_condexp) / (1 - prob))"
   ]
  },
  {
   "cell_type": "markdown",
   "id": "66174bdf",
   "metadata": {},
   "source": [
    "#### Оценивание ATE с помощью двойного машинного обучения\n",
    "\n",
    "$$\\widehat{ATE}=\\frac{1}{n}\\sum_{i=1}^n\\frac{\\text{scale}_i(\\text{import}_i-\\hat{g}_1^{(q_i)}(X_i)}{\\hat{g}_{on}^{(q_i)}(X_i)} - \\frac{(1-\\text{scale}_i)(\\text{import}_i-\\hat{g}_0^{(q_i)}(X_i))}{1-\\hat{g}_{on}^{(q_i)}(X_i)} + \\hat{g}_{1}^{(q_i)}(X_i)- \\hat{g}_{0}^{(q_i)}(X_i)$$"
   ]
  },
  {
   "cell_type": "code",
   "execution_count": 127,
   "id": "453f92ae",
   "metadata": {},
   "outputs": [
    {
     "name": "stdout",
     "output_type": "stream",
     "text": [
      "Requirement already satisfied: doubleml in ./.local/lib/python3.8/site-packages (0.8.0)\n",
      "Requirement already satisfied: statsmodels in ./.local/lib/python3.8/site-packages (from doubleml) (0.14.1)\n",
      "Requirement already satisfied: pandas in ./.local/lib/python3.8/site-packages (from doubleml) (2.0.3)\n",
      "Requirement already satisfied: numpy in ./.local/lib/python3.8/site-packages (from doubleml) (1.24.4)\n",
      "Requirement already satisfied: scikit-learn in ./.local/lib/python3.8/site-packages (from doubleml) (1.3.2)\n",
      "Requirement already satisfied: joblib in ./.local/lib/python3.8/site-packages (from doubleml) (1.4.2)\n",
      "Requirement already satisfied: scipy in ./.local/lib/python3.8/site-packages (from doubleml) (1.10.1)\n",
      "Requirement already satisfied: plotly in ./.local/lib/python3.8/site-packages (from doubleml) (6.1.2)\n",
      "Requirement already satisfied: patsy>=0.5.4 in ./.local/lib/python3.8/site-packages (from statsmodels->doubleml) (0.5.6)\n",
      "Requirement already satisfied: packaging>=21.3 in /usr/local/lib/python3.8/dist-packages (from statsmodels->doubleml) (21.3)\n",
      "Requirement already satisfied: tzdata>=2022.1 in ./.local/lib/python3.8/site-packages (from pandas->doubleml) (2024.2)\n",
      "Requirement already satisfied: python-dateutil>=2.8.2 in /usr/local/lib/python3.8/dist-packages (from pandas->doubleml) (2.8.2)\n",
      "Requirement already satisfied: pytz>=2020.1 in ./.local/lib/python3.8/site-packages (from pandas->doubleml) (2024.2)\n",
      "Requirement already satisfied: threadpoolctl>=2.0.0 in ./.local/lib/python3.8/site-packages (from scikit-learn->doubleml) (3.5.0)\n",
      "Requirement already satisfied: narwhals>=1.15.1 in ./.local/lib/python3.8/site-packages (from plotly->doubleml) (1.41.1)\n",
      "Requirement already satisfied: six in /usr/local/lib/python3.8/dist-packages (from patsy>=0.5.4->statsmodels->doubleml) (1.16.0)\n",
      "Requirement already satisfied: pyparsing!=3.0.5,>=2.0.2 in /usr/local/lib/python3.8/dist-packages (from packaging>=21.3->statsmodels->doubleml) (3.0.9)\n"
     ]
    }
   ],
   "source": [
    "!pip install doubleml"
   ]
  },
  {
   "cell_type": "code",
   "execution_count": 130,
   "id": "c96bad91",
   "metadata": {},
   "outputs": [],
   "source": [
    "# Оценим средний эффект воздействия с помощью DML\n",
    "# Данные в формате, необходимом для применения DML\n",
    "import doubleml as dml\n",
    "dml_standard_data = dml.DoubleMLData(\n",
    "                            data = df,\n",
    "                            y_col = 'import',\n",
    "                            d_cols = 'scale',\n",
    "                            x_cols = ['age', 'industry', 'worker'])\n",
    "\n",
    "# Метод оценивания E(Y | X, T)\n",
    "g_Y = deepcopy(best_regression)\n",
    "\n",
    "# Метод оценивания E(T | X)\n",
    "g_T = deepcopy(best_classifier)\n",
    "\n",
    "# Подготовка объекта\n",
    "dml_standard = dml.DoubleMLIRM(obj_dml_data = dml_standard_data,\n",
    "                               ml_g = g_Y, ml_m = g_T,\n",
    "                               n_rep = 1,\n",
    "                               n_folds = NFOLDS)\n",
    "\n",
    "# Оценим параметры\n",
    "dml_standard.fit()\n",
    "\n",
    "# Сохраним оценку\n",
    "ATE_dml_standard = dml_standard.coef[0]"
   ]
  },
  {
   "cell_type": "markdown",
   "id": "ef698f17",
   "metadata": {},
   "source": [
    "Сравните результаты и назовите ключевую предпосылку этих методов. Содержательно обсудите причины, по которым она может соблюдаться или нарушаться в вашем случае. Приведите содержательную экономическую интерпретацию оценки среднего эффекта воздействия."
   ]
  },
  {
   "cell_type": "code",
   "execution_count": 131,
   "id": "0df20f71",
   "metadata": {},
   "outputs": [
    {
     "name": "stdout",
     "output_type": "stream",
     "text": [
      "                  Оценка\n",
      "ATE                35.46\n",
      "ATE naive          41.09\n",
      "ATE ls             37.98\n",
      "ATE dml standard   33.64\n",
      "ATE cond           33.40\n",
      "ATE IPW            28.41\n",
      "ATE DR             33.47\n"
     ]
    }
   ],
   "source": [
    "print(pd.DataFrame(data    = [ATE, ATE_naive, ATE_ls, ATE_dml_standard,\n",
    "                             ATE_cond, ATE_IPW, ATE_DR],\n",
    "                   index   = ['ATE', 'ATE naive', 'ATE ls', 'ATE dml standard',\n",
    "                             'ATE cond', 'ATE IPW', 'ATE DR'],\n",
    "                   columns = ['Оценка']))"
   ]
  },
  {
   "cell_type": "code",
   "execution_count": null,
   "id": "04244ccc",
   "metadata": {},
   "outputs": [],
   "source": []
  },
  {
   "cell_type": "markdown",
   "id": "e288a892",
   "metadata": {},
   "source": [
    "Основные допущения этих методов — независимость и условная независимость — с высокой вероятностью нарушаются в наших данных, что негативно сказывается на точности оценки среднего эффекта воздействия (ATE)"
   ]
  },
  {
   "cell_type": "markdown",
   "id": "ecd788e6",
   "metadata": {},
   "source": [
    "5. Оцените локальный условный эффект воздействия с помощью:\n",
    "\n",
    "• двойного машинного обучения без инструментальной переменной.\n",
    "\n",
    "• двойного машинного обучения с инструментальной переменной.\n",
    "\n",
    "Сопоставьте результаты и объясните, в чем в вашем случае будет заключаться\n",
    "различие между средним эффектом воздействия и локальным средним эффектом воздействия. Приведите содержательную экономическую интерпретацию\n",
    "оценки локального среднего эффекта воздействия."
   ]
  },
  {
   "cell_type": "markdown",
   "id": "82c1a787",
   "metadata": {},
   "source": [
    "#### Оценивание LATE с помощью двойного машинного обучения без инструментальной переменной"
   ]
  },
  {
   "cell_type": "code",
   "execution_count": 342,
   "id": "a49591bf",
   "metadata": {},
   "outputs": [
    {
     "name": "stdout",
     "output_type": "stream",
     "text": [
      "================== DoubleMLIRM Object ==================\n",
      "\n",
      "------------------ Data summary      ------------------\n",
      "Outcome variable: import\n",
      "Treatment variable(s): ['scale']\n",
      "Covariates: ['age', 'industry', 'worker']\n",
      "Instrument variable(s): None\n",
      "No. Observations: 10000\n",
      "\n",
      "------------------ Score & algorithm ------------------\n",
      "Score function: ATE\n",
      "\n",
      "------------------ Machine learner   ------------------\n",
      "Learner ml_g: RandomForestRegressor(max_depth=10, min_samples_split=10)\n",
      "Learner ml_m: GradientBoostingClassifier(max_depth=4, min_samples_leaf=4)\n",
      "Out-of-sample Performance:\n",
      "Learner ml_g0 RMSE: [[4.03154256]]\n",
      "Learner ml_g1 RMSE: [[5.14594389]]\n",
      "Learner ml_m RMSE: [[0.28467612]]\n",
      "\n",
      "------------------ Resampling        ------------------\n",
      "No. folds: 5\n",
      "No. repeated sample splits: 1\n",
      "\n",
      "------------------ Fit summary       ------------------\n",
      "       coef  std err      t  P>|t|  2.5 %  97.5 %\n",
      "scale 33.62     0.26 128.10   0.00  33.10   34.13\n"
     ]
    }
   ],
   "source": [
    "# Данные в формате, необходимом для применения DML\n",
    "dml_standard2_data = dml.DoubleMLData(\n",
    "                             data = df,\n",
    "                             y_col = 'import',\n",
    "                             d_cols = 'scale',\n",
    "                             x_cols = ['age', 'industry', 'worker'])\n",
    "\n",
    "# Подготовка объекта\n",
    "dml_standard2 = dml.DoubleMLIRM(obj_dml_data = dml_standard2_data,\n",
    "                                ml_g = g_Y, ml_m = g_T,\n",
    "                                n_rep = 1,\n",
    "                                n_folds = NFOLDS)\n",
    "\n",
    "# Оценим параметры\n",
    "dml_standard2.fit()\n",
    "\n",
    "# Посмотрим на результат\n",
    "print(dml_standard2)\n",
    "\n",
    "# Сохраним оценку\n",
    "LATE_dml_standard2 = dml_standard2.coef[0]"
   ]
  },
  {
   "cell_type": "markdown",
   "id": "d9cb8ade",
   "metadata": {},
   "source": [
    "#### Оценивание LATE с помощью двойного машинного обучения с инструментальной переменной"
   ]
  },
  {
   "cell_type": "code",
   "execution_count": 343,
   "id": "49372beb",
   "metadata": {},
   "outputs": [
    {
     "name": "stdout",
     "output_type": "stream",
     "text": [
      "================== DoubleMLIIVM Object ==================\n",
      "\n",
      "------------------ Data summary      ------------------\n",
      "Outcome variable: import\n",
      "Treatment variable(s): ['scale']\n",
      "Covariates: ['age', 'industry', 'worker']\n",
      "Instrument variable(s): ['participation']\n",
      "No. Observations: 10000\n",
      "\n",
      "------------------ Score & algorithm ------------------\n",
      "Score function: LATE\n",
      "\n",
      "------------------ Machine learner   ------------------\n",
      "Learner ml_g: RandomForestRegressor(max_depth=10, min_samples_split=10)\n",
      "Learner ml_m: GradientBoostingClassifier(max_depth=4, min_samples_leaf=4)\n",
      "Learner ml_r: GradientBoostingClassifier(max_depth=4, min_samples_leaf=4)\n",
      "Out-of-sample Performance:\n",
      "Learner ml_g0 RMSE: [[6.49811357]]\n",
      "Learner ml_g1 RMSE: [[16.43838365]]\n",
      "Learner ml_m RMSE: [[0.36473926]]\n",
      "Learner ml_r0 RMSE: [[0.12135068]]\n",
      "Learner ml_r1 RMSE: [[0.39884571]]\n",
      "\n",
      "------------------ Resampling        ------------------\n",
      "No. folds: 5\n",
      "No. repeated sample splits: 1\n",
      "\n",
      "------------------ Fit summary       ------------------\n",
      "       coef  std err     t  P>|t|  2.5 %  97.5 %\n",
      "scale 35.29     0.68 51.79   0.00  33.96   36.63\n"
     ]
    }
   ],
   "source": [
    "# Данные в формате, необходимом для применения DML\n",
    "dml_iv_data = dml.DoubleMLData(data = df,\n",
    "                               y_col = 'import',\n",
    "                               d_cols = 'scale',\n",
    "                               z_cols = 'participation',\n",
    "                               x_cols = ['age', 'industry', 'worker'])\n",
    "\n",
    "# Метод оценивания E(Z | X)\n",
    "g_Z = deepcopy(best_classifier)\n",
    "\n",
    "# Подготовка объекта\n",
    "dml_iv = dml.DoubleMLIIVM(obj_dml_data = dml_iv_data,\n",
    "                          ml_g = g_Y, ml_m = g_Z, ml_r = g_T,\n",
    "                          n_rep = 1,\n",
    "                          n_folds = NFOLDS)\n",
    "\n",
    "# Оценим параметры\n",
    "dml_iv.fit()\n",
    "\n",
    "# Посмотрим на результат\n",
    "print(dml_iv)\n",
    "\n",
    "# Сохраним оценку\n",
    "LATE_dml_iv = dml_iv.coef[0]"
   ]
  },
  {
   "cell_type": "code",
   "execution_count": 344,
   "id": "4b0f045e",
   "metadata": {},
   "outputs": [
    {
     "name": "stdout",
     "output_type": "stream",
     "text": [
      "                   Оценка\n",
      "ATE                 35.46\n",
      "ATE naive           41.09\n",
      "ATE ls              37.98\n",
      "ATE dml standard    33.74\n",
      "ATE_cond            33.42\n",
      "ATE_IPW             28.41\n",
      "ATE_DR              33.46\n",
      "LATE                38.60\n",
      "LATE dml standard   33.62\n",
      "LATE dml IV         35.29\n"
     ]
    }
   ],
   "source": [
    "print(pd.DataFrame(data    = [ATE, ATE_naive, ATE_ls, ATE_dml_standard,\n",
    "                             ATE_cond, ATE_IPW, ATE_DR,\n",
    "                             LATE, LATE_dml_standard2, LATE_dml_iv],\n",
    "                   index   = ['ATE', 'ATE naive', 'ATE ls', 'ATE dml standard',\n",
    "                             'ATE_cond', 'ATE_IPW', 'ATE_DR',\n",
    "                             'LATE', 'LATE dml standard', 'LATE dml IV'],\n",
    "                   columns = ['Оценка']))"
   ]
  }
 ],
 "metadata": {
  "kernelspec": {
   "display_name": "Python 3 (ipykernel)",
   "language": "python",
   "name": "python3"
  },
  "language_info": {
   "codemirror_mode": {
    "name": "ipython",
    "version": 3
   },
   "file_extension": ".py",
   "mimetype": "text/x-python",
   "name": "python",
   "nbconvert_exporter": "python",
   "pygments_lexer": "ipython3",
   "version": "3.8.10"
  }
 },
 "nbformat": 4,
 "nbformat_minor": 5
}
